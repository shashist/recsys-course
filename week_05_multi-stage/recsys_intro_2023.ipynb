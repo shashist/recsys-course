{
  "cells": [
    {
      "cell_type": "code",
      "execution_count": 1,
      "id": "df293c4b",
      "metadata": {
        "id": "df293c4b"
      },
      "outputs": [],
      "source": [
        "from typing import Optional\n",
        "\n",
        "import abc\n",
        "import numpy as np\n",
        "import math\n",
        "import pandas as pd\n",
        "\n",
        "from sklearn.preprocessing import LabelEncoder"
      ]
    },
    {
      "cell_type": "code",
      "execution_count": 2,
      "id": "hTeuGltmvAo6",
      "metadata": {
        "colab": {
          "base_uri": "https://localhost:8080/"
        },
        "id": "hTeuGltmvAo6",
        "outputId": "d8ec5b5e-255b-4691-ee11-989b4bfa8c93"
      },
      "outputs": [
        {
          "output_type": "stream",
          "name": "stdout",
          "text": [
            "Drive already mounted at /content/drive; to attempt to forcibly remount, call drive.mount(\"/content/drive\", force_remount=True).\n"
          ]
        }
      ],
      "source": [
        "from google.colab import drive\n",
        "drive.mount('/content/drive')"
      ]
    },
    {
      "cell_type": "code",
      "execution_count": 3,
      "id": "eec5dc84",
      "metadata": {
        "id": "eec5dc84"
      },
      "outputs": [],
      "source": [
        "data_path = 'drive/MyDrive/mts_lib_copy/'\n",
        "# data_path = 'data/'\n",
        "log_name = 'interactions.csv'\n",
        "u_features_name = 'users.csv'\n",
        "i_features_name = 'items.csv'"
      ]
    },
    {
      "cell_type": "code",
      "execution_count": 4,
      "id": "87e2655f",
      "metadata": {
        "id": "87e2655f"
      },
      "outputs": [],
      "source": [
        "SEED = 123\n",
        "K=10"
      ]
    },
    {
      "cell_type": "markdown",
      "id": "95ff2f12",
      "metadata": {
        "id": "95ff2f12"
      },
      "source": [
        "# Рекомендательные системы\n",
        "\n",
        "Обсудим задачи рекомендательных систем и особенности данных. \n",
        "Реализуем базовую рекомендательную систему и простейшую метрику."
      ]
    },
    {
      "cell_type": "markdown",
      "id": "efea94ba",
      "metadata": {
        "id": "efea94ba"
      },
      "source": [
        "# Датасет"
      ]
    },
    {
      "cell_type": "markdown",
      "id": "9bbb36c1",
      "metadata": {
        "id": "9bbb36c1"
      },
      "source": [
        "Будем использовать датасет [MTS Library](https://www.kaggle.com/sharthz23/mts-library), содержащий данные об истории чтения книг пользователями МТС Библиотеки."
      ]
    },
    {
      "cell_type": "markdown",
      "id": "d98dab69",
      "metadata": {
        "id": "d98dab69"
      },
      "source": [
        "### Предобработка"
      ]
    },
    {
      "cell_type": "code",
      "execution_count": 5,
      "id": "228f4ce3",
      "metadata": {
        "id": "228f4ce3"
      },
      "outputs": [],
      "source": [
        "df = pd.read_csv(data_path+log_name, sep=',')"
      ]
    },
    {
      "cell_type": "code",
      "execution_count": 6,
      "id": "XDjzHP11vW7V",
      "metadata": {
        "id": "XDjzHP11vW7V"
      },
      "outputs": [],
      "source": [
        "assert df.shape[0] == 1533078"
      ]
    },
    {
      "cell_type": "code",
      "source": [
        "df.head(2)"
      ],
      "metadata": {
        "colab": {
          "base_uri": "https://localhost:8080/",
          "height": 112
        },
        "id": "rcXRk7N3YPZn",
        "outputId": "1ce58aa8-d674-4245-be22-ce81985b968f"
      },
      "id": "rcXRk7N3YPZn",
      "execution_count": 7,
      "outputs": [
        {
          "output_type": "execute_result",
          "data": {
            "text/plain": [
              "   user_id  item_id  progress  rating  start_date\n",
              "0   126706    14433        80     NaN  2018-01-01\n",
              "1   127290   140952        58     NaN  2018-01-01"
            ],
            "text/html": [
              "\n",
              "  <div id=\"df-60664489-78d0-41bb-83a6-dd8c2d4ff933\">\n",
              "    <div class=\"colab-df-container\">\n",
              "      <div>\n",
              "<style scoped>\n",
              "    .dataframe tbody tr th:only-of-type {\n",
              "        vertical-align: middle;\n",
              "    }\n",
              "\n",
              "    .dataframe tbody tr th {\n",
              "        vertical-align: top;\n",
              "    }\n",
              "\n",
              "    .dataframe thead th {\n",
              "        text-align: right;\n",
              "    }\n",
              "</style>\n",
              "<table border=\"1\" class=\"dataframe\">\n",
              "  <thead>\n",
              "    <tr style=\"text-align: right;\">\n",
              "      <th></th>\n",
              "      <th>user_id</th>\n",
              "      <th>item_id</th>\n",
              "      <th>progress</th>\n",
              "      <th>rating</th>\n",
              "      <th>start_date</th>\n",
              "    </tr>\n",
              "  </thead>\n",
              "  <tbody>\n",
              "    <tr>\n",
              "      <th>0</th>\n",
              "      <td>126706</td>\n",
              "      <td>14433</td>\n",
              "      <td>80</td>\n",
              "      <td>NaN</td>\n",
              "      <td>2018-01-01</td>\n",
              "    </tr>\n",
              "    <tr>\n",
              "      <th>1</th>\n",
              "      <td>127290</td>\n",
              "      <td>140952</td>\n",
              "      <td>58</td>\n",
              "      <td>NaN</td>\n",
              "      <td>2018-01-01</td>\n",
              "    </tr>\n",
              "  </tbody>\n",
              "</table>\n",
              "</div>\n",
              "      <button class=\"colab-df-convert\" onclick=\"convertToInteractive('df-60664489-78d0-41bb-83a6-dd8c2d4ff933')\"\n",
              "              title=\"Convert this dataframe to an interactive table.\"\n",
              "              style=\"display:none;\">\n",
              "        \n",
              "  <svg xmlns=\"http://www.w3.org/2000/svg\" height=\"24px\"viewBox=\"0 0 24 24\"\n",
              "       width=\"24px\">\n",
              "    <path d=\"M0 0h24v24H0V0z\" fill=\"none\"/>\n",
              "    <path d=\"M18.56 5.44l.94 2.06.94-2.06 2.06-.94-2.06-.94-.94-2.06-.94 2.06-2.06.94zm-11 1L8.5 8.5l.94-2.06 2.06-.94-2.06-.94L8.5 2.5l-.94 2.06-2.06.94zm10 10l.94 2.06.94-2.06 2.06-.94-2.06-.94-.94-2.06-.94 2.06-2.06.94z\"/><path d=\"M17.41 7.96l-1.37-1.37c-.4-.4-.92-.59-1.43-.59-.52 0-1.04.2-1.43.59L10.3 9.45l-7.72 7.72c-.78.78-.78 2.05 0 2.83L4 21.41c.39.39.9.59 1.41.59.51 0 1.02-.2 1.41-.59l7.78-7.78 2.81-2.81c.8-.78.8-2.07 0-2.86zM5.41 20L4 18.59l7.72-7.72 1.47 1.35L5.41 20z\"/>\n",
              "  </svg>\n",
              "      </button>\n",
              "      \n",
              "  <style>\n",
              "    .colab-df-container {\n",
              "      display:flex;\n",
              "      flex-wrap:wrap;\n",
              "      gap: 12px;\n",
              "    }\n",
              "\n",
              "    .colab-df-convert {\n",
              "      background-color: #E8F0FE;\n",
              "      border: none;\n",
              "      border-radius: 50%;\n",
              "      cursor: pointer;\n",
              "      display: none;\n",
              "      fill: #1967D2;\n",
              "      height: 32px;\n",
              "      padding: 0 0 0 0;\n",
              "      width: 32px;\n",
              "    }\n",
              "\n",
              "    .colab-df-convert:hover {\n",
              "      background-color: #E2EBFA;\n",
              "      box-shadow: 0px 1px 2px rgba(60, 64, 67, 0.3), 0px 1px 3px 1px rgba(60, 64, 67, 0.15);\n",
              "      fill: #174EA6;\n",
              "    }\n",
              "\n",
              "    [theme=dark] .colab-df-convert {\n",
              "      background-color: #3B4455;\n",
              "      fill: #D2E3FC;\n",
              "    }\n",
              "\n",
              "    [theme=dark] .colab-df-convert:hover {\n",
              "      background-color: #434B5C;\n",
              "      box-shadow: 0px 1px 3px 1px rgba(0, 0, 0, 0.15);\n",
              "      filter: drop-shadow(0px 1px 2px rgba(0, 0, 0, 0.3));\n",
              "      fill: #FFFFFF;\n",
              "    }\n",
              "  </style>\n",
              "\n",
              "      <script>\n",
              "        const buttonEl =\n",
              "          document.querySelector('#df-60664489-78d0-41bb-83a6-dd8c2d4ff933 button.colab-df-convert');\n",
              "        buttonEl.style.display =\n",
              "          google.colab.kernel.accessAllowed ? 'block' : 'none';\n",
              "\n",
              "        async function convertToInteractive(key) {\n",
              "          const element = document.querySelector('#df-60664489-78d0-41bb-83a6-dd8c2d4ff933');\n",
              "          const dataTable =\n",
              "            await google.colab.kernel.invokeFunction('convertToInteractive',\n",
              "                                                     [key], {});\n",
              "          if (!dataTable) return;\n",
              "\n",
              "          const docLinkHtml = 'Like what you see? Visit the ' +\n",
              "            '<a target=\"_blank\" href=https://colab.research.google.com/notebooks/data_table.ipynb>data table notebook</a>'\n",
              "            + ' to learn more about interactive tables.';\n",
              "          element.innerHTML = '';\n",
              "          dataTable['output_type'] = 'display_data';\n",
              "          await google.colab.output.renderOutput(dataTable, element);\n",
              "          const docLink = document.createElement('div');\n",
              "          docLink.innerHTML = docLinkHtml;\n",
              "          element.appendChild(docLink);\n",
              "        }\n",
              "      </script>\n",
              "    </div>\n",
              "  </div>\n",
              "  "
            ]
          },
          "metadata": {},
          "execution_count": 7
        }
      ]
    },
    {
      "cell_type": "code",
      "execution_count": 8,
      "id": "a9239191",
      "metadata": {
        "colab": {
          "base_uri": "https://localhost:8080/"
        },
        "id": "a9239191",
        "outputId": "10319f45-373f-42f3-df0f-f1757ac06f2e"
      },
      "outputs": [
        {
          "output_type": "stream",
          "name": "stdout",
          "text": [
            "CPU times: user 1.09 s, sys: 142 ms, total: 1.23 s\n",
            "Wall time: 2.21 s\n"
          ]
        }
      ],
      "source": [
        "%%time\n",
        "# конвертируем в дату\n",
        "df.loc[:, 'start_date'] = pd.to_datetime(df['start_date'], format=\"%Y-%m-%d\")\n",
        "# удаляем дубликаты, оставляя последний по времени\n",
        "df = df.sort_values('start_date').drop_duplicates(subset=['user_id', 'item_id'], keep='last')\n",
        "\n",
        "u_features = pd.read_csv(data_path+u_features_name, sep=',')\n",
        "i_features = pd.read_csv(data_path+i_features_name, sep=',')\n",
        "i_features.rename(columns={'id': 'item_id'}, inplace=True)"
      ]
    },
    {
      "cell_type": "markdown",
      "id": "3e8ee1e6",
      "metadata": {
        "id": "3e8ee1e6"
      },
      "source": [
        "### Данные"
      ]
    },
    {
      "cell_type": "code",
      "execution_count": 9,
      "id": "99a13299",
      "metadata": {
        "colab": {
          "base_uri": "https://localhost:8080/",
          "height": 112
        },
        "id": "99a13299",
        "outputId": "73017345-fcf7-4605-ad16-9d5aa6dbc911"
      },
      "outputs": [
        {
          "output_type": "execute_result",
          "data": {
            "text/plain": [
              "   user_id    age  sex\n",
              "0        1  45_54  NaN\n",
              "1        2  18_24  0.0"
            ],
            "text/html": [
              "\n",
              "  <div id=\"df-1e4466d5-2ffd-4906-87b0-9bd1683a7209\">\n",
              "    <div class=\"colab-df-container\">\n",
              "      <div>\n",
              "<style scoped>\n",
              "    .dataframe tbody tr th:only-of-type {\n",
              "        vertical-align: middle;\n",
              "    }\n",
              "\n",
              "    .dataframe tbody tr th {\n",
              "        vertical-align: top;\n",
              "    }\n",
              "\n",
              "    .dataframe thead th {\n",
              "        text-align: right;\n",
              "    }\n",
              "</style>\n",
              "<table border=\"1\" class=\"dataframe\">\n",
              "  <thead>\n",
              "    <tr style=\"text-align: right;\">\n",
              "      <th></th>\n",
              "      <th>user_id</th>\n",
              "      <th>age</th>\n",
              "      <th>sex</th>\n",
              "    </tr>\n",
              "  </thead>\n",
              "  <tbody>\n",
              "    <tr>\n",
              "      <th>0</th>\n",
              "      <td>1</td>\n",
              "      <td>45_54</td>\n",
              "      <td>NaN</td>\n",
              "    </tr>\n",
              "    <tr>\n",
              "      <th>1</th>\n",
              "      <td>2</td>\n",
              "      <td>18_24</td>\n",
              "      <td>0.0</td>\n",
              "    </tr>\n",
              "  </tbody>\n",
              "</table>\n",
              "</div>\n",
              "      <button class=\"colab-df-convert\" onclick=\"convertToInteractive('df-1e4466d5-2ffd-4906-87b0-9bd1683a7209')\"\n",
              "              title=\"Convert this dataframe to an interactive table.\"\n",
              "              style=\"display:none;\">\n",
              "        \n",
              "  <svg xmlns=\"http://www.w3.org/2000/svg\" height=\"24px\"viewBox=\"0 0 24 24\"\n",
              "       width=\"24px\">\n",
              "    <path d=\"M0 0h24v24H0V0z\" fill=\"none\"/>\n",
              "    <path d=\"M18.56 5.44l.94 2.06.94-2.06 2.06-.94-2.06-.94-.94-2.06-.94 2.06-2.06.94zm-11 1L8.5 8.5l.94-2.06 2.06-.94-2.06-.94L8.5 2.5l-.94 2.06-2.06.94zm10 10l.94 2.06.94-2.06 2.06-.94-2.06-.94-.94-2.06-.94 2.06-2.06.94z\"/><path d=\"M17.41 7.96l-1.37-1.37c-.4-.4-.92-.59-1.43-.59-.52 0-1.04.2-1.43.59L10.3 9.45l-7.72 7.72c-.78.78-.78 2.05 0 2.83L4 21.41c.39.39.9.59 1.41.59.51 0 1.02-.2 1.41-.59l7.78-7.78 2.81-2.81c.8-.78.8-2.07 0-2.86zM5.41 20L4 18.59l7.72-7.72 1.47 1.35L5.41 20z\"/>\n",
              "  </svg>\n",
              "      </button>\n",
              "      \n",
              "  <style>\n",
              "    .colab-df-container {\n",
              "      display:flex;\n",
              "      flex-wrap:wrap;\n",
              "      gap: 12px;\n",
              "    }\n",
              "\n",
              "    .colab-df-convert {\n",
              "      background-color: #E8F0FE;\n",
              "      border: none;\n",
              "      border-radius: 50%;\n",
              "      cursor: pointer;\n",
              "      display: none;\n",
              "      fill: #1967D2;\n",
              "      height: 32px;\n",
              "      padding: 0 0 0 0;\n",
              "      width: 32px;\n",
              "    }\n",
              "\n",
              "    .colab-df-convert:hover {\n",
              "      background-color: #E2EBFA;\n",
              "      box-shadow: 0px 1px 2px rgba(60, 64, 67, 0.3), 0px 1px 3px 1px rgba(60, 64, 67, 0.15);\n",
              "      fill: #174EA6;\n",
              "    }\n",
              "\n",
              "    [theme=dark] .colab-df-convert {\n",
              "      background-color: #3B4455;\n",
              "      fill: #D2E3FC;\n",
              "    }\n",
              "\n",
              "    [theme=dark] .colab-df-convert:hover {\n",
              "      background-color: #434B5C;\n",
              "      box-shadow: 0px 1px 3px 1px rgba(0, 0, 0, 0.15);\n",
              "      filter: drop-shadow(0px 1px 2px rgba(0, 0, 0, 0.3));\n",
              "      fill: #FFFFFF;\n",
              "    }\n",
              "  </style>\n",
              "\n",
              "      <script>\n",
              "        const buttonEl =\n",
              "          document.querySelector('#df-1e4466d5-2ffd-4906-87b0-9bd1683a7209 button.colab-df-convert');\n",
              "        buttonEl.style.display =\n",
              "          google.colab.kernel.accessAllowed ? 'block' : 'none';\n",
              "\n",
              "        async function convertToInteractive(key) {\n",
              "          const element = document.querySelector('#df-1e4466d5-2ffd-4906-87b0-9bd1683a7209');\n",
              "          const dataTable =\n",
              "            await google.colab.kernel.invokeFunction('convertToInteractive',\n",
              "                                                     [key], {});\n",
              "          if (!dataTable) return;\n",
              "\n",
              "          const docLinkHtml = 'Like what you see? Visit the ' +\n",
              "            '<a target=\"_blank\" href=https://colab.research.google.com/notebooks/data_table.ipynb>data table notebook</a>'\n",
              "            + ' to learn more about interactive tables.';\n",
              "          element.innerHTML = '';\n",
              "          dataTable['output_type'] = 'display_data';\n",
              "          await google.colab.output.renderOutput(dataTable, element);\n",
              "          const docLink = document.createElement('div');\n",
              "          docLink.innerHTML = docLinkHtml;\n",
              "          element.appendChild(docLink);\n",
              "        }\n",
              "      </script>\n",
              "    </div>\n",
              "  </div>\n",
              "  "
            ]
          },
          "metadata": {},
          "execution_count": 9
        }
      ],
      "source": [
        "u_features.head(2)"
      ]
    },
    {
      "cell_type": "code",
      "execution_count": 10,
      "id": "65d70ce6",
      "metadata": {
        "colab": {
          "base_uri": "https://localhost:8080/",
          "height": 148
        },
        "id": "65d70ce6",
        "outputId": "c6afe3a8-f669-40da-bb8f-7a739138fa8b"
      },
      "outputs": [
        {
          "output_type": "stream",
          "name": "stdout",
          "text": [
            "CPU times: user 204 µs, sys: 0 ns, total: 204 µs\n",
            "Wall time: 211 µs\n"
          ]
        },
        {
          "output_type": "execute_result",
          "data": {
            "text/plain": [
              "   item_id              title  \\\n",
              "0   128115   Ворон-челобитчик   \n",
              "1   210979  Скрипка Ротшильда   \n",
              "\n",
              "                                              genres                 authors  \\\n",
              "0  Зарубежные детские книги,Сказки,Зарубежная кла...  Михаил Салтыков-Щедрин   \n",
              "1  Классическая проза,Литература 19 века,Русская ...             Антон Чехов   \n",
              "\n",
              "   year  \n",
              "0  1886  \n",
              "1  1894  "
            ],
            "text/html": [
              "\n",
              "  <div id=\"df-9ea66dc0-f49f-4f74-88b8-3ca8e27c0a18\">\n",
              "    <div class=\"colab-df-container\">\n",
              "      <div>\n",
              "<style scoped>\n",
              "    .dataframe tbody tr th:only-of-type {\n",
              "        vertical-align: middle;\n",
              "    }\n",
              "\n",
              "    .dataframe tbody tr th {\n",
              "        vertical-align: top;\n",
              "    }\n",
              "\n",
              "    .dataframe thead th {\n",
              "        text-align: right;\n",
              "    }\n",
              "</style>\n",
              "<table border=\"1\" class=\"dataframe\">\n",
              "  <thead>\n",
              "    <tr style=\"text-align: right;\">\n",
              "      <th></th>\n",
              "      <th>item_id</th>\n",
              "      <th>title</th>\n",
              "      <th>genres</th>\n",
              "      <th>authors</th>\n",
              "      <th>year</th>\n",
              "    </tr>\n",
              "  </thead>\n",
              "  <tbody>\n",
              "    <tr>\n",
              "      <th>0</th>\n",
              "      <td>128115</td>\n",
              "      <td>Ворон-челобитчик</td>\n",
              "      <td>Зарубежные детские книги,Сказки,Зарубежная кла...</td>\n",
              "      <td>Михаил Салтыков-Щедрин</td>\n",
              "      <td>1886</td>\n",
              "    </tr>\n",
              "    <tr>\n",
              "      <th>1</th>\n",
              "      <td>210979</td>\n",
              "      <td>Скрипка Ротшильда</td>\n",
              "      <td>Классическая проза,Литература 19 века,Русская ...</td>\n",
              "      <td>Антон Чехов</td>\n",
              "      <td>1894</td>\n",
              "    </tr>\n",
              "  </tbody>\n",
              "</table>\n",
              "</div>\n",
              "      <button class=\"colab-df-convert\" onclick=\"convertToInteractive('df-9ea66dc0-f49f-4f74-88b8-3ca8e27c0a18')\"\n",
              "              title=\"Convert this dataframe to an interactive table.\"\n",
              "              style=\"display:none;\">\n",
              "        \n",
              "  <svg xmlns=\"http://www.w3.org/2000/svg\" height=\"24px\"viewBox=\"0 0 24 24\"\n",
              "       width=\"24px\">\n",
              "    <path d=\"M0 0h24v24H0V0z\" fill=\"none\"/>\n",
              "    <path d=\"M18.56 5.44l.94 2.06.94-2.06 2.06-.94-2.06-.94-.94-2.06-.94 2.06-2.06.94zm-11 1L8.5 8.5l.94-2.06 2.06-.94-2.06-.94L8.5 2.5l-.94 2.06-2.06.94zm10 10l.94 2.06.94-2.06 2.06-.94-2.06-.94-.94-2.06-.94 2.06-2.06.94z\"/><path d=\"M17.41 7.96l-1.37-1.37c-.4-.4-.92-.59-1.43-.59-.52 0-1.04.2-1.43.59L10.3 9.45l-7.72 7.72c-.78.78-.78 2.05 0 2.83L4 21.41c.39.39.9.59 1.41.59.51 0 1.02-.2 1.41-.59l7.78-7.78 2.81-2.81c.8-.78.8-2.07 0-2.86zM5.41 20L4 18.59l7.72-7.72 1.47 1.35L5.41 20z\"/>\n",
              "  </svg>\n",
              "      </button>\n",
              "      \n",
              "  <style>\n",
              "    .colab-df-container {\n",
              "      display:flex;\n",
              "      flex-wrap:wrap;\n",
              "      gap: 12px;\n",
              "    }\n",
              "\n",
              "    .colab-df-convert {\n",
              "      background-color: #E8F0FE;\n",
              "      border: none;\n",
              "      border-radius: 50%;\n",
              "      cursor: pointer;\n",
              "      display: none;\n",
              "      fill: #1967D2;\n",
              "      height: 32px;\n",
              "      padding: 0 0 0 0;\n",
              "      width: 32px;\n",
              "    }\n",
              "\n",
              "    .colab-df-convert:hover {\n",
              "      background-color: #E2EBFA;\n",
              "      box-shadow: 0px 1px 2px rgba(60, 64, 67, 0.3), 0px 1px 3px 1px rgba(60, 64, 67, 0.15);\n",
              "      fill: #174EA6;\n",
              "    }\n",
              "\n",
              "    [theme=dark] .colab-df-convert {\n",
              "      background-color: #3B4455;\n",
              "      fill: #D2E3FC;\n",
              "    }\n",
              "\n",
              "    [theme=dark] .colab-df-convert:hover {\n",
              "      background-color: #434B5C;\n",
              "      box-shadow: 0px 1px 3px 1px rgba(0, 0, 0, 0.15);\n",
              "      filter: drop-shadow(0px 1px 2px rgba(0, 0, 0, 0.3));\n",
              "      fill: #FFFFFF;\n",
              "    }\n",
              "  </style>\n",
              "\n",
              "      <script>\n",
              "        const buttonEl =\n",
              "          document.querySelector('#df-9ea66dc0-f49f-4f74-88b8-3ca8e27c0a18 button.colab-df-convert');\n",
              "        buttonEl.style.display =\n",
              "          google.colab.kernel.accessAllowed ? 'block' : 'none';\n",
              "\n",
              "        async function convertToInteractive(key) {\n",
              "          const element = document.querySelector('#df-9ea66dc0-f49f-4f74-88b8-3ca8e27c0a18');\n",
              "          const dataTable =\n",
              "            await google.colab.kernel.invokeFunction('convertToInteractive',\n",
              "                                                     [key], {});\n",
              "          if (!dataTable) return;\n",
              "\n",
              "          const docLinkHtml = 'Like what you see? Visit the ' +\n",
              "            '<a target=\"_blank\" href=https://colab.research.google.com/notebooks/data_table.ipynb>data table notebook</a>'\n",
              "            + ' to learn more about interactive tables.';\n",
              "          element.innerHTML = '';\n",
              "          dataTable['output_type'] = 'display_data';\n",
              "          await google.colab.output.renderOutput(dataTable, element);\n",
              "          const docLink = document.createElement('div');\n",
              "          docLink.innerHTML = docLinkHtml;\n",
              "          element.appendChild(docLink);\n",
              "        }\n",
              "      </script>\n",
              "    </div>\n",
              "  </div>\n",
              "  "
            ]
          },
          "metadata": {},
          "execution_count": 10
        }
      ],
      "source": [
        "%%time\n",
        "i_features.head(2)"
      ]
    },
    {
      "cell_type": "code",
      "source": [
        "i_features.shape, i_features['item_id'].isin(df['item_id'].unique()).shape"
      ],
      "metadata": {
        "colab": {
          "base_uri": "https://localhost:8080/"
        },
        "id": "0-E94qWuOZAN",
        "outputId": "15c220e7-b392-4128-9ec4-bd305ccd81f6"
      },
      "id": "0-E94qWuOZAN",
      "execution_count": 11,
      "outputs": [
        {
          "output_type": "execute_result",
          "data": {
            "text/plain": [
              "((59599, 5), (59599,))"
            ]
          },
          "metadata": {},
          "execution_count": 11
        }
      ]
    },
    {
      "cell_type": "code",
      "execution_count": 12,
      "id": "1867acd5",
      "metadata": {
        "id": "1867acd5"
      },
      "outputs": [],
      "source": [
        "def get_log_info(log, user_id='user_id', item_id='item_id'):\n",
        "    print(f'Длина лога = {log.shape[0]},\\nколичество пользователей = {log[user_id].nunique()},\\nколичество объектов = {log[item_id].nunique()}')"
      ]
    },
    {
      "cell_type": "code",
      "execution_count": 13,
      "id": "c3286062",
      "metadata": {
        "colab": {
          "base_uri": "https://localhost:8080/"
        },
        "id": "c3286062",
        "outputId": "5d4063ab-f3cb-4c8d-bf0a-e311776aef43"
      },
      "outputs": [
        {
          "output_type": "stream",
          "name": "stdout",
          "text": [
            "Длина лога = 1532998,\n",
            "количество пользователей = 151600,\n",
            "количество объектов = 59599\n"
          ]
        }
      ],
      "source": [
        "get_log_info(df)"
      ]
    },
    {
      "cell_type": "code",
      "execution_count": 14,
      "id": "e2ff635b",
      "metadata": {
        "colab": {
          "base_uri": "https://localhost:8080/",
          "height": 35
        },
        "id": "e2ff635b",
        "outputId": "d39f6f7d-3572-4ec6-cc65-147224236967"
      },
      "outputs": [
        {
          "output_type": "execute_result",
          "data": {
            "text/plain": [
              "'Количество рейтингов = 285337, что сильно меньше, чем количество данных о прогрессе чтения (1532998)'"
            ],
            "application/vnd.google.colaboratory.intrinsic+json": {
              "type": "string"
            }
          },
          "metadata": {},
          "execution_count": 14
        }
      ],
      "source": [
        "f\"Количество рейтингов = {(~df['rating'].isna()).sum()}, что сильно меньше, чем количество данных о прогрессе чтения ({(~df['progress'].isna()).sum()})\"\n"
      ]
    },
    {
      "cell_type": "code",
      "source": [
        "df.head(2)"
      ],
      "metadata": {
        "colab": {
          "base_uri": "https://localhost:8080/",
          "height": 112
        },
        "id": "D6EjAiRRZmo4",
        "outputId": "af5bfc6a-6235-4bda-9e83-feeb77dadc2a"
      },
      "id": "D6EjAiRRZmo4",
      "execution_count": 15,
      "outputs": [
        {
          "output_type": "execute_result",
          "data": {
            "text/plain": [
              "      user_id  item_id  progress  rating start_date\n",
              "0      126706    14433        80     NaN 2018-01-01\n",
              "1437    97128   245669         1     NaN 2018-01-01"
            ],
            "text/html": [
              "\n",
              "  <div id=\"df-659454b2-fc54-4aaa-b678-2a52d9fe9eec\">\n",
              "    <div class=\"colab-df-container\">\n",
              "      <div>\n",
              "<style scoped>\n",
              "    .dataframe tbody tr th:only-of-type {\n",
              "        vertical-align: middle;\n",
              "    }\n",
              "\n",
              "    .dataframe tbody tr th {\n",
              "        vertical-align: top;\n",
              "    }\n",
              "\n",
              "    .dataframe thead th {\n",
              "        text-align: right;\n",
              "    }\n",
              "</style>\n",
              "<table border=\"1\" class=\"dataframe\">\n",
              "  <thead>\n",
              "    <tr style=\"text-align: right;\">\n",
              "      <th></th>\n",
              "      <th>user_id</th>\n",
              "      <th>item_id</th>\n",
              "      <th>progress</th>\n",
              "      <th>rating</th>\n",
              "      <th>start_date</th>\n",
              "    </tr>\n",
              "  </thead>\n",
              "  <tbody>\n",
              "    <tr>\n",
              "      <th>0</th>\n",
              "      <td>126706</td>\n",
              "      <td>14433</td>\n",
              "      <td>80</td>\n",
              "      <td>NaN</td>\n",
              "      <td>2018-01-01</td>\n",
              "    </tr>\n",
              "    <tr>\n",
              "      <th>1437</th>\n",
              "      <td>97128</td>\n",
              "      <td>245669</td>\n",
              "      <td>1</td>\n",
              "      <td>NaN</td>\n",
              "      <td>2018-01-01</td>\n",
              "    </tr>\n",
              "  </tbody>\n",
              "</table>\n",
              "</div>\n",
              "      <button class=\"colab-df-convert\" onclick=\"convertToInteractive('df-659454b2-fc54-4aaa-b678-2a52d9fe9eec')\"\n",
              "              title=\"Convert this dataframe to an interactive table.\"\n",
              "              style=\"display:none;\">\n",
              "        \n",
              "  <svg xmlns=\"http://www.w3.org/2000/svg\" height=\"24px\"viewBox=\"0 0 24 24\"\n",
              "       width=\"24px\">\n",
              "    <path d=\"M0 0h24v24H0V0z\" fill=\"none\"/>\n",
              "    <path d=\"M18.56 5.44l.94 2.06.94-2.06 2.06-.94-2.06-.94-.94-2.06-.94 2.06-2.06.94zm-11 1L8.5 8.5l.94-2.06 2.06-.94-2.06-.94L8.5 2.5l-.94 2.06-2.06.94zm10 10l.94 2.06.94-2.06 2.06-.94-2.06-.94-.94-2.06-.94 2.06-2.06.94z\"/><path d=\"M17.41 7.96l-1.37-1.37c-.4-.4-.92-.59-1.43-.59-.52 0-1.04.2-1.43.59L10.3 9.45l-7.72 7.72c-.78.78-.78 2.05 0 2.83L4 21.41c.39.39.9.59 1.41.59.51 0 1.02-.2 1.41-.59l7.78-7.78 2.81-2.81c.8-.78.8-2.07 0-2.86zM5.41 20L4 18.59l7.72-7.72 1.47 1.35L5.41 20z\"/>\n",
              "  </svg>\n",
              "      </button>\n",
              "      \n",
              "  <style>\n",
              "    .colab-df-container {\n",
              "      display:flex;\n",
              "      flex-wrap:wrap;\n",
              "      gap: 12px;\n",
              "    }\n",
              "\n",
              "    .colab-df-convert {\n",
              "      background-color: #E8F0FE;\n",
              "      border: none;\n",
              "      border-radius: 50%;\n",
              "      cursor: pointer;\n",
              "      display: none;\n",
              "      fill: #1967D2;\n",
              "      height: 32px;\n",
              "      padding: 0 0 0 0;\n",
              "      width: 32px;\n",
              "    }\n",
              "\n",
              "    .colab-df-convert:hover {\n",
              "      background-color: #E2EBFA;\n",
              "      box-shadow: 0px 1px 2px rgba(60, 64, 67, 0.3), 0px 1px 3px 1px rgba(60, 64, 67, 0.15);\n",
              "      fill: #174EA6;\n",
              "    }\n",
              "\n",
              "    [theme=dark] .colab-df-convert {\n",
              "      background-color: #3B4455;\n",
              "      fill: #D2E3FC;\n",
              "    }\n",
              "\n",
              "    [theme=dark] .colab-df-convert:hover {\n",
              "      background-color: #434B5C;\n",
              "      box-shadow: 0px 1px 3px 1px rgba(0, 0, 0, 0.15);\n",
              "      filter: drop-shadow(0px 1px 2px rgba(0, 0, 0, 0.3));\n",
              "      fill: #FFFFFF;\n",
              "    }\n",
              "  </style>\n",
              "\n",
              "      <script>\n",
              "        const buttonEl =\n",
              "          document.querySelector('#df-659454b2-fc54-4aaa-b678-2a52d9fe9eec button.colab-df-convert');\n",
              "        buttonEl.style.display =\n",
              "          google.colab.kernel.accessAllowed ? 'block' : 'none';\n",
              "\n",
              "        async function convertToInteractive(key) {\n",
              "          const element = document.querySelector('#df-659454b2-fc54-4aaa-b678-2a52d9fe9eec');\n",
              "          const dataTable =\n",
              "            await google.colab.kernel.invokeFunction('convertToInteractive',\n",
              "                                                     [key], {});\n",
              "          if (!dataTable) return;\n",
              "\n",
              "          const docLinkHtml = 'Like what you see? Visit the ' +\n",
              "            '<a target=\"_blank\" href=https://colab.research.google.com/notebooks/data_table.ipynb>data table notebook</a>'\n",
              "            + ' to learn more about interactive tables.';\n",
              "          element.innerHTML = '';\n",
              "          dataTable['output_type'] = 'display_data';\n",
              "          await google.colab.output.renderOutput(dataTable, element);\n",
              "          const docLink = document.createElement('div');\n",
              "          docLink.innerHTML = docLinkHtml;\n",
              "          element.appendChild(docLink);\n",
              "        }\n",
              "      </script>\n",
              "    </div>\n",
              "  </div>\n",
              "  "
            ]
          },
          "metadata": {},
          "execution_count": 15
        }
      ]
    },
    {
      "cell_type": "markdown",
      "id": "9a766a35",
      "metadata": {
        "id": "9a766a35"
      },
      "source": [
        "## Особенности данных в задаче рекомендаций\n",
        "- всегда есть id пользователей/сессий и объектов\n",
        "- часто есть timestamp (знаем об изменениях предпочтений пользователей во времени)\n",
        "- есть оценка релевантности объектов для пользователей"
      ]
    },
    {
      "cell_type": "code",
      "source": [
        "df['progress'].min(), df['progress'].max(), df['rating'].min(), df['rating'].max()"
      ],
      "metadata": {
        "colab": {
          "base_uri": "https://localhost:8080/"
        },
        "id": "ChVj1oquaGuL",
        "outputId": "16684dac-2e6c-4302-bcbb-f7e51f69fad0"
      },
      "id": "ChVj1oquaGuL",
      "execution_count": 16,
      "outputs": [
        {
          "output_type": "execute_result",
          "data": {
            "text/plain": [
              "(0, 100, 1.0, 5.0)"
            ]
          },
          "metadata": {},
          "execution_count": 16
        }
      ]
    },
    {
      "cell_type": "markdown",
      "id": "5e9b14ae",
      "metadata": {
        "id": "5e9b14ae"
      },
      "source": [
        "## Типы feedback\n",
        "В нашем датасете есть progress - процент прочтения книги и rating - оценка, которую пользователь поставил. \n",
        "Это отличная иллюстрация для implicit и explicit feedback. Если пользователь поставил оценку, мы можем быть сильно уверены в том, насколько ему нравится книга. Но факт прочтения какой-то доли контента — тоже важный сигнал, и этой информации гораздо больше.\n",
        "\n",
        "**Explicit**\n",
        "- мало, но четко отражает предпочтения пользователя\n",
        "- можно учить модели регрессии и ранжирования\n",
        "- смещен в сторону \"оценивает лучшая версия меня\" (хоть мы и не говорим сегодня о вопросах психологии/этики)\n",
        "- может быть двумодальное распределение (хочу похвалить или хочу поругать)\n",
        "\n",
        "**Implicit**\n",
        "- много\n",
        "- разнородный\n",
        "- часто не содержит негативного опыта/его надо извлекать на основе правил\n",
        "- показывал реальные предпочтения пользователей"
      ]
    },
    {
      "cell_type": "markdown",
      "id": "77eddff6",
      "metadata": {
        "id": "77eddff6"
      },
      "source": [
        "## Задачи\n",
        "\n",
        "* предсказать для пользователя top-k релевантных объектов\n",
        "* оценить релевантность выбранных пар пользователь-объект / переранжировать объекты для пользователя\n",
        "* найти похожие объекты/похожих пользователей\n",
        "* рекомендовать к сессии/корзине/товару"
      ]
    },
    {
      "cell_type": "markdown",
      "id": "d6d1e28f",
      "metadata": {
        "id": "d6d1e28f"
      },
      "source": [
        "# EDA"
      ]
    },
    {
      "cell_type": "markdown",
      "id": "488c0a0b",
      "metadata": {
        "id": "488c0a0b"
      },
      "source": [
        "## Распределение рейтинга и доли прочтения"
      ]
    },
    {
      "cell_type": "code",
      "execution_count": 17,
      "id": "a5e390d3",
      "metadata": {
        "colab": {
          "base_uri": "https://localhost:8080/",
          "height": 320
        },
        "id": "a5e390d3",
        "outputId": "589db02a-bb51-41e3-d41f-caaf343b0875"
      },
      "outputs": [
        {
          "output_type": "display_data",
          "data": {
            "text/plain": [
              "<Figure size 720x360 with 1 Axes>"
            ],
            "image/png": "[encoded data removed]"
          },
          "metadata": {
            "needs_background": "light"
          }
        }
      ],
      "source": [
        "df['progress'].hist(bins=50, figsize=(10, 5));"
      ]
    },
    {
      "cell_type": "markdown",
      "id": "2f0cc915",
      "metadata": {
        "id": "2f0cc915"
      },
      "source": [
        "Либо бросают быстро, либо дочитывают до конца"
      ]
    },
    {
      "cell_type": "code",
      "execution_count": 18,
      "id": "0754cc49",
      "metadata": {
        "colab": {
          "base_uri": "https://localhost:8080/",
          "height": 320
        },
        "id": "0754cc49",
        "outputId": "cdb8ae00-a9a4-475c-ef56-0ffc0db11f5d"
      },
      "outputs": [
        {
          "output_type": "display_data",
          "data": {
            "text/plain": [
              "<Figure size 720x360 with 1 Axes>"
            ],
            "image/png": "[encoded data removed]"
          },
          "metadata": {
            "needs_background": "light"
          }
        }
      ],
      "source": [
        "df['rating'].hist(bins=10, figsize=(10, 5));"
      ]
    },
    {
      "cell_type": "markdown",
      "id": "70284fd0",
      "metadata": {
        "id": "70284fd0"
      },
      "source": [
        "Пользователи взаимодействуют с айтемами, которые им, скорее всего, понравятся, и предпочитают ставить оценки понравившимся, поэтому в реальных данных часто наблюдается смещение в сторону положительных оценок."
      ]
    },
    {
      "cell_type": "code",
      "execution_count": 19,
      "id": "50e731ec",
      "metadata": {
        "colab": {
          "base_uri": "https://localhost:8080/"
        },
        "id": "50e731ec",
        "outputId": "2501fec1-d5f0-424d-8d21-16f71ce1d549"
      },
      "outputs": [
        {
          "output_type": "execute_result",
          "data": {
            "text/plain": [
              "5.0    214703\n",
              "4.0     40382\n",
              "3.0     18273\n",
              "1.0      6115\n",
              "2.0      5864\n",
              "Name: rating, dtype: int64"
            ]
          },
          "metadata": {},
          "execution_count": 19
        }
      ],
      "source": [
        "df['rating'].value_counts()"
      ]
    },
    {
      "cell_type": "markdown",
      "id": "a13fc208",
      "metadata": {
        "id": "a13fc208"
      },
      "source": [
        "## Распределение числа прочтений у пользователя / книги"
      ]
    },
    {
      "cell_type": "code",
      "execution_count": 20,
      "id": "61c3f05f",
      "metadata": {
        "id": "61c3f05f"
      },
      "outputs": [],
      "source": [
        "def group_by_and_plot(df, group_by_name, rating_col_name, quantile=0.99, title=''):\n",
        "    grouped = df.groupby(group_by_name)[rating_col_name].count()\n",
        "    print(grouped.describe(percentiles=[0.05, .25, .5, .75, 0.95]))\n",
        "    grouped[grouped < grouped.quantile(quantile)].plot(kind='hist', bins=50, figsize=(10, 5), title=title)\n",
        "    return grouped"
      ]
    },
    {
      "cell_type": "code",
      "execution_count": 21,
      "id": "5c962564",
      "metadata": {
        "colab": {
          "base_uri": "https://localhost:8080/",
          "height": 532
        },
        "id": "5c962564",
        "outputId": "97cdf752-96b2-40c8-bc46-df2b6cf3ec1f"
      },
      "outputs": [
        {
          "output_type": "stream",
          "name": "stdout",
          "text": [
            "count    151600.000000\n",
            "mean         10.112124\n",
            "std          20.922963\n",
            "min           1.000000\n",
            "5%            3.000000\n",
            "25%           5.000000\n",
            "50%           7.000000\n",
            "75%          10.000000\n",
            "95%          20.000000\n",
            "max        2091.000000\n",
            "Name: progress, dtype: float64\n"
          ]
        },
        {
          "output_type": "display_data",
          "data": {
            "text/plain": [
              "<Figure size 720x360 with 1 Axes>"
            ],
            "image/png": "[encoded data removed]"
          },
          "metadata": {
            "needs_background": "light"
          }
        }
      ],
      "source": [
        "user_count = group_by_and_plot(df, group_by_name='user_id', rating_col_name='progress', quantile=0.99, title='Количество прочтений у пользователя')"
      ]
    },
    {
      "cell_type": "code",
      "execution_count": 22,
      "id": "bfd74bf3",
      "metadata": {
        "colab": {
          "base_uri": "https://localhost:8080/",
          "height": 532
        },
        "id": "bfd74bf3",
        "outputId": "0dd345d1-d399-4383-db30-1335abb62d3e"
      },
      "outputs": [
        {
          "output_type": "stream",
          "name": "stdout",
          "text": [
            "count    59599.000000\n",
            "mean        25.721875\n",
            "std         60.665733\n",
            "min          2.000000\n",
            "5%           9.000000\n",
            "25%         13.000000\n",
            "50%         16.000000\n",
            "75%         21.000000\n",
            "95%         65.000000\n",
            "max       6575.000000\n",
            "Name: progress, dtype: float64\n"
          ]
        },
        {
          "output_type": "display_data",
          "data": {
            "text/plain": [
              "<Figure size 720x360 with 1 Axes>"
            ],
            "image/png": "[encoded data removed]"
          },
          "metadata": {
            "needs_background": "light"
          }
        }
      ],
      "source": [
        "item_count = group_by_and_plot(df, group_by_name='item_id', rating_col_name='progress', quantile=0.99, title='Количество прочтений у книги')"
      ]
    },
    {
      "cell_type": "markdown",
      "id": "8db8372a",
      "metadata": {
        "id": "8db8372a"
      },
      "source": [
        "Данные довольно плотные, у 95% пользователей более трех взаимодействий, у 95% книг более 9 прочтений"
      ]
    },
    {
      "cell_type": "code",
      "execution_count": 23,
      "id": "4e811a8b",
      "metadata": {
        "colab": {
          "base_uri": "https://localhost:8080/",
          "height": 532
        },
        "id": "4e811a8b",
        "outputId": "6677c2ee-f22b-4b06-d6c4-6d9af65c0273"
      },
      "outputs": [
        {
          "output_type": "stream",
          "name": "stdout",
          "text": [
            "count    101885.000000\n",
            "mean          2.800579\n",
            "std          10.026988\n",
            "min           1.000000\n",
            "5%            1.000000\n",
            "25%           1.000000\n",
            "50%           1.000000\n",
            "75%           2.000000\n",
            "95%           5.000000\n",
            "max         691.000000\n",
            "Name: rating, dtype: float64\n"
          ]
        },
        {
          "output_type": "display_data",
          "data": {
            "text/plain": [
              "<Figure size 720x360 with 1 Axes>"
            ],
            "image/png": "[encoded data removed]"
          },
          "metadata": {
            "needs_background": "light"
          }
        }
      ],
      "source": [
        "group_by_and_plot(df[~df['rating'].isna()], group_by_name='user_id', rating_col_name='rating', quantile=0.99, title='Количество оценок у пользователя');"
      ]
    },
    {
      "cell_type": "markdown",
      "id": "9f440890",
      "metadata": {
        "id": "9f440890"
      },
      "source": [
        "Оценок гораздо меньше. Часто мы не хотим что-то рекомендовать человеку на основании одной оценки или строить матричные разложения/учить сетки на супер-разреженных данных, и поэтому используем implicit feedback."
      ]
    },
    {
      "cell_type": "markdown",
      "id": "a6f0377d",
      "metadata": {
        "id": "a6f0377d"
      },
      "source": [
        "<a id='filter'></a>\n",
        "# 0 Фильтрация данных"
      ]
    },
    {
      "cell_type": "markdown",
      "id": "390d4551",
      "metadata": {
        "id": "390d4551"
      },
      "source": [
        "Будем использовать историю чтения книг, а не оценки, так как этих данных больше и они могут лучше характеризовать актуальные предпочтения пользователей. \n",
        "\n",
        "Что такое релевантная книга по доле прочитанного? Прочитанная на 100%? А если на 60%?\n",
        "Самый простой способ — отталкиваться от бизнес-требований и бизнес-метрик.\n"
      ]
    },
    {
      "cell_type": "markdown",
      "id": "a15860e0",
      "metadata": {
        "id": "a15860e0"
      },
      "source": [
        "### Оставим взаимодействия с progress > 50"
      ]
    },
    {
      "cell_type": "code",
      "execution_count": 24,
      "id": "1ffca0fb",
      "metadata": {
        "id": "1ffca0fb"
      },
      "outputs": [],
      "source": [
        "filtered_df = df[df['progress'] > 50]"
      ]
    },
    {
      "cell_type": "code",
      "execution_count": 25,
      "id": "067ffdae",
      "metadata": {
        "colab": {
          "base_uri": "https://localhost:8080/"
        },
        "id": "067ffdae",
        "outputId": "a5c617c4-34d1-45fc-884e-70c376877336"
      },
      "outputs": [
        {
          "output_type": "stream",
          "name": "stdout",
          "text": [
            "Длина лога = 712368,\n",
            "количество пользователей = 143465,\n",
            "количество объектов = 59560\n"
          ]
        }
      ],
      "source": [
        "get_log_info(filtered_df)"
      ]
    },
    {
      "cell_type": "markdown",
      "id": "7d707085",
      "metadata": {
        "id": "7d707085"
      },
      "source": [
        "### Удалим объекты менее чем с 3 взаимодействиями и пользователей с менее 5 взаимодействиями\n",
        "\n",
        "Облегчим себе жизнь и уменьшим размеры датасета. В индустрии и академии тоже так делают, так как качество коллаборативных моделей для пользователей и айтемов с небольшим числом взаимодействий с большой вероятностью будет низким. \n",
        "\n",
        "1) оставьте в filtered_df книги с 3 и более взаимодействиями, \n",
        "\n",
        "2) после этого оставьте в filtered_df пользователей с 5 и более взаимодействиями"
      ]
    },
    {
      "cell_type": "code",
      "execution_count": 26,
      "id": "f89a5186",
      "metadata": {
        "id": "f89a5186"
      },
      "outputs": [],
      "source": [
        "item_counts = filtered_df.groupby('item_id')['user_id'].count()\n",
        "pop_items = item_counts[item_counts > 2]\n",
        "filtered_df = filtered_df[filtered_df['item_id'].isin(pop_items.index)]"
      ]
    },
    {
      "cell_type": "code",
      "execution_count": 27,
      "id": "0c30e757",
      "metadata": {
        "id": "0c30e757"
      },
      "outputs": [],
      "source": [
        "user_counts = filtered_df.groupby('user_id')['item_id'].count()\n",
        "pop_users = user_counts[user_counts > 4]\n",
        "filtered_df = filtered_df[filtered_df['user_id'].isin(pop_users.index)].copy()"
      ]
    },
    {
      "cell_type": "code",
      "execution_count": 28,
      "id": "df4d5fa2",
      "metadata": {
        "colab": {
          "base_uri": "https://localhost:8080/"
        },
        "id": "df4d5fa2",
        "outputId": "7ae715cc-4122-4327-ca2f-3f0ec463356b"
      },
      "outputs": [
        {
          "output_type": "stream",
          "name": "stdout",
          "text": [
            "Длина лога = 446121,\n",
            "количество пользователей = 37004,\n",
            "количество объектов = 56752\n"
          ]
        }
      ],
      "source": [
        "get_log_info(filtered_df)"
      ]
    },
    {
      "cell_type": "code",
      "execution_count": 29,
      "id": "1e824962",
      "metadata": {
        "id": "1e824962"
      },
      "outputs": [],
      "source": [
        "assert filtered_df.shape[0] == 446121\n",
        "assert filtered_df['user_id'].nunique() == 37004"
      ]
    },
    {
      "cell_type": "markdown",
      "source": [
        "### Конвертация id"
      ],
      "metadata": {
        "id": "IG2Yf_aXMxJ9"
      },
      "id": "IG2Yf_aXMxJ9"
    },
    {
      "cell_type": "code",
      "execution_count": 30,
      "metadata": {
        "colab": {
          "base_uri": "https://localhost:8080/",
          "height": 110
        },
        "outputId": "6e4e15b5-7688-46e3-bb6f-44d452ece81b",
        "id": "z6NqoSE0MxnN"
      },
      "outputs": [
        {
          "output_type": "stream",
          "name": "stdout",
          "text": [
            "CPU times: user 88.5 ms, sys: 0 ns, total: 88.5 ms\n",
            "Wall time: 208 ms\n"
          ]
        },
        {
          "output_type": "execute_result",
          "data": {
            "text/plain": [
              "LabelEncoder()"
            ],
            "text/html": [
              "<style>#sk-container-id-1 {color: black;background-color: white;}#sk-container-id-1 pre{padding: 0;}#sk-container-id-1 div.sk-toggleable {background-color: white;}#sk-container-id-1 label.sk-toggleable__label {cursor: pointer;display: block;width: 100%;margin-bottom: 0;padding: 0.3em;box-sizing: border-box;text-align: center;}#sk-container-id-1 label.sk-toggleable__label-arrow:before {content: \"▸\";float: left;margin-right: 0.25em;color: #696969;}#sk-container-id-1 label.sk-toggleable__label-arrow:hover:before {color: black;}#sk-container-id-1 div.sk-estimator:hover label.sk-toggleable__label-arrow:before {color: black;}#sk-container-id-1 div.sk-toggleable__content {max-height: 0;max-width: 0;overflow: hidden;text-align: left;background-color: #f0f8ff;}#sk-container-id-1 div.sk-toggleable__content pre {margin: 0.2em;color: black;border-radius: 0.25em;background-color: #f0f8ff;}#sk-container-id-1 input.sk-toggleable__control:checked~div.sk-toggleable__content {max-height: 200px;max-width: 100%;overflow: auto;}#sk-container-id-1 input.sk-toggleable__control:checked~label.sk-toggleable__label-arrow:before {content: \"▾\";}#sk-container-id-1 div.sk-estimator input.sk-toggleable__control:checked~label.sk-toggleable__label {background-color: #d4ebff;}#sk-container-id-1 div.sk-label input.sk-toggleable__control:checked~label.sk-toggleable__label {background-color: #d4ebff;}#sk-container-id-1 input.sk-hidden--visually {border: 0;clip: rect(1px 1px 1px 1px);clip: rect(1px, 1px, 1px, 1px);height: 1px;margin: -1px;overflow: hidden;padding: 0;position: absolute;width: 1px;}#sk-container-id-1 div.sk-estimator {font-family: monospace;background-color: #f0f8ff;border: 1px dotted black;border-radius: 0.25em;box-sizing: border-box;margin-bottom: 0.5em;}#sk-container-id-1 div.sk-estimator:hover {background-color: #d4ebff;}#sk-container-id-1 div.sk-parallel-item::after {content: \"\";width: 100%;border-bottom: 1px solid gray;flex-grow: 1;}#sk-container-id-1 div.sk-label:hover label.sk-toggleable__label {background-color: #d4ebff;}#sk-container-id-1 div.sk-serial::before {content: \"\";position: absolute;border-left: 1px solid gray;box-sizing: border-box;top: 0;bottom: 0;left: 50%;z-index: 0;}#sk-container-id-1 div.sk-serial {display: flex;flex-direction: column;align-items: center;background-color: white;padding-right: 0.2em;padding-left: 0.2em;position: relative;}#sk-container-id-1 div.sk-item {position: relative;z-index: 1;}#sk-container-id-1 div.sk-parallel {display: flex;align-items: stretch;justify-content: center;background-color: white;position: relative;}#sk-container-id-1 div.sk-item::before, #sk-container-id-1 div.sk-parallel-item::before {content: \"\";position: absolute;border-left: 1px solid gray;box-sizing: border-box;top: 0;bottom: 0;left: 50%;z-index: -1;}#sk-container-id-1 div.sk-parallel-item {display: flex;flex-direction: column;z-index: 1;position: relative;background-color: white;}#sk-container-id-1 div.sk-parallel-item:first-child::after {align-self: flex-end;width: 50%;}#sk-container-id-1 div.sk-parallel-item:last-child::after {align-self: flex-start;width: 50%;}#sk-container-id-1 div.sk-parallel-item:only-child::after {width: 0;}#sk-container-id-1 div.sk-dashed-wrapped {border: 1px dashed gray;margin: 0 0.4em 0.5em 0.4em;box-sizing: border-box;padding-bottom: 0.4em;background-color: white;}#sk-container-id-1 div.sk-label label {font-family: monospace;font-weight: bold;display: inline-block;line-height: 1.2em;}#sk-container-id-1 div.sk-label-container {text-align: center;}#sk-container-id-1 div.sk-container {/* jupyter's `normalize.less` sets `[hidden] { display: none; }` but bootstrap.min.css set `[hidden] { display: none !important; }` so we also need the `!important` here to be able to override the default hidden behavior on the sphinx rendered scikit-learn.org. See: https://github.com/scikit-learn/scikit-learn/issues/21755 */display: inline-block !important;position: relative;}#sk-container-id-1 div.sk-text-repr-fallback {display: none;}</style><div id=\"sk-container-id-1\" class=\"sk-top-container\"><div class=\"sk-text-repr-fallback\"><pre>LabelEncoder()</pre><b>In a Jupyter environment, please rerun this cell to show the HTML representation or trust the notebook. <br />On GitHub, the HTML representation is unable to render, please try loading this page with nbviewer.org.</b></div><div class=\"sk-container\" hidden><div class=\"sk-item\"><div class=\"sk-estimator sk-toggleable\"><input class=\"sk-toggleable__control sk-hidden--visually\" id=\"sk-estimator-id-1\" type=\"checkbox\" checked><label for=\"sk-estimator-id-1\" class=\"sk-toggleable__label sk-toggleable__label-arrow\">LabelEncoder</label><div class=\"sk-toggleable__content\"><pre>LabelEncoder()</pre></div></div></div></div></div>"
            ]
          },
          "metadata": {},
          "execution_count": 30
        }
      ],
      "source": [
        "%%time\n",
        "# конвертируем id пользователей и item-ов в подряд идущие номера\n",
        "user_encoder = LabelEncoder()\n",
        "item_encoder = LabelEncoder()\n",
        "user_encoder.fit(filtered_df['user_id'])\n",
        "item_encoder.fit(filtered_df['item_id'])"
      ],
      "id": "z6NqoSE0MxnN"
    },
    {
      "cell_type": "code",
      "source": [
        "i_features_filtered = i_features[i_features['item_id'].isin(filtered_df['item_id'].unique())].copy()\n",
        "u_features_filtered = u_features[u_features['user_id'].isin(filtered_df['user_id'].unique())].copy()"
      ],
      "metadata": {
        "id": "4Jloj7FtNkgF"
      },
      "id": "4Jloj7FtNkgF",
      "execution_count": 31,
      "outputs": []
    },
    {
      "cell_type": "code",
      "execution_count": 32,
      "metadata": {
        "colab": {
          "base_uri": "https://localhost:8080/"
        },
        "outputId": "eb9974d0-8590-49a0-fcc4-d4e35a9f3875",
        "id": "Xo_lPQFbMxnO"
      },
      "outputs": [
        {
          "output_type": "stream",
          "name": "stdout",
          "text": [
            "CPU times: user 245 ms, sys: 3.55 ms, total: 249 ms\n",
            "Wall time: 407 ms\n"
          ]
        }
      ],
      "source": [
        "%%time\n",
        "filtered_df.loc[:, 'user_id'] = user_encoder.transform(filtered_df['user_id'])\n",
        "filtered_df.loc[:, 'item_id'] = item_encoder.transform(filtered_df['item_id'])"
      ],
      "id": "Xo_lPQFbMxnO"
    },
    {
      "cell_type": "code",
      "source": [
        "%%time\n",
        "i_features_filtered.loc[:, 'item_id'] = item_encoder.transform(i_features_filtered['item_id'])\n",
        "u_features_filtered.loc[:, 'user_id'] = user_encoder.transform(u_features_filtered['user_id'])\n",
        "# i_features_filtered.set_index('item_id', inplace=True)"
      ],
      "metadata": {
        "colab": {
          "base_uri": "https://localhost:8080/"
        },
        "id": "Xeh03OThNSzf",
        "outputId": "5bb87e3b-e090-4f2e-eaa7-534854306fe0"
      },
      "id": "Xeh03OThNSzf",
      "execution_count": 33,
      "outputs": [
        {
          "output_type": "stream",
          "name": "stdout",
          "text": [
            "CPU times: user 23 ms, sys: 0 ns, total: 23 ms\n",
            "Wall time: 47 ms\n"
          ]
        }
      ]
    },
    {
      "cell_type": "markdown",
      "id": "02c48652",
      "metadata": {
        "id": "02c48652"
      },
      "source": [
        "# 1 Разбиение данных\n",
        "\n",
        "Как построить локальную валидацию? \n",
        "Опять же, исходя из реальной задачи. В реальности у нас есть срез истории взаимодействия в прошлом и мы хотим предсказать предпочтения пользователей в будущем.\n",
        "В статьях разных лет используются:\n",
        "- случайное разбиение\n",
        "- случайное внутри истории пользователя (k item-ов каждого пользователя в test)\n",
        "- leave-one-out / leave-k-out  по времени\n",
        "- time-based (например, взаимодействия в течение будущих 7 дней)\n",
        "\n",
        "Почему плохо разбивать без учета timestamp? "
      ]
    },
    {
      "cell_type": "markdown",
      "id": "49be822a",
      "metadata": {
        "id": "49be822a"
      },
      "source": [
        "Реализуем time-based разбиение, оставим в test только активных пользователей и возьмем первые K взаимодействий."
      ]
    },
    {
      "cell_type": "code",
      "execution_count": 34,
      "id": "tRNRQEoqfeGk",
      "metadata": {
        "colab": {
          "base_uri": "https://localhost:8080/",
          "height": 505
        },
        "id": "tRNRQEoqfeGk",
        "outputId": "70243157-e7e5-4632-f2f9-31e2bc7b64bd"
      },
      "outputs": [
        {
          "output_type": "display_data",
          "data": {
            "text/plain": [
              "<IPython.core.display.HTML object>"
            ],
            "text/html": [
              "<iframe src=\"https://drive.google.com/file/d/1L7dgH9lMYHBpxPASPJEUjm8U3_f9VrdQ/preview\" width=\"640\" height=\"480\" allow=\"autoplay\"></iframe>\n"
            ]
          },
          "metadata": {}
        }
      ],
      "source": [
        "%%html\n",
        "<iframe src=\"https://drive.google.com/file/d/1L7dgH9lMYHBpxPASPJEUjm8U3_f9VrdQ/preview\" width=\"640\" height=\"480\" allow=\"autoplay\"></iframe>"
      ]
    },
    {
      "cell_type": "markdown",
      "id": "40300326",
      "metadata": {
        "id": "40300326"
      },
      "source": [
        "Лучше не ограничиваться одним сплитом, а выполнять кросс-валидацию, так как поведение пользователей, а с ним и метрики, могут меняться в зависимости от времени, дня недели, погодных условий и других внешних факторов."
      ]
    },
    {
      "cell_type": "markdown",
      "id": "6bb5183a",
      "metadata": {
        "id": "6bb5183a"
      },
      "source": [
        "## Разобьем датасет на train и test по времени, взяв 20% наиболее свежих взаимодействий в test"
      ]
    },
    {
      "cell_type": "code",
      "execution_count": 35,
      "id": "37e42e4b",
      "metadata": {
        "id": "37e42e4b"
      },
      "outputs": [],
      "source": [
        "train_by_date = filtered_df[filtered_df['start_date'] <= filtered_df['start_date'].quantile(0.8)]\n",
        "test_by_date = filtered_df[filtered_df['start_date'] > filtered_df['start_date'].quantile(0.8)]"
      ]
    },
    {
      "cell_type": "code",
      "execution_count": 36,
      "id": "4b854eab",
      "metadata": {
        "id": "4b854eab"
      },
      "outputs": [],
      "source": [
        "assert train_by_date.shape[0] == 357518\n",
        "assert test_by_date.shape[0] == 88603"
      ]
    },
    {
      "cell_type": "markdown",
      "id": "a86210bf",
      "metadata": {
        "id": "a86210bf"
      },
      "source": [
        "## Оставим в test только пользователей, у которых в test 5 и более взаимодействий и возьмем первые 5 из них"
      ]
    },
    {
      "cell_type": "code",
      "execution_count": 37,
      "id": "33475ca7",
      "metadata": {
        "id": "33475ca7"
      },
      "outputs": [],
      "source": [
        "counts_in_test = test_by_date.groupby('user_id')['item_id'].count()\n",
        "test_by_date = test_by_date[test_by_date['user_id'].isin(counts_in_test[counts_in_test > 4].index)].copy()\n",
        "test_by_date['rank'] = test_by_date.groupby('user_id')['start_date'].rank(method=\"first\", ascending=True)\n",
        "test_by_date = test_by_date[test_by_date['rank'] <= 5].drop(columns=['rank'])\n",
        "\n",
        "# удалим холодных пользователей\n",
        "test_by_date = test_by_date[test_by_date['user_id'].isin(train_by_date['user_id'].unique())]\n",
        "test_by_date_users = test_by_date['user_id'].drop_duplicates()"
      ]
    },
    {
      "cell_type": "code",
      "execution_count": 38,
      "id": "115a5422",
      "metadata": {
        "id": "115a5422"
      },
      "outputs": [],
      "source": [
        "assert test_by_date.shape[0] == 15230"
      ]
    },
    {
      "cell_type": "code",
      "execution_count": 39,
      "id": "bb950a49",
      "metadata": {
        "colab": {
          "base_uri": "https://localhost:8080/"
        },
        "id": "bb950a49",
        "outputId": "ecb6a298-ede2-4cda-9a19-c56d7703624e"
      },
      "outputs": [
        {
          "output_type": "stream",
          "name": "stdout",
          "text": [
            "Длина лога = 357518,\n",
            "количество пользователей = 36823,\n",
            "количество объектов = 55098\n"
          ]
        }
      ],
      "source": [
        "get_log_info(train_by_date)"
      ]
    },
    {
      "cell_type": "code",
      "execution_count": 40,
      "id": "6b779b69",
      "metadata": {
        "colab": {
          "base_uri": "https://localhost:8080/"
        },
        "id": "6b779b69",
        "outputId": "41c5c98f-8a14-4113-d662-cb571b90639b"
      },
      "outputs": [
        {
          "output_type": "stream",
          "name": "stdout",
          "text": [
            "Длина лога = 15230,\n",
            "количество пользователей = 3046,\n",
            "количество объектов = 7825\n"
          ]
        }
      ],
      "source": [
        "get_log_info(test_by_date)"
      ]
    },
    {
      "cell_type": "markdown",
      "id": "52ad0220",
      "metadata": {
        "id": "52ad0220"
      },
      "source": [
        "# 2 Первая модель — рекомендуем популярное"
      ]
    },
    {
      "cell_type": "markdown",
      "id": "191b6c35",
      "metadata": {
        "id": "191b6c35"
      },
      "source": [
        "Самый простой рекомендатель — модель, которая будет рекомендовать популярные книги (книги, которые чаще всего читали). Построим такую модель."
      ]
    },
    {
      "cell_type": "code",
      "execution_count": 41,
      "id": "d2eb7c0f",
      "metadata": {
        "id": "d2eb7c0f"
      },
      "outputs": [],
      "source": [
        "popularity = train_by_date.groupby('item_id')['user_id'].count().rename('popularity').sort_values(ascending=False)\n",
        "popularity /= train_by_date['user_id'].nunique()"
      ]
    },
    {
      "cell_type": "code",
      "execution_count": 42,
      "id": "82f011f9",
      "metadata": {
        "id": "82f011f9"
      },
      "outputs": [],
      "source": [
        "assert math.isclose(popularity[15877], 0.016050, abs_tol=1e-6)"
      ]
    },
    {
      "cell_type": "code",
      "execution_count": 43,
      "id": "d29d6ffe",
      "metadata": {
        "colab": {
          "base_uri": "https://localhost:8080/",
          "height": 511
        },
        "id": "d29d6ffe",
        "outputId": "cc7cc9f4-f0a6-4e2c-a2ff-6be967aaefab"
      },
      "outputs": [
        {
          "output_type": "execute_result",
          "data": {
            "text/plain": [
              "   item_id  popularity                                              title  \\\n",
              "0    15877    0.016050                            Зулейха открывает глаза   \n",
              "1    56330    0.013633                                           Черновик   \n",
              "2    46841    0.012791                                              После   \n",
              "3    21593    0.012709                                           Снеговик   \n",
              "4    19958    0.010673                                        После ссоры   \n",
              "5    48489    0.010591                                           Чистовик   \n",
              "6    44484    0.010401                                  Земное притяжение   \n",
              "7    28216    0.008663                          Пятьдесят оттенков серого   \n",
              "8    17505    0.008500  Сила подсознания, или Как изменить жизнь за 4 ...   \n",
              "9    47992    0.008337  Струны волшебства. Книга первая. Страшные сказ...   \n",
              "\n",
              "                                              genres              authors  \\\n",
              "0                     Современная русская литература         Гузель Яхина   \n",
              "1                                 Научная фантастика    Сергей Лукьяненко   \n",
              "2  Зарубежные любовные романы,Современные любовны...            Анна Тодд   \n",
              "3  Зарубежные детективы,Триллеры,Полицейские дете...              Ю Несбё   \n",
              "4  Зарубежные любовные романы,Современные любовны...            Анна Тодд   \n",
              "5                                 Научная фантастика    Сергей Лукьяненко   \n",
              "6  Современные детективы,Остросюжетные любовные р...     Татьяна Устинова   \n",
              "7      Эротические романы,Зарубежные любовные романы         Э. Л. Джеймс   \n",
              "8  Практическая эзотерика,Эзотерика / оккультизм,...         Джо Диспенза   \n",
              "9          Героическое фэнтези,Книги про волшебников  Милена Завойчинская   \n",
              "\n",
              "      year  \n",
              "0     2015  \n",
              "1  2004-05  \n",
              "2     2014  \n",
              "3     2007  \n",
              "4     2014  \n",
              "5     2007  \n",
              "6     2017  \n",
              "7     2012  \n",
              "8     2013  \n",
              "9     2018  "
            ],
            "text/html": [
              "\n",
              "  <div id=\"df-04f1f38a-6b8b-4a39-916d-8aa1a5872b79\">\n",
              "    <div class=\"colab-df-container\">\n",
              "      <div>\n",
              "<style scoped>\n",
              "    .dataframe tbody tr th:only-of-type {\n",
              "        vertical-align: middle;\n",
              "    }\n",
              "\n",
              "    .dataframe tbody tr th {\n",
              "        vertical-align: top;\n",
              "    }\n",
              "\n",
              "    .dataframe thead th {\n",
              "        text-align: right;\n",
              "    }\n",
              "</style>\n",
              "<table border=\"1\" class=\"dataframe\">\n",
              "  <thead>\n",
              "    <tr style=\"text-align: right;\">\n",
              "      <th></th>\n",
              "      <th>item_id</th>\n",
              "      <th>popularity</th>\n",
              "      <th>title</th>\n",
              "      <th>genres</th>\n",
              "      <th>authors</th>\n",
              "      <th>year</th>\n",
              "    </tr>\n",
              "  </thead>\n",
              "  <tbody>\n",
              "    <tr>\n",
              "      <th>0</th>\n",
              "      <td>15877</td>\n",
              "      <td>0.016050</td>\n",
              "      <td>Зулейха открывает глаза</td>\n",
              "      <td>Современная русская литература</td>\n",
              "      <td>Гузель Яхина</td>\n",
              "      <td>2015</td>\n",
              "    </tr>\n",
              "    <tr>\n",
              "      <th>1</th>\n",
              "      <td>56330</td>\n",
              "      <td>0.013633</td>\n",
              "      <td>Черновик</td>\n",
              "      <td>Научная фантастика</td>\n",
              "      <td>Сергей Лукьяненко</td>\n",
              "      <td>2004-05</td>\n",
              "    </tr>\n",
              "    <tr>\n",
              "      <th>2</th>\n",
              "      <td>46841</td>\n",
              "      <td>0.012791</td>\n",
              "      <td>После</td>\n",
              "      <td>Зарубежные любовные романы,Современные любовны...</td>\n",
              "      <td>Анна Тодд</td>\n",
              "      <td>2014</td>\n",
              "    </tr>\n",
              "    <tr>\n",
              "      <th>3</th>\n",
              "      <td>21593</td>\n",
              "      <td>0.012709</td>\n",
              "      <td>Снеговик</td>\n",
              "      <td>Зарубежные детективы,Триллеры,Полицейские дете...</td>\n",
              "      <td>Ю Несбё</td>\n",
              "      <td>2007</td>\n",
              "    </tr>\n",
              "    <tr>\n",
              "      <th>4</th>\n",
              "      <td>19958</td>\n",
              "      <td>0.010673</td>\n",
              "      <td>После ссоры</td>\n",
              "      <td>Зарубежные любовные романы,Современные любовны...</td>\n",
              "      <td>Анна Тодд</td>\n",
              "      <td>2014</td>\n",
              "    </tr>\n",
              "    <tr>\n",
              "      <th>5</th>\n",
              "      <td>48489</td>\n",
              "      <td>0.010591</td>\n",
              "      <td>Чистовик</td>\n",
              "      <td>Научная фантастика</td>\n",
              "      <td>Сергей Лукьяненко</td>\n",
              "      <td>2007</td>\n",
              "    </tr>\n",
              "    <tr>\n",
              "      <th>6</th>\n",
              "      <td>44484</td>\n",
              "      <td>0.010401</td>\n",
              "      <td>Земное притяжение</td>\n",
              "      <td>Современные детективы,Остросюжетные любовные р...</td>\n",
              "      <td>Татьяна Устинова</td>\n",
              "      <td>2017</td>\n",
              "    </tr>\n",
              "    <tr>\n",
              "      <th>7</th>\n",
              "      <td>28216</td>\n",
              "      <td>0.008663</td>\n",
              "      <td>Пятьдесят оттенков серого</td>\n",
              "      <td>Эротические романы,Зарубежные любовные романы</td>\n",
              "      <td>Э. Л. Джеймс</td>\n",
              "      <td>2012</td>\n",
              "    </tr>\n",
              "    <tr>\n",
              "      <th>8</th>\n",
              "      <td>17505</td>\n",
              "      <td>0.008500</td>\n",
              "      <td>Сила подсознания, или Как изменить жизнь за 4 ...</td>\n",
              "      <td>Практическая эзотерика,Эзотерика / оккультизм,...</td>\n",
              "      <td>Джо Диспенза</td>\n",
              "      <td>2013</td>\n",
              "    </tr>\n",
              "    <tr>\n",
              "      <th>9</th>\n",
              "      <td>47992</td>\n",
              "      <td>0.008337</td>\n",
              "      <td>Струны волшебства. Книга первая. Страшные сказ...</td>\n",
              "      <td>Героическое фэнтези,Книги про волшебников</td>\n",
              "      <td>Милена Завойчинская</td>\n",
              "      <td>2018</td>\n",
              "    </tr>\n",
              "  </tbody>\n",
              "</table>\n",
              "</div>\n",
              "      <button class=\"colab-df-convert\" onclick=\"convertToInteractive('df-04f1f38a-6b8b-4a39-916d-8aa1a5872b79')\"\n",
              "              title=\"Convert this dataframe to an interactive table.\"\n",
              "              style=\"display:none;\">\n",
              "        \n",
              "  <svg xmlns=\"http://www.w3.org/2000/svg\" height=\"24px\"viewBox=\"0 0 24 24\"\n",
              "       width=\"24px\">\n",
              "    <path d=\"M0 0h24v24H0V0z\" fill=\"none\"/>\n",
              "    <path d=\"M18.56 5.44l.94 2.06.94-2.06 2.06-.94-2.06-.94-.94-2.06-.94 2.06-2.06.94zm-11 1L8.5 8.5l.94-2.06 2.06-.94-2.06-.94L8.5 2.5l-.94 2.06-2.06.94zm10 10l.94 2.06.94-2.06 2.06-.94-2.06-.94-.94-2.06-.94 2.06-2.06.94z\"/><path d=\"M17.41 7.96l-1.37-1.37c-.4-.4-.92-.59-1.43-.59-.52 0-1.04.2-1.43.59L10.3 9.45l-7.72 7.72c-.78.78-.78 2.05 0 2.83L4 21.41c.39.39.9.59 1.41.59.51 0 1.02-.2 1.41-.59l7.78-7.78 2.81-2.81c.8-.78.8-2.07 0-2.86zM5.41 20L4 18.59l7.72-7.72 1.47 1.35L5.41 20z\"/>\n",
              "  </svg>\n",
              "      </button>\n",
              "      \n",
              "  <style>\n",
              "    .colab-df-container {\n",
              "      display:flex;\n",
              "      flex-wrap:wrap;\n",
              "      gap: 12px;\n",
              "    }\n",
              "\n",
              "    .colab-df-convert {\n",
              "      background-color: #E8F0FE;\n",
              "      border: none;\n",
              "      border-radius: 50%;\n",
              "      cursor: pointer;\n",
              "      display: none;\n",
              "      fill: #1967D2;\n",
              "      height: 32px;\n",
              "      padding: 0 0 0 0;\n",
              "      width: 32px;\n",
              "    }\n",
              "\n",
              "    .colab-df-convert:hover {\n",
              "      background-color: #E2EBFA;\n",
              "      box-shadow: 0px 1px 2px rgba(60, 64, 67, 0.3), 0px 1px 3px 1px rgba(60, 64, 67, 0.15);\n",
              "      fill: #174EA6;\n",
              "    }\n",
              "\n",
              "    [theme=dark] .colab-df-convert {\n",
              "      background-color: #3B4455;\n",
              "      fill: #D2E3FC;\n",
              "    }\n",
              "\n",
              "    [theme=dark] .colab-df-convert:hover {\n",
              "      background-color: #434B5C;\n",
              "      box-shadow: 0px 1px 3px 1px rgba(0, 0, 0, 0.15);\n",
              "      filter: drop-shadow(0px 1px 2px rgba(0, 0, 0, 0.3));\n",
              "      fill: #FFFFFF;\n",
              "    }\n",
              "  </style>\n",
              "\n",
              "      <script>\n",
              "        const buttonEl =\n",
              "          document.querySelector('#df-04f1f38a-6b8b-4a39-916d-8aa1a5872b79 button.colab-df-convert');\n",
              "        buttonEl.style.display =\n",
              "          google.colab.kernel.accessAllowed ? 'block' : 'none';\n",
              "\n",
              "        async function convertToInteractive(key) {\n",
              "          const element = document.querySelector('#df-04f1f38a-6b8b-4a39-916d-8aa1a5872b79');\n",
              "          const dataTable =\n",
              "            await google.colab.kernel.invokeFunction('convertToInteractive',\n",
              "                                                     [key], {});\n",
              "          if (!dataTable) return;\n",
              "\n",
              "          const docLinkHtml = 'Like what you see? Visit the ' +\n",
              "            '<a target=\"_blank\" href=https://colab.research.google.com/notebooks/data_table.ipynb>data table notebook</a>'\n",
              "            + ' to learn more about interactive tables.';\n",
              "          element.innerHTML = '';\n",
              "          dataTable['output_type'] = 'display_data';\n",
              "          await google.colab.output.renderOutput(dataTable, element);\n",
              "          const docLink = document.createElement('div');\n",
              "          docLink.innerHTML = docLinkHtml;\n",
              "          element.appendChild(docLink);\n",
              "        }\n",
              "      </script>\n",
              "    </div>\n",
              "  </div>\n",
              "  "
            ]
          },
          "metadata": {},
          "execution_count": 43
        }
      ],
      "source": [
        "pd.DataFrame(popularity).merge(i_features_filtered, on='item_id').head(10)"
      ]
    },
    {
      "cell_type": "markdown",
      "id": "24857dca",
      "metadata": {
        "id": "24857dca"
      },
      "source": [
        "### Первая книга — Зулейха открывает глаза? Поздравляю, вы написали первую рекомендательную систему!"
      ]
    },
    {
      "cell_type": "markdown",
      "id": "9bc04c15",
      "metadata": {
        "id": "9bc04c15"
      },
      "source": [
        "Что не так?\n",
        "- Мы все-таки хотим предсказывать для пользователя, и хотим отфильтровать уже прочитанные им книги\n",
        "- Хотим получить predict для пользователей в виде датафрейма с колонками `user_id - item_id - relevance`\n",
        "- Хотим уметь получать нужное количество рекомендаций для каждого пользователя\n",
        "\n",
        "Поэтому сделаем базовый класс для рекомендателя, и будем наследовать от него наши алгоритмы."
      ]
    },
    {
      "cell_type": "markdown",
      "id": "3e90898d",
      "metadata": {
        "id": "3e90898d"
      },
      "source": [
        "# Класс ParentModel"
      ]
    },
    {
      "cell_type": "markdown",
      "id": "5907a573",
      "metadata": {
        "id": "5907a573"
      },
      "source": [
        "Давайте разберемся\n",
        "- как работают leave_top_k и _filter_seen\n",
        "- что делает predict\n",
        "\n",
        "Функционал Parent Model вдохновлен кодом нашей разработки - библиотеки для рекомендательных систем [RePlay](https://github.com/sb-ai-lab/RePlay). В самой библиотеке можно найти реализацию популярных метрик, алгоритмов и сплиттеров, а в [документации](https://sb-ai-lab.github.io/RePlay/pages/modules/models.html) к ней - необходимые пояснения и формулы.\n"
      ]
    },
    {
      "cell_type": "code",
      "execution_count": 44,
      "id": "8dc00e6e",
      "metadata": {
        "id": "8dc00e6e"
      },
      "outputs": [],
      "source": [
        "from copy import deepcopy"
      ]
    },
    {
      "cell_type": "code",
      "execution_count": 45,
      "id": "c0497b4a",
      "metadata": {
        "id": "c0497b4a"
      },
      "outputs": [],
      "source": [
        "def leave_top_k(pred: pd.DataFrame, \n",
        "                 k: int,\n",
        "                 group_by_col: str='user_id',\n",
        "                 order_by_col: str='relevance') -> pd.DataFrame:\n",
        "    \"\"\"\n",
        "    crop predictions to leave top-k recommendations for each user\n",
        "    \"\"\"\n",
        "    if pred.groupby(group_by_col)[group_by_col].count().max() <= k:\n",
        "        return pred\n",
        "    cropped_pred = deepcopy(pred)\n",
        "    cropped_pred['rank'] = (cropped_pred\n",
        "                            .groupby(group_by_col)[[order_by_col]]\n",
        "                            .rank(method=\"first\", ascending=False))\n",
        "    cropped_pred = cropped_pred[cropped_pred['rank'] <= k].drop(columns=['rank'])\n",
        "    return cropped_pred\n",
        "\n",
        "\n",
        "def filter_seen_items(log: pd.DataFrame, \n",
        "                 pred: pd.DataFrame) -> pd.DataFrame:\n",
        "    \"\"\"\n",
        "    filter pairs `user-item` present in log out of pred\n",
        "    \"\"\"\n",
        "    log_filtered = log[log['user_id'].isin(pred['user_id'].unique())]\n",
        "    pred = pred.merge(log_filtered[['user_id', 'item_id']].drop_duplicates(), \n",
        "                                on=['user_id', 'item_id'], \n",
        "                                how='outer', \n",
        "                                indicator = True)\n",
        "    return pred[pred['_merge'] == 'left_only'].drop(columns=['_merge'])\n",
        "\n",
        "\n",
        "class ParentModel:\n",
        "    @abc.abstractmethod\n",
        "    def fit(self, \n",
        "            log: pd.DataFrame, \n",
        "            user_features: Optional[pd.DataFrame]=None, \n",
        "            item_features: Optional[pd.DataFrame]=None):\n",
        "        \"\"\"\n",
        "        fit recommender\n",
        "        \n",
        "        Parameters\n",
        "        ----------\n",
        "        log : pandas dataframe with columns [user_id, item_id, timestamp, relevance]\n",
        "        user_features : pandas dataframe with column `user_id` and features columns\n",
        "        item_features : pandas dataframe with column `item_id` and features columns\n",
        "\n",
        "        Returns\n",
        "        -------\n",
        "        \n",
        "        \"\"\"\n",
        "    \n",
        "    \n",
        "    def predict(self, \n",
        "                log: pd.DataFrame, \n",
        "                users: pd.Series, \n",
        "                k: int,\n",
        "                user_features: Optional[pd.DataFrame]=None, \n",
        "                item_features: Optional[pd.DataFrame]=None,\n",
        "                filter_seen: bool = True) -> pd.DataFrame:\n",
        "        \"\"\"\n",
        "        predict with fitted model, filter seen and crop to top-k for each user\n",
        "        \n",
        "        Parameters\n",
        "        ----------\n",
        "        log: pandas dataframe with columns [user_id, item_id, timestamp, relevance]\n",
        "            used to filter seen and to make predictions by some models\n",
        "        users: user ids to recommend for\n",
        "        k: number of recommendations for each user\n",
        "        user_features: pandas dataframe with column `user_id` and features columns\n",
        "        item_features: pandas dataframe with column `item_id` and features columns\n",
        "        filter_seen: if True, items present in user history are filtered from predictions\n",
        "\n",
        "        Returns\n",
        "        -------\n",
        "        pandas dataframe with columns [user_id, item_id, relevance] \n",
        "            top-k recommended items for each user from `users`.\n",
        "        \"\"\"\n",
        "        \n",
        "        # overhead\n",
        "        max_items_in_train = log.groupby('user_id')[['item_id']].count().max()[0] if filter_seen else 0\n",
        "        \n",
        "        pred = self._predict(\n",
        "            log=log,\n",
        "            users=users, \n",
        "            k=max_items_in_train+k,\n",
        "            user_features=user_features, \n",
        "            item_features=item_features,\n",
        "            filter_seen=filter_seen)\n",
        "        if filter_seen:\n",
        "            pred = filter_seen_items(log, pred)\n",
        "            \n",
        "        return leave_top_k(pred, k)\n",
        "    \n",
        "    \n",
        "    @abc.abstractmethod    \n",
        "    def _predict(self, \n",
        "                log: pd.DataFrame, \n",
        "                users: pd.Series, \n",
        "                k: int,\n",
        "                user_features: Optional[pd.DataFrame]=None, \n",
        "                item_features: Optional[pd.DataFrame]=None,\n",
        "                filter_seen:bool = True) -> pd.DataFrame:\n",
        "        \"\"\"\n",
        "        predict with fitted model\n",
        "        \"\"\""
      ]
    },
    {
      "cell_type": "markdown",
      "id": "60888ddf",
      "metadata": {
        "id": "60888ddf"
      },
      "source": [
        "## Модель для рекомендаций популярного\n",
        "relevance = популярность книги, число пользователей, читавших книгу, деленное на общее число пользователей"
      ]
    },
    {
      "cell_type": "code",
      "execution_count": 139,
      "id": "565efd80",
      "metadata": {
        "id": "565efd80"
      },
      "outputs": [],
      "source": [
        "class PopularModel(ParentModel):\n",
        "    items_popularity: pd.DataFrame\n",
        "        \n",
        "    def fit(self, \n",
        "            log: pd.DataFrame, \n",
        "            user_features: Optional[pd.DataFrame]=None, \n",
        "            item_features: Optional[pd.DataFrame]=None) -> 'PopularModel':\n",
        "        \n",
        "        self.items_popularity = log.groupby('item_id')['user_id'].count().sort_values(ascending=False).rename('popularity') / log['user_id'].nunique()\n",
        "        return self\n",
        "        \n",
        "    def _predict(self, \n",
        "                log: pd.DataFrame, \n",
        "                users: pd.Series, \n",
        "                k: int,\n",
        "                user_features: Optional[pd.DataFrame]=None, \n",
        "                item_features: Optional[pd.DataFrame]=None,\n",
        "                filter_seen:bool = True) -> pd.DataFrame:\n",
        "\n",
        "        users_to_join = pd.DataFrame(users)\n",
        "        users_to_join['key'] = 0\n",
        "        pred = pd.DataFrame({'item_id': self.items_popularity[:k].index.to_list(),\n",
        "                     'relevance': self.items_popularity[:k].values})\n",
        "        pred['key'] = 0\n",
        "        return users_to_join.merge(pred, on='key', how='outer').drop(columns=['key']).reset_index(drop=True)\n"
      ]
    },
    {
      "cell_type": "code",
      "execution_count": 140,
      "id": "8b914c87",
      "metadata": {
        "colab": {
          "base_uri": "https://localhost:8080/"
        },
        "id": "8b914c87",
        "outputId": "9129439d-a79e-4643-be1d-d20bc267c5e5"
      },
      "outputs": [
        {
          "output_type": "stream",
          "name": "stdout",
          "text": [
            "CPU times: user 37 ms, sys: 17 µs, total: 37 ms\n",
            "Wall time: 41.3 ms\n"
          ]
        },
        {
          "output_type": "execute_result",
          "data": {
            "text/plain": [
              "<__main__.PopularModel at 0x7f9b0c4c8f10>"
            ]
          },
          "metadata": {},
          "execution_count": 140
        }
      ],
      "source": [
        "%%time\n",
        "rec = PopularModel()\n",
        "rec.fit(train_by_date)"
      ]
    },
    {
      "cell_type": "code",
      "execution_count": 141,
      "id": "8c2400f7",
      "metadata": {
        "colab": {
          "base_uri": "https://localhost:8080/"
        },
        "id": "8c2400f7",
        "outputId": "325879cb-2bc1-4b5f-8e6b-2ceed1b80910"
      },
      "outputs": [
        {
          "output_type": "stream",
          "name": "stdout",
          "text": [
            "CPU times: user 2.22 s, sys: 570 ms, total: 2.79 s\n",
            "Wall time: 2.78 s\n"
          ]
        }
      ],
      "source": [
        "%%time\n",
        "pred = rec.predict(log=train_by_date, users=test_by_date_users, k=K, filter_seen=True)"
      ]
    },
    {
      "cell_type": "code",
      "execution_count": 142,
      "id": "Q1qpMYrZfK2q",
      "metadata": {
        "colab": {
          "base_uri": "https://localhost:8080/",
          "height": 394
        },
        "id": "Q1qpMYrZfK2q",
        "outputId": "ef741346-770a-47a2-8b4e-e9ed930d78ac"
      },
      "outputs": [
        {
          "output_type": "execute_result",
          "data": {
            "text/plain": [
              "     user_id  item_id  relevance\n",
              "0      26245    15877   0.016050\n",
              "1      26245    56330   0.013633\n",
              "2      26245    46841   0.012791\n",
              "3      26245    21593   0.012709\n",
              "4      26245    19958   0.010673\n",
              "5      26245    48489   0.010591\n",
              "6      26245    44484   0.010401\n",
              "7      26245    28216   0.008663\n",
              "8      26245    17505   0.008500\n",
              "9      26245    47992   0.008337\n",
              "846    20163    15877   0.016050"
            ],
            "text/html": [
              "\n",
              "  <div id=\"df-22e47648-1f27-443e-b62f-2bcc92b6369a\">\n",
              "    <div class=\"colab-df-container\">\n",
              "      <div>\n",
              "<style scoped>\n",
              "    .dataframe tbody tr th:only-of-type {\n",
              "        vertical-align: middle;\n",
              "    }\n",
              "\n",
              "    .dataframe tbody tr th {\n",
              "        vertical-align: top;\n",
              "    }\n",
              "\n",
              "    .dataframe thead th {\n",
              "        text-align: right;\n",
              "    }\n",
              "</style>\n",
              "<table border=\"1\" class=\"dataframe\">\n",
              "  <thead>\n",
              "    <tr style=\"text-align: right;\">\n",
              "      <th></th>\n",
              "      <th>user_id</th>\n",
              "      <th>item_id</th>\n",
              "      <th>relevance</th>\n",
              "    </tr>\n",
              "  </thead>\n",
              "  <tbody>\n",
              "    <tr>\n",
              "      <th>0</th>\n",
              "      <td>26245</td>\n",
              "      <td>15877</td>\n",
              "      <td>0.016050</td>\n",
              "    </tr>\n",
              "    <tr>\n",
              "      <th>1</th>\n",
              "      <td>26245</td>\n",
              "      <td>56330</td>\n",
              "      <td>0.013633</td>\n",
              "    </tr>\n",
              "    <tr>\n",
              "      <th>2</th>\n",
              "      <td>26245</td>\n",
              "      <td>46841</td>\n",
              "      <td>0.012791</td>\n",
              "    </tr>\n",
              "    <tr>\n",
              "      <th>3</th>\n",
              "      <td>26245</td>\n",
              "      <td>21593</td>\n",
              "      <td>0.012709</td>\n",
              "    </tr>\n",
              "    <tr>\n",
              "      <th>4</th>\n",
              "      <td>26245</td>\n",
              "      <td>19958</td>\n",
              "      <td>0.010673</td>\n",
              "    </tr>\n",
              "    <tr>\n",
              "      <th>5</th>\n",
              "      <td>26245</td>\n",
              "      <td>48489</td>\n",
              "      <td>0.010591</td>\n",
              "    </tr>\n",
              "    <tr>\n",
              "      <th>6</th>\n",
              "      <td>26245</td>\n",
              "      <td>44484</td>\n",
              "      <td>0.010401</td>\n",
              "    </tr>\n",
              "    <tr>\n",
              "      <th>7</th>\n",
              "      <td>26245</td>\n",
              "      <td>28216</td>\n",
              "      <td>0.008663</td>\n",
              "    </tr>\n",
              "    <tr>\n",
              "      <th>8</th>\n",
              "      <td>26245</td>\n",
              "      <td>17505</td>\n",
              "      <td>0.008500</td>\n",
              "    </tr>\n",
              "    <tr>\n",
              "      <th>9</th>\n",
              "      <td>26245</td>\n",
              "      <td>47992</td>\n",
              "      <td>0.008337</td>\n",
              "    </tr>\n",
              "    <tr>\n",
              "      <th>846</th>\n",
              "      <td>20163</td>\n",
              "      <td>15877</td>\n",
              "      <td>0.016050</td>\n",
              "    </tr>\n",
              "  </tbody>\n",
              "</table>\n",
              "</div>\n",
              "      <button class=\"colab-df-convert\" onclick=\"convertToInteractive('df-22e47648-1f27-443e-b62f-2bcc92b6369a')\"\n",
              "              title=\"Convert this dataframe to an interactive table.\"\n",
              "              style=\"display:none;\">\n",
              "        \n",
              "  <svg xmlns=\"http://www.w3.org/2000/svg\" height=\"24px\"viewBox=\"0 0 24 24\"\n",
              "       width=\"24px\">\n",
              "    <path d=\"M0 0h24v24H0V0z\" fill=\"none\"/>\n",
              "    <path d=\"M18.56 5.44l.94 2.06.94-2.06 2.06-.94-2.06-.94-.94-2.06-.94 2.06-2.06.94zm-11 1L8.5 8.5l.94-2.06 2.06-.94-2.06-.94L8.5 2.5l-.94 2.06-2.06.94zm10 10l.94 2.06.94-2.06 2.06-.94-2.06-.94-.94-2.06-.94 2.06-2.06.94z\"/><path d=\"M17.41 7.96l-1.37-1.37c-.4-.4-.92-.59-1.43-.59-.52 0-1.04.2-1.43.59L10.3 9.45l-7.72 7.72c-.78.78-.78 2.05 0 2.83L4 21.41c.39.39.9.59 1.41.59.51 0 1.02-.2 1.41-.59l7.78-7.78 2.81-2.81c.8-.78.8-2.07 0-2.86zM5.41 20L4 18.59l7.72-7.72 1.47 1.35L5.41 20z\"/>\n",
              "  </svg>\n",
              "      </button>\n",
              "      \n",
              "  <style>\n",
              "    .colab-df-container {\n",
              "      display:flex;\n",
              "      flex-wrap:wrap;\n",
              "      gap: 12px;\n",
              "    }\n",
              "\n",
              "    .colab-df-convert {\n",
              "      background-color: #E8F0FE;\n",
              "      border: none;\n",
              "      border-radius: 50%;\n",
              "      cursor: pointer;\n",
              "      display: none;\n",
              "      fill: #1967D2;\n",
              "      height: 32px;\n",
              "      padding: 0 0 0 0;\n",
              "      width: 32px;\n",
              "    }\n",
              "\n",
              "    .colab-df-convert:hover {\n",
              "      background-color: #E2EBFA;\n",
              "      box-shadow: 0px 1px 2px rgba(60, 64, 67, 0.3), 0px 1px 3px 1px rgba(60, 64, 67, 0.15);\n",
              "      fill: #174EA6;\n",
              "    }\n",
              "\n",
              "    [theme=dark] .colab-df-convert {\n",
              "      background-color: #3B4455;\n",
              "      fill: #D2E3FC;\n",
              "    }\n",
              "\n",
              "    [theme=dark] .colab-df-convert:hover {\n",
              "      background-color: #434B5C;\n",
              "      box-shadow: 0px 1px 3px 1px rgba(0, 0, 0, 0.15);\n",
              "      filter: drop-shadow(0px 1px 2px rgba(0, 0, 0, 0.3));\n",
              "      fill: #FFFFFF;\n",
              "    }\n",
              "  </style>\n",
              "\n",
              "      <script>\n",
              "        const buttonEl =\n",
              "          document.querySelector('#df-22e47648-1f27-443e-b62f-2bcc92b6369a button.colab-df-convert');\n",
              "        buttonEl.style.display =\n",
              "          google.colab.kernel.accessAllowed ? 'block' : 'none';\n",
              "\n",
              "        async function convertToInteractive(key) {\n",
              "          const element = document.querySelector('#df-22e47648-1f27-443e-b62f-2bcc92b6369a');\n",
              "          const dataTable =\n",
              "            await google.colab.kernel.invokeFunction('convertToInteractive',\n",
              "                                                     [key], {});\n",
              "          if (!dataTable) return;\n",
              "\n",
              "          const docLinkHtml = 'Like what you see? Visit the ' +\n",
              "            '<a target=\"_blank\" href=https://colab.research.google.com/notebooks/data_table.ipynb>data table notebook</a>'\n",
              "            + ' to learn more about interactive tables.';\n",
              "          element.innerHTML = '';\n",
              "          dataTable['output_type'] = 'display_data';\n",
              "          await google.colab.output.renderOutput(dataTable, element);\n",
              "          const docLink = document.createElement('div');\n",
              "          docLink.innerHTML = docLinkHtml;\n",
              "          element.appendChild(docLink);\n",
              "        }\n",
              "      </script>\n",
              "    </div>\n",
              "  </div>\n",
              "  "
            ]
          },
          "metadata": {},
          "execution_count": 142
        }
      ],
      "source": [
        "pred.head(11)"
      ]
    },
    {
      "cell_type": "code",
      "execution_count": 143,
      "id": "86176cf7",
      "metadata": {
        "id": "86176cf7"
      },
      "outputs": [],
      "source": [
        "assert pred.shape[0] == test_by_date_users.shape[0] * K\n",
        "assert (pred.groupby('user_id')['item_id'].count() == K).all()\n",
        "assert pred['item_id'].nunique() > K"
      ]
    },
    {
      "cell_type": "markdown",
      "id": "ef6ddc1f",
      "metadata": {
        "id": "ef6ddc1f"
      },
      "source": [
        "## Улучшение рекомендаций популярного\n",
        "Мы рекомендовали популярное, это максимально простая модель, у которой могут быть простые улучшения. Например, можно подобрать период, за который берутся данные или учитывать более \"свежие\" взаимодействия с большим весом или сэмплировать рекомендации с вероятностями, пропорциональными популярности, чтобы достичь большего разнообразия."
      ]
    },
    {
      "cell_type": "markdown",
      "id": "45e6c745",
      "metadata": {
        "id": "45e6c745"
      },
      "source": [
        "# Метрики"
      ]
    },
    {
      "cell_type": "markdown",
      "id": "dfd66a31",
      "metadata": {
        "id": "dfd66a31"
      },
      "source": [
        "Как понять, что понравится пользователю? Для максимальной достоверности — порекомендовать и посмотреть на его поведение (кликнет/купит/посмотрит ли рекомендованные айтемы).\n",
        "\n",
        "Но жизнь устроена по-другому!\n",
        "\n",
        "A/B-тестирование - честно, но:\n",
        "- дорого\n",
        "- сложно\n",
        "- рискованно\n",
        "- не походит для прототипирования.\n",
        "\n",
        "A/B на синтетических данных:\n",
        "- не научились пока качественно моделировать поведение пользователей\n",
        "\n",
        "Поэтому в первую очередь для оценки качества применяются offline эксперименты, и измеряют offline-метрики.\n",
        "\n",
        "Метрики качества:\n",
        "- регрессионные метрики (RMSE, MAE)\n",
        "- метрики классификации и ранжирования (precision, recall, Mean Average Precision, NDCG)\n",
        "\n",
        "Метрики разнообразия:\n",
        "- coverage, surprisal, diversity, ets"
      ]
    },
    {
      "cell_type": "markdown",
      "source": [
        "[Статья](https://dl.acm.org/doi/10.1145/3460231.3478848) Лаборатории ИИ Сбера о том, что в науке и индустрии зачастую используют различные реализации одних и тех метрик, что приводит к несогласованности результатов исследований.\n",
        "\n",
        "[Библиотека для рекомендаций](https://github.com/sb-ai-lab/RePlay) от Сбера с реализацией метрик, разбиений и baseline-ов."
      ],
      "metadata": {
        "id": "mD-ocjLwl3Ep"
      },
      "id": "mD-ocjLwl3Ep"
    },
    {
      "cell_type": "markdown",
      "id": "69ef31ac",
      "metadata": {
        "id": "69ef31ac"
      },
      "source": [
        "## Реализуем HitRate"
      ]
    },
    {
      "cell_type": "markdown",
      "id": "c2938542",
      "metadata": {
        "id": "c2938542"
      },
      "source": [
        "Метрики в рекомендациях часто рассчитываются для каждого пользователя для top-к рекомендаций, в ground truth при этом учитываются все релевантные объекты, а не только top-К. Затем метрики усредняются по пользователям."
      ]
    },
    {
      "cell_type": "markdown",
      "id": "06757a62",
      "metadata": {
        "id": "06757a62"
      },
      "source": [
        "## HitRate\n",
        " = 1, если среди рекомендаций есть хотя бы одна релевантная и 0 иначе\n"
      ]
    },
    {
      "cell_type": "code",
      "execution_count": 51,
      "id": "6cac080a",
      "metadata": {
        "id": "6cac080a"
      },
      "outputs": [],
      "source": [
        "def user_hr(row):\n",
        "    \"\"\"\n",
        "    Calculate HitRate value for pandas row with user_id, a list of ground truth items in ``gt_items``\n",
        "    and list or recommended items in ``pred_list``.\n",
        "    \"\"\"\n",
        "    for item in row['pred_list']:\n",
        "        if item in row['gt_list']:\n",
        "            return 1\n",
        "    return 0"
      ]
    },
    {
      "cell_type": "code",
      "execution_count": 52,
      "id": "2af5baa0",
      "metadata": {
        "id": "2af5baa0"
      },
      "outputs": [],
      "source": [
        "assert user_hr(pd.Series({'user_id': 1, 'pred_list': [1, 2, 3], 'gt_list': [4, 5, 2, 6]})) == 1\n",
        "assert user_hr(pd.Series({'user_id': 1, 'pred_list': [1, 3], 'gt_list': [4, 5, 2, 6]})) == 0\n",
        "assert user_hr(pd.Series({'user_id': 1, 'pred_list': [], 'gt_list': [4, 5, 2, 6]})) == 0"
      ]
    },
    {
      "cell_type": "markdown",
      "id": "7c114fe2",
      "metadata": {
        "id": "7c114fe2"
      },
      "source": [
        "Вопросы, на которые надо ответить при подсчете метрики:\n",
        "\n",
        "1) Как должны учитываться в метриках пользователи, для которых мы что-то предсказали, но в test они отсутствуют (ничего не купили / не начали читать / вообще не пользовались сервисом)?\n",
        "\n",
        "2) Как должны учитываться пользователи, которые есть в test, но мы не смогли получить для них предсказания (например, модель не предсказывает для холодных)\n",
        "\n",
        "3) Как на значение метрики будут влиять пользователи, у которых много/мало взаимодействий в test? "
      ]
    },
    {
      "cell_type": "code",
      "execution_count": 53,
      "id": "75290aaf",
      "metadata": {
        "id": "75290aaf"
      },
      "outputs": [],
      "source": [
        "def metric_wrap(pred, ground_truth, k, metric_by_user):\n",
        "    \"\"\"\n",
        "    Prepare data for metric calculation (create dataframe with columns 'user_id', 'pred_list', 'gt_list').\n",
        "    'pred_list' is a list of top-k recommendation ordered by relevance (most relevant is the first)\n",
        "    'gt_list' is a list of items from tests data.\n",
        "    Return mean metric value and dataframe with metric value for each user\n",
        "    \"\"\"  \n",
        "    # оставляем первые k рекомендаций\n",
        "    pred_cropped = leave_top_k(pred, k)\n",
        "    # собираем list-ы\n",
        "    pred_grouped = (pred_cropped\n",
        "                .sort_values(['user_id', 'relevance'], ascending=[False, False])\n",
        "                .groupby('user_id')['item_id']\n",
        "                .apply(list).rename('pred_list')\n",
        "               )\n",
        "    gt_grouped = ground_truth.groupby('user_id')['item_id'].apply(list).rename('gt_list')\n",
        "    to_compare = gt_grouped.to_frame().join(pred_grouped, how='left')\n",
        "    to_compare['pred_list'] = to_compare['pred_list'].apply(lambda x: x if isinstance(x, list) else [])\n",
        "    # применяем метрику\n",
        "    metric_by_user = to_compare.apply(metric_by_user, axis=1)\n",
        "    return metric_by_user.mean(), metric_by_user"
      ]
    },
    {
      "cell_type": "code",
      "execution_count": 54,
      "id": "68a468dd",
      "metadata": {
        "id": "68a468dd"
      },
      "outputs": [],
      "source": [
        "metric_all, _ = metric_wrap(pred, test_by_date, k=K, metric_by_user=user_hr)\n",
        "assert math.isclose(metric_all, 0.022324, abs_tol=1e-6)"
      ]
    },
    {
      "cell_type": "code",
      "execution_count": 55,
      "id": "0c6df717",
      "metadata": {
        "id": "0c6df717"
      },
      "outputs": [],
      "source": [
        "metric_part, _ = metric_wrap(pred[:1000], test_by_date, k=K, metric_by_user=user_hr)\n",
        "assert metric_part < metric_all"
      ]
    },
    {
      "cell_type": "markdown",
      "metadata": {
        "id": "2adfb25d"
      },
      "source": [
        "## Coverage\n",
        "Оценим насколько такие рекомендации хороши с точки зрения разнообразия, и для этого реализуем метрику coverage, которая определяется как доля объектов, которые модель в принципе способна порекомендовать. На практике для сравнения нескольких алгоритмов может реализовываться как доля объектов, присутствующих в выдаче."
      ],
      "id": "2adfb25d"
    },
    {
      "cell_type": "markdown",
      "metadata": {
        "id": "145e78ab"
      },
      "source": [
        "Обратите внимание, что эта метрика не требует ground truth и считается сразу по всем пользователям"
      ],
      "id": "145e78ab"
    },
    {
      "cell_type": "code",
      "execution_count": 144,
      "metadata": {
        "id": "3cde59c8"
      },
      "outputs": [],
      "source": [
        "def coverage(pred, k, all_items):\n",
        "    pred_to_consider = set(leave_top_k(pred, k)['item_id'].values)\n",
        "    all_items = set(all_items.values)\n",
        "    return len(pred_to_consider & all_items) / len(all_items)"
      ],
      "id": "3cde59c8"
    },
    {
      "cell_type": "code",
      "execution_count": 145,
      "metadata": {
        "id": "dfa24587"
      },
      "outputs": [],
      "source": [
        "cov = coverage(pred, K, train_by_date['item_id'])"
      ],
      "id": "dfa24587"
    },
    {
      "cell_type": "code",
      "execution_count": 151,
      "metadata": {
        "colab": {
          "base_uri": "https://localhost:8080/"
        },
        "id": "acdc9f73",
        "outputId": "0f171e12-7ba1-410d-ebc3-b995ad96f181"
      },
      "outputs": [
        {
          "output_type": "stream",
          "name": "stdout",
          "text": [
            "CPU times: user 8 µs, sys: 0 ns, total: 8 µs\n",
            "Wall time: 33.1 µs\n"
          ]
        }
      ],
      "source": [
        "%%time\n",
        "assert math.isclose(cov, 0.000326, abs_tol=1e-6)"
      ],
      "id": "acdc9f73"
    },
    {
      "cell_type": "code",
      "execution_count": 148,
      "metadata": {
        "id": "1fab7b5f"
      },
      "outputs": [],
      "source": [
        "def measure(pred, true, name, df=None, cov_items=None):\n",
        "    if df is None:\n",
        "        df = pd.DataFrame(columns=['hit_rate@1', 'hit_rate@K', 'coverage@K'])\n",
        "    df.loc[name, 'hit_rate@1'] = metric_wrap(pred=pred, ground_truth=true, k=1, metric_by_user=user_hr)[0]\n",
        "    df.loc[name, 'hit_rate@K'] = metric_wrap(pred=pred, ground_truth=true, k=K, metric_by_user=user_hr)[0]\n",
        "    if cov_items is not None:\n",
        "        df.loc[name, 'coverage@K'] = coverage(pred=pred, k=K, all_items=cov_items)\n",
        "    return df"
      ],
      "id": "1fab7b5f"
    },
    {
      "cell_type": "code",
      "execution_count": 149,
      "metadata": {
        "colab": {
          "base_uri": "https://localhost:8080/"
        },
        "id": "46f6b2be",
        "outputId": "49f0aa1c-c862-4314-cc17-d06784e96701"
      },
      "outputs": [
        {
          "output_type": "stream",
          "name": "stdout",
          "text": [
            "CPU times: user 557 ms, sys: 4.13 ms, total: 561 ms\n",
            "Wall time: 570 ms\n"
          ]
        }
      ],
      "source": [
        "%%time\n",
        "metrics = measure(pred, test_by_date, 'popular', cov_items=filtered_df['item_id'])"
      ],
      "id": "46f6b2be"
    },
    {
      "cell_type": "code",
      "source": [
        "metrics"
      ],
      "metadata": {
        "colab": {
          "base_uri": "https://localhost:8080/",
          "height": 81
        },
        "id": "cVvhBhazfGcA",
        "outputId": "51ca1787-6546-4d73-c4cf-e6c030b2d45d"
      },
      "id": "cVvhBhazfGcA",
      "execution_count": 150,
      "outputs": [
        {
          "output_type": "execute_result",
          "data": {
            "text/plain": [
              "        hit_rate@1 hit_rate@K   coverage@K\n",
              "popular  0.0026264  0.0223244  0.000317169"
            ],
            "text/html": [
              "\n",
              "  <div id=\"df-82fcadbc-2bc4-4ab2-8f56-03a35878bd7c\">\n",
              "    <div class=\"colab-df-container\">\n",
              "      <div>\n",
              "<style scoped>\n",
              "    .dataframe tbody tr th:only-of-type {\n",
              "        vertical-align: middle;\n",
              "    }\n",
              "\n",
              "    .dataframe tbody tr th {\n",
              "        vertical-align: top;\n",
              "    }\n",
              "\n",
              "    .dataframe thead th {\n",
              "        text-align: right;\n",
              "    }\n",
              "</style>\n",
              "<table border=\"1\" class=\"dataframe\">\n",
              "  <thead>\n",
              "    <tr style=\"text-align: right;\">\n",
              "      <th></th>\n",
              "      <th>hit_rate@1</th>\n",
              "      <th>hit_rate@K</th>\n",
              "      <th>coverage@K</th>\n",
              "    </tr>\n",
              "  </thead>\n",
              "  <tbody>\n",
              "    <tr>\n",
              "      <th>popular</th>\n",
              "      <td>0.0026264</td>\n",
              "      <td>0.0223244</td>\n",
              "      <td>0.000317169</td>\n",
              "    </tr>\n",
              "  </tbody>\n",
              "</table>\n",
              "</div>\n",
              "      <button class=\"colab-df-convert\" onclick=\"convertToInteractive('df-82fcadbc-2bc4-4ab2-8f56-03a35878bd7c')\"\n",
              "              title=\"Convert this dataframe to an interactive table.\"\n",
              "              style=\"display:none;\">\n",
              "        \n",
              "  <svg xmlns=\"http://www.w3.org/2000/svg\" height=\"24px\"viewBox=\"0 0 24 24\"\n",
              "       width=\"24px\">\n",
              "    <path d=\"M0 0h24v24H0V0z\" fill=\"none\"/>\n",
              "    <path d=\"M18.56 5.44l.94 2.06.94-2.06 2.06-.94-2.06-.94-.94-2.06-.94 2.06-2.06.94zm-11 1L8.5 8.5l.94-2.06 2.06-.94-2.06-.94L8.5 2.5l-.94 2.06-2.06.94zm10 10l.94 2.06.94-2.06 2.06-.94-2.06-.94-.94-2.06-.94 2.06-2.06.94z\"/><path d=\"M17.41 7.96l-1.37-1.37c-.4-.4-.92-.59-1.43-.59-.52 0-1.04.2-1.43.59L10.3 9.45l-7.72 7.72c-.78.78-.78 2.05 0 2.83L4 21.41c.39.39.9.59 1.41.59.51 0 1.02-.2 1.41-.59l7.78-7.78 2.81-2.81c.8-.78.8-2.07 0-2.86zM5.41 20L4 18.59l7.72-7.72 1.47 1.35L5.41 20z\"/>\n",
              "  </svg>\n",
              "      </button>\n",
              "      \n",
              "  <style>\n",
              "    .colab-df-container {\n",
              "      display:flex;\n",
              "      flex-wrap:wrap;\n",
              "      gap: 12px;\n",
              "    }\n",
              "\n",
              "    .colab-df-convert {\n",
              "      background-color: #E8F0FE;\n",
              "      border: none;\n",
              "      border-radius: 50%;\n",
              "      cursor: pointer;\n",
              "      display: none;\n",
              "      fill: #1967D2;\n",
              "      height: 32px;\n",
              "      padding: 0 0 0 0;\n",
              "      width: 32px;\n",
              "    }\n",
              "\n",
              "    .colab-df-convert:hover {\n",
              "      background-color: #E2EBFA;\n",
              "      box-shadow: 0px 1px 2px rgba(60, 64, 67, 0.3), 0px 1px 3px 1px rgba(60, 64, 67, 0.15);\n",
              "      fill: #174EA6;\n",
              "    }\n",
              "\n",
              "    [theme=dark] .colab-df-convert {\n",
              "      background-color: #3B4455;\n",
              "      fill: #D2E3FC;\n",
              "    }\n",
              "\n",
              "    [theme=dark] .colab-df-convert:hover {\n",
              "      background-color: #434B5C;\n",
              "      box-shadow: 0px 1px 3px 1px rgba(0, 0, 0, 0.15);\n",
              "      filter: drop-shadow(0px 1px 2px rgba(0, 0, 0, 0.3));\n",
              "      fill: #FFFFFF;\n",
              "    }\n",
              "  </style>\n",
              "\n",
              "      <script>\n",
              "        const buttonEl =\n",
              "          document.querySelector('#df-82fcadbc-2bc4-4ab2-8f56-03a35878bd7c button.colab-df-convert');\n",
              "        buttonEl.style.display =\n",
              "          google.colab.kernel.accessAllowed ? 'block' : 'none';\n",
              "\n",
              "        async function convertToInteractive(key) {\n",
              "          const element = document.querySelector('#df-82fcadbc-2bc4-4ab2-8f56-03a35878bd7c');\n",
              "          const dataTable =\n",
              "            await google.colab.kernel.invokeFunction('convertToInteractive',\n",
              "                                                     [key], {});\n",
              "          if (!dataTable) return;\n",
              "\n",
              "          const docLinkHtml = 'Like what you see? Visit the ' +\n",
              "            '<a target=\"_blank\" href=https://colab.research.google.com/notebooks/data_table.ipynb>data table notebook</a>'\n",
              "            + ' to learn more about interactive tables.';\n",
              "          element.innerHTML = '';\n",
              "          dataTable['output_type'] = 'display_data';\n",
              "          await google.colab.output.renderOutput(dataTable, element);\n",
              "          const docLink = document.createElement('div');\n",
              "          docLink.innerHTML = docLinkHtml;\n",
              "          element.appendChild(docLink);\n",
              "        }\n",
              "      </script>\n",
              "    </div>\n",
              "  </div>\n",
              "  "
            ]
          },
          "metadata": {},
          "execution_count": 150
        }
      ]
    },
    {
      "cell_type": "markdown",
      "metadata": {
        "id": "JZw67TDcKw1E"
      },
      "source": [
        "# SVD"
      ],
      "id": "JZw67TDcKw1E"
    },
    {
      "cell_type": "markdown",
      "metadata": {
        "id": "e5261747"
      },
      "source": [
        "Используем самую простую из моделей матричной факторизации для рекомендаций - Truncated SVD. Будем использовать [svds](https://docs.scipy.org/doc/scipy/reference/generated/scipy.sparse.linalg.svds.html) из scipy.sparse.linalg. Как мы помним с лекции, пропущенные значения будут учтены как нули. Подумайте, какие из подходов (Truncated SVD, Funk SVD, ImplicitALS) можно применить на имеющихся данных (оценки и процент прочтения).\n",
        "\n",
        "\n",
        "Оптимизированные реализации ALS есть, например, в [implicit](https://implicit.readthedocs.io/en/latest/) или [pyspark mllib](https://spark.apache.org/docs/latest/api/python/reference/api/pyspark.mllib.recommendation.ALS.html)."
      ],
      "id": "e5261747"
    },
    {
      "cell_type": "markdown",
      "metadata": {
        "id": "08d92088"
      },
      "source": [
        "- возьмем k = 64, чтобы получить компактные представления для пользователей и item-ов\n",
        "- в реальных задачах необходимо подбирать k"
      ],
      "id": "08d92088"
    },
    {
      "cell_type": "code",
      "execution_count": 62,
      "metadata": {
        "id": "1c479a85"
      },
      "outputs": [],
      "source": [
        "from scipy.sparse import csr_matrix\n",
        "from scipy.sparse.linalg import svds"
      ],
      "id": "1c479a85"
    },
    {
      "cell_type": "code",
      "execution_count": 63,
      "metadata": {
        "colab": {
          "base_uri": "https://localhost:8080/"
        },
        "id": "303b4e85",
        "outputId": "719703bd-4efd-4f88-917c-129a6d2122b6"
      },
      "outputs": [
        {
          "output_type": "stream",
          "name": "stdout",
          "text": [
            "CPU times: user 5.57 s, sys: 1.53 s, total: 7.1 s\n",
            "Wall time: 9.18 s\n"
          ]
        }
      ],
      "source": [
        "%%time\n",
        "csr_train = csr_matrix((np.ones(train_by_date.shape[0]).astype(float), (train_by_date['user_id'], train_by_date['item_id'])))\n",
        "user_vectors, singular_values, item_vectors = svds(A=csr_train, k=64)"
      ],
      "id": "303b4e85"
    },
    {
      "cell_type": "code",
      "execution_count": 64,
      "metadata": {
        "colab": {
          "base_uri": "https://localhost:8080/"
        },
        "id": "5df702e7",
        "outputId": "7ef06e9d-5ddb-4762-b932-bcc86cf0b691"
      },
      "outputs": [
        {
          "output_type": "execute_result",
          "data": {
            "text/plain": [
              "((37004, 64), (64,), (64, 56752))"
            ]
          },
          "metadata": {},
          "execution_count": 64
        }
      ],
      "source": [
        "user_vectors.shape, singular_values.shape, item_vectors.shape"
      ],
      "id": "5df702e7"
    },
    {
      "cell_type": "markdown",
      "metadata": {
        "id": "5e0923ae"
      },
      "source": [
        "Мы получили векторные представления пользователей и объектов и сингулярные числа. Восстановив матрицу мы получим предсказанные значения вероятностей для новых объектов."
      ],
      "id": "5e0923ae"
    },
    {
      "cell_type": "markdown",
      "metadata": {
        "id": "29d83506"
      },
      "source": [
        "## Получим top-10 рекомендации для пользователя 4"
      ],
      "id": "29d83506"
    },
    {
      "cell_type": "code",
      "source": [
        "u_features_filtered[u_features_filtered['user_id']==4]"
      ],
      "metadata": {
        "colab": {
          "base_uri": "https://localhost:8080/",
          "height": 81
        },
        "id": "ln9BoZTizp51",
        "outputId": "5d2e40d6-7aba-44a7-c248-268e25ebea5c"
      },
      "id": "ln9BoZTizp51",
      "execution_count": 65,
      "outputs": [
        {
          "output_type": "execute_result",
          "data": {
            "text/plain": [
              "    user_id    age  sex\n",
              "19        4  18_24  0.0"
            ],
            "text/html": [
              "\n",
              "  <div id=\"df-bfd2694a-b8e7-488a-948a-76bc022e35d8\">\n",
              "    <div class=\"colab-df-container\">\n",
              "      <div>\n",
              "<style scoped>\n",
              "    .dataframe tbody tr th:only-of-type {\n",
              "        vertical-align: middle;\n",
              "    }\n",
              "\n",
              "    .dataframe tbody tr th {\n",
              "        vertical-align: top;\n",
              "    }\n",
              "\n",
              "    .dataframe thead th {\n",
              "        text-align: right;\n",
              "    }\n",
              "</style>\n",
              "<table border=\"1\" class=\"dataframe\">\n",
              "  <thead>\n",
              "    <tr style=\"text-align: right;\">\n",
              "      <th></th>\n",
              "      <th>user_id</th>\n",
              "      <th>age</th>\n",
              "      <th>sex</th>\n",
              "    </tr>\n",
              "  </thead>\n",
              "  <tbody>\n",
              "    <tr>\n",
              "      <th>19</th>\n",
              "      <td>4</td>\n",
              "      <td>18_24</td>\n",
              "      <td>0.0</td>\n",
              "    </tr>\n",
              "  </tbody>\n",
              "</table>\n",
              "</div>\n",
              "      <button class=\"colab-df-convert\" onclick=\"convertToInteractive('df-bfd2694a-b8e7-488a-948a-76bc022e35d8')\"\n",
              "              title=\"Convert this dataframe to an interactive table.\"\n",
              "              style=\"display:none;\">\n",
              "        \n",
              "  <svg xmlns=\"http://www.w3.org/2000/svg\" height=\"24px\"viewBox=\"0 0 24 24\"\n",
              "       width=\"24px\">\n",
              "    <path d=\"M0 0h24v24H0V0z\" fill=\"none\"/>\n",
              "    <path d=\"M18.56 5.44l.94 2.06.94-2.06 2.06-.94-2.06-.94-.94-2.06-.94 2.06-2.06.94zm-11 1L8.5 8.5l.94-2.06 2.06-.94-2.06-.94L8.5 2.5l-.94 2.06-2.06.94zm10 10l.94 2.06.94-2.06 2.06-.94-2.06-.94-.94-2.06-.94 2.06-2.06.94z\"/><path d=\"M17.41 7.96l-1.37-1.37c-.4-.4-.92-.59-1.43-.59-.52 0-1.04.2-1.43.59L10.3 9.45l-7.72 7.72c-.78.78-.78 2.05 0 2.83L4 21.41c.39.39.9.59 1.41.59.51 0 1.02-.2 1.41-.59l7.78-7.78 2.81-2.81c.8-.78.8-2.07 0-2.86zM5.41 20L4 18.59l7.72-7.72 1.47 1.35L5.41 20z\"/>\n",
              "  </svg>\n",
              "      </button>\n",
              "      \n",
              "  <style>\n",
              "    .colab-df-container {\n",
              "      display:flex;\n",
              "      flex-wrap:wrap;\n",
              "      gap: 12px;\n",
              "    }\n",
              "\n",
              "    .colab-df-convert {\n",
              "      background-color: #E8F0FE;\n",
              "      border: none;\n",
              "      border-radius: 50%;\n",
              "      cursor: pointer;\n",
              "      display: none;\n",
              "      fill: #1967D2;\n",
              "      height: 32px;\n",
              "      padding: 0 0 0 0;\n",
              "      width: 32px;\n",
              "    }\n",
              "\n",
              "    .colab-df-convert:hover {\n",
              "      background-color: #E2EBFA;\n",
              "      box-shadow: 0px 1px 2px rgba(60, 64, 67, 0.3), 0px 1px 3px 1px rgba(60, 64, 67, 0.15);\n",
              "      fill: #174EA6;\n",
              "    }\n",
              "\n",
              "    [theme=dark] .colab-df-convert {\n",
              "      background-color: #3B4455;\n",
              "      fill: #D2E3FC;\n",
              "    }\n",
              "\n",
              "    [theme=dark] .colab-df-convert:hover {\n",
              "      background-color: #434B5C;\n",
              "      box-shadow: 0px 1px 3px 1px rgba(0, 0, 0, 0.15);\n",
              "      filter: drop-shadow(0px 1px 2px rgba(0, 0, 0, 0.3));\n",
              "      fill: #FFFFFF;\n",
              "    }\n",
              "  </style>\n",
              "\n",
              "      <script>\n",
              "        const buttonEl =\n",
              "          document.querySelector('#df-bfd2694a-b8e7-488a-948a-76bc022e35d8 button.colab-df-convert');\n",
              "        buttonEl.style.display =\n",
              "          google.colab.kernel.accessAllowed ? 'block' : 'none';\n",
              "\n",
              "        async function convertToInteractive(key) {\n",
              "          const element = document.querySelector('#df-bfd2694a-b8e7-488a-948a-76bc022e35d8');\n",
              "          const dataTable =\n",
              "            await google.colab.kernel.invokeFunction('convertToInteractive',\n",
              "                                                     [key], {});\n",
              "          if (!dataTable) return;\n",
              "\n",
              "          const docLinkHtml = 'Like what you see? Visit the ' +\n",
              "            '<a target=\"_blank\" href=https://colab.research.google.com/notebooks/data_table.ipynb>data table notebook</a>'\n",
              "            + ' to learn more about interactive tables.';\n",
              "          element.innerHTML = '';\n",
              "          dataTable['output_type'] = 'display_data';\n",
              "          await google.colab.output.renderOutput(dataTable, element);\n",
              "          const docLink = document.createElement('div');\n",
              "          docLink.innerHTML = docLinkHtml;\n",
              "          element.appendChild(docLink);\n",
              "        }\n",
              "      </script>\n",
              "    </div>\n",
              "  </div>\n",
              "  "
            ]
          },
          "metadata": {},
          "execution_count": 65
        }
      ]
    },
    {
      "cell_type": "code",
      "source": [
        "train_by_date[train_by_date['user_id']==4].merge(i_features_filtered, on='item_id').sort_values(by='start_date', ascending=False)"
      ],
      "metadata": {
        "colab": {
          "base_uri": "https://localhost:8080/",
          "height": 699
        },
        "id": "ME-pExLcz51J",
        "outputId": "b20f15a6-dd8c-49e0-b510-54dc977a93f5"
      },
      "id": "ME-pExLcz51J",
      "execution_count": 66,
      "outputs": [
        {
          "output_type": "execute_result",
          "data": {
            "text/plain": [
              "    user_id  item_id  progress  rating start_date                  title  \\\n",
              "15        4     2108        99     5.0 2019-08-28                Талорис   \n",
              "14        4    24200       100     5.0 2019-08-27            Синее пламя   \n",
              "13        4    46122        99     NaN 2019-08-25                  Летос   \n",
              "12        4    28949       100     NaN 2019-08-23            Вьюга теней   \n",
              "11        4     2349        97     NaN 2019-08-21        Джанга с тенями   \n",
              "10        4     7988        97     NaN 2019-08-03      Крадущийся в тени   \n",
              "9         4     6883        96     NaN 2019-08-01         Проклятый горн   \n",
              "8         4    21581       100     5.0 2019-07-29         Золотые костры   \n",
              "7         4    37466        99     NaN 2019-07-24               Аутодафе   \n",
              "6         4    12737       100     NaN 2019-07-23                  Страж   \n",
              "5         4     5528        99     NaN 2019-05-28  Век святого Скиминока   \n",
              "4         4    27056       100     NaN 2019-04-15      Свирепый ландграф   \n",
              "3         4    12782       100     NaN 2019-03-30     Честь Белого Волка   \n",
              "2         4    40186       100     NaN 2018-12-05   История Бледной Моли   \n",
              "1         4     5633        85     5.0 2018-05-22                 Спектр   \n",
              "0         4     4187        54     NaN 2018-05-01       Выстрел в сердце   \n",
              "\n",
              "                                               genres            authors  \\\n",
              "15  Героическое фэнтези,Боевое фэнтези,Книги про в...      Алексей Пехов   \n",
              "14  Героическое фэнтези,Боевое фэнтези,Книги про в...      Алексей Пехов   \n",
              "13                 Героическое фэнтези,Боевое фэнтези      Алексей Пехов   \n",
              "12          Героическое фэнтези,Книги про волшебников      Алексей Пехов   \n",
              "11                 Героическое фэнтези,Боевое фэнтези      Алексей Пехов   \n",
              "10                 Героическое фэнтези,Боевое фэнтези      Алексей Пехов   \n",
              "9                  Героическое фэнтези,Боевое фэнтези      Алексей Пехов   \n",
              "8                  Героическое фэнтези,Боевое фэнтези      Алексей Пехов   \n",
              "7                  Героическое фэнтези,Боевое фэнтези      Алексей Пехов   \n",
              "6           Героическое фэнтези,Книги про волшебников      Алексей Пехов   \n",
              "5          Героическое фэнтези,Юмористическое фэнтези     Андрей Белянин   \n",
              "4                              Юмористическое фэнтези     Андрей Белянин   \n",
              "3                              Юмористическое фэнтези     Андрей Белянин   \n",
              "2                Героическое фэнтези,Любовное фэнтези      Настя Любимка   \n",
              "1   Социальная фантастика,Космическая фантастика,Н...  Сергей Лукьяненко   \n",
              "0                      Современная русская литература    Герман Садулаев   \n",
              "\n",
              "         year  \n",
              "15       2019  \n",
              "14       2015  \n",
              "13       2014  \n",
              "12       2003  \n",
              "11       2002  \n",
              "10  2001-2002  \n",
              "9        2014  \n",
              "8        2012  \n",
              "7        2011  \n",
              "6        2010  \n",
              "5        1998  \n",
              "4        1998  \n",
              "3        2018  \n",
              "2        2017  \n",
              "1     2001-02  \n",
              "0        2017  "
            ],
            "text/html": [
              "\n",
              "  <div id=\"df-6bd4333d-71e5-4f64-b0d8-9c1a3cd0f88f\">\n",
              "    <div class=\"colab-df-container\">\n",
              "      <div>\n",
              "<style scoped>\n",
              "    .dataframe tbody tr th:only-of-type {\n",
              "        vertical-align: middle;\n",
              "    }\n",
              "\n",
              "    .dataframe tbody tr th {\n",
              "        vertical-align: top;\n",
              "    }\n",
              "\n",
              "    .dataframe thead th {\n",
              "        text-align: right;\n",
              "    }\n",
              "</style>\n",
              "<table border=\"1\" class=\"dataframe\">\n",
              "  <thead>\n",
              "    <tr style=\"text-align: right;\">\n",
              "      <th></th>\n",
              "      <th>user_id</th>\n",
              "      <th>item_id</th>\n",
              "      <th>progress</th>\n",
              "      <th>rating</th>\n",
              "      <th>start_date</th>\n",
              "      <th>title</th>\n",
              "      <th>genres</th>\n",
              "      <th>authors</th>\n",
              "      <th>year</th>\n",
              "    </tr>\n",
              "  </thead>\n",
              "  <tbody>\n",
              "    <tr>\n",
              "      <th>15</th>\n",
              "      <td>4</td>\n",
              "      <td>2108</td>\n",
              "      <td>99</td>\n",
              "      <td>5.0</td>\n",
              "      <td>2019-08-28</td>\n",
              "      <td>Талорис</td>\n",
              "      <td>Героическое фэнтези,Боевое фэнтези,Книги про в...</td>\n",
              "      <td>Алексей Пехов</td>\n",
              "      <td>2019</td>\n",
              "    </tr>\n",
              "    <tr>\n",
              "      <th>14</th>\n",
              "      <td>4</td>\n",
              "      <td>24200</td>\n",
              "      <td>100</td>\n",
              "      <td>5.0</td>\n",
              "      <td>2019-08-27</td>\n",
              "      <td>Синее пламя</td>\n",
              "      <td>Героическое фэнтези,Боевое фэнтези,Книги про в...</td>\n",
              "      <td>Алексей Пехов</td>\n",
              "      <td>2015</td>\n",
              "    </tr>\n",
              "    <tr>\n",
              "      <th>13</th>\n",
              "      <td>4</td>\n",
              "      <td>46122</td>\n",
              "      <td>99</td>\n",
              "      <td>NaN</td>\n",
              "      <td>2019-08-25</td>\n",
              "      <td>Летос</td>\n",
              "      <td>Героическое фэнтези,Боевое фэнтези</td>\n",
              "      <td>Алексей Пехов</td>\n",
              "      <td>2014</td>\n",
              "    </tr>\n",
              "    <tr>\n",
              "      <th>12</th>\n",
              "      <td>4</td>\n",
              "      <td>28949</td>\n",
              "      <td>100</td>\n",
              "      <td>NaN</td>\n",
              "      <td>2019-08-23</td>\n",
              "      <td>Вьюга теней</td>\n",
              "      <td>Героическое фэнтези,Книги про волшебников</td>\n",
              "      <td>Алексей Пехов</td>\n",
              "      <td>2003</td>\n",
              "    </tr>\n",
              "    <tr>\n",
              "      <th>11</th>\n",
              "      <td>4</td>\n",
              "      <td>2349</td>\n",
              "      <td>97</td>\n",
              "      <td>NaN</td>\n",
              "      <td>2019-08-21</td>\n",
              "      <td>Джанга с тенями</td>\n",
              "      <td>Героическое фэнтези,Боевое фэнтези</td>\n",
              "      <td>Алексей Пехов</td>\n",
              "      <td>2002</td>\n",
              "    </tr>\n",
              "    <tr>\n",
              "      <th>10</th>\n",
              "      <td>4</td>\n",
              "      <td>7988</td>\n",
              "      <td>97</td>\n",
              "      <td>NaN</td>\n",
              "      <td>2019-08-03</td>\n",
              "      <td>Крадущийся в тени</td>\n",
              "      <td>Героическое фэнтези,Боевое фэнтези</td>\n",
              "      <td>Алексей Пехов</td>\n",
              "      <td>2001-2002</td>\n",
              "    </tr>\n",
              "    <tr>\n",
              "      <th>9</th>\n",
              "      <td>4</td>\n",
              "      <td>6883</td>\n",
              "      <td>96</td>\n",
              "      <td>NaN</td>\n",
              "      <td>2019-08-01</td>\n",
              "      <td>Проклятый горн</td>\n",
              "      <td>Героическое фэнтези,Боевое фэнтези</td>\n",
              "      <td>Алексей Пехов</td>\n",
              "      <td>2014</td>\n",
              "    </tr>\n",
              "    <tr>\n",
              "      <th>8</th>\n",
              "      <td>4</td>\n",
              "      <td>21581</td>\n",
              "      <td>100</td>\n",
              "      <td>5.0</td>\n",
              "      <td>2019-07-29</td>\n",
              "      <td>Золотые костры</td>\n",
              "      <td>Героическое фэнтези,Боевое фэнтези</td>\n",
              "      <td>Алексей Пехов</td>\n",
              "      <td>2012</td>\n",
              "    </tr>\n",
              "    <tr>\n",
              "      <th>7</th>\n",
              "      <td>4</td>\n",
              "      <td>37466</td>\n",
              "      <td>99</td>\n",
              "      <td>NaN</td>\n",
              "      <td>2019-07-24</td>\n",
              "      <td>Аутодафе</td>\n",
              "      <td>Героическое фэнтези,Боевое фэнтези</td>\n",
              "      <td>Алексей Пехов</td>\n",
              "      <td>2011</td>\n",
              "    </tr>\n",
              "    <tr>\n",
              "      <th>6</th>\n",
              "      <td>4</td>\n",
              "      <td>12737</td>\n",
              "      <td>100</td>\n",
              "      <td>NaN</td>\n",
              "      <td>2019-07-23</td>\n",
              "      <td>Страж</td>\n",
              "      <td>Героическое фэнтези,Книги про волшебников</td>\n",
              "      <td>Алексей Пехов</td>\n",
              "      <td>2010</td>\n",
              "    </tr>\n",
              "    <tr>\n",
              "      <th>5</th>\n",
              "      <td>4</td>\n",
              "      <td>5528</td>\n",
              "      <td>99</td>\n",
              "      <td>NaN</td>\n",
              "      <td>2019-05-28</td>\n",
              "      <td>Век святого Скиминока</td>\n",
              "      <td>Героическое фэнтези,Юмористическое фэнтези</td>\n",
              "      <td>Андрей Белянин</td>\n",
              "      <td>1998</td>\n",
              "    </tr>\n",
              "    <tr>\n",
              "      <th>4</th>\n",
              "      <td>4</td>\n",
              "      <td>27056</td>\n",
              "      <td>100</td>\n",
              "      <td>NaN</td>\n",
              "      <td>2019-04-15</td>\n",
              "      <td>Свирепый ландграф</td>\n",
              "      <td>Юмористическое фэнтези</td>\n",
              "      <td>Андрей Белянин</td>\n",
              "      <td>1998</td>\n",
              "    </tr>\n",
              "    <tr>\n",
              "      <th>3</th>\n",
              "      <td>4</td>\n",
              "      <td>12782</td>\n",
              "      <td>100</td>\n",
              "      <td>NaN</td>\n",
              "      <td>2019-03-30</td>\n",
              "      <td>Честь Белого Волка</td>\n",
              "      <td>Юмористическое фэнтези</td>\n",
              "      <td>Андрей Белянин</td>\n",
              "      <td>2018</td>\n",
              "    </tr>\n",
              "    <tr>\n",
              "      <th>2</th>\n",
              "      <td>4</td>\n",
              "      <td>40186</td>\n",
              "      <td>100</td>\n",
              "      <td>NaN</td>\n",
              "      <td>2018-12-05</td>\n",
              "      <td>История Бледной Моли</td>\n",
              "      <td>Героическое фэнтези,Любовное фэнтези</td>\n",
              "      <td>Настя Любимка</td>\n",
              "      <td>2017</td>\n",
              "    </tr>\n",
              "    <tr>\n",
              "      <th>1</th>\n",
              "      <td>4</td>\n",
              "      <td>5633</td>\n",
              "      <td>85</td>\n",
              "      <td>5.0</td>\n",
              "      <td>2018-05-22</td>\n",
              "      <td>Спектр</td>\n",
              "      <td>Социальная фантастика,Космическая фантастика,Н...</td>\n",
              "      <td>Сергей Лукьяненко</td>\n",
              "      <td>2001-02</td>\n",
              "    </tr>\n",
              "    <tr>\n",
              "      <th>0</th>\n",
              "      <td>4</td>\n",
              "      <td>4187</td>\n",
              "      <td>54</td>\n",
              "      <td>NaN</td>\n",
              "      <td>2018-05-01</td>\n",
              "      <td>Выстрел в сердце</td>\n",
              "      <td>Современная русская литература</td>\n",
              "      <td>Герман Садулаев</td>\n",
              "      <td>2017</td>\n",
              "    </tr>\n",
              "  </tbody>\n",
              "</table>\n",
              "</div>\n",
              "      <button class=\"colab-df-convert\" onclick=\"convertToInteractive('df-6bd4333d-71e5-4f64-b0d8-9c1a3cd0f88f')\"\n",
              "              title=\"Convert this dataframe to an interactive table.\"\n",
              "              style=\"display:none;\">\n",
              "        \n",
              "  <svg xmlns=\"http://www.w3.org/2000/svg\" height=\"24px\"viewBox=\"0 0 24 24\"\n",
              "       width=\"24px\">\n",
              "    <path d=\"M0 0h24v24H0V0z\" fill=\"none\"/>\n",
              "    <path d=\"M18.56 5.44l.94 2.06.94-2.06 2.06-.94-2.06-.94-.94-2.06-.94 2.06-2.06.94zm-11 1L8.5 8.5l.94-2.06 2.06-.94-2.06-.94L8.5 2.5l-.94 2.06-2.06.94zm10 10l.94 2.06.94-2.06 2.06-.94-2.06-.94-.94-2.06-.94 2.06-2.06.94z\"/><path d=\"M17.41 7.96l-1.37-1.37c-.4-.4-.92-.59-1.43-.59-.52 0-1.04.2-1.43.59L10.3 9.45l-7.72 7.72c-.78.78-.78 2.05 0 2.83L4 21.41c.39.39.9.59 1.41.59.51 0 1.02-.2 1.41-.59l7.78-7.78 2.81-2.81c.8-.78.8-2.07 0-2.86zM5.41 20L4 18.59l7.72-7.72 1.47 1.35L5.41 20z\"/>\n",
              "  </svg>\n",
              "      </button>\n",
              "      \n",
              "  <style>\n",
              "    .colab-df-container {\n",
              "      display:flex;\n",
              "      flex-wrap:wrap;\n",
              "      gap: 12px;\n",
              "    }\n",
              "\n",
              "    .colab-df-convert {\n",
              "      background-color: #E8F0FE;\n",
              "      border: none;\n",
              "      border-radius: 50%;\n",
              "      cursor: pointer;\n",
              "      display: none;\n",
              "      fill: #1967D2;\n",
              "      height: 32px;\n",
              "      padding: 0 0 0 0;\n",
              "      width: 32px;\n",
              "    }\n",
              "\n",
              "    .colab-df-convert:hover {\n",
              "      background-color: #E2EBFA;\n",
              "      box-shadow: 0px 1px 2px rgba(60, 64, 67, 0.3), 0px 1px 3px 1px rgba(60, 64, 67, 0.15);\n",
              "      fill: #174EA6;\n",
              "    }\n",
              "\n",
              "    [theme=dark] .colab-df-convert {\n",
              "      background-color: #3B4455;\n",
              "      fill: #D2E3FC;\n",
              "    }\n",
              "\n",
              "    [theme=dark] .colab-df-convert:hover {\n",
              "      background-color: #434B5C;\n",
              "      box-shadow: 0px 1px 3px 1px rgba(0, 0, 0, 0.15);\n",
              "      filter: drop-shadow(0px 1px 2px rgba(0, 0, 0, 0.3));\n",
              "      fill: #FFFFFF;\n",
              "    }\n",
              "  </style>\n",
              "\n",
              "      <script>\n",
              "        const buttonEl =\n",
              "          document.querySelector('#df-6bd4333d-71e5-4f64-b0d8-9c1a3cd0f88f button.colab-df-convert');\n",
              "        buttonEl.style.display =\n",
              "          google.colab.kernel.accessAllowed ? 'block' : 'none';\n",
              "\n",
              "        async function convertToInteractive(key) {\n",
              "          const element = document.querySelector('#df-6bd4333d-71e5-4f64-b0d8-9c1a3cd0f88f');\n",
              "          const dataTable =\n",
              "            await google.colab.kernel.invokeFunction('convertToInteractive',\n",
              "                                                     [key], {});\n",
              "          if (!dataTable) return;\n",
              "\n",
              "          const docLinkHtml = 'Like what you see? Visit the ' +\n",
              "            '<a target=\"_blank\" href=https://colab.research.google.com/notebooks/data_table.ipynb>data table notebook</a>'\n",
              "            + ' to learn more about interactive tables.';\n",
              "          element.innerHTML = '';\n",
              "          dataTable['output_type'] = 'display_data';\n",
              "          await google.colab.output.renderOutput(dataTable, element);\n",
              "          const docLink = document.createElement('div');\n",
              "          docLink.innerHTML = docLinkHtml;\n",
              "          element.appendChild(docLink);\n",
              "        }\n",
              "      </script>\n",
              "    </div>\n",
              "  </div>\n",
              "  "
            ]
          },
          "metadata": {},
          "execution_count": 66
        }
      ]
    },
    {
      "cell_type": "code",
      "execution_count": 67,
      "metadata": {
        "id": "114e1a19"
      },
      "outputs": [],
      "source": [
        "user = 4\n",
        "rel = user_vectors[user, :] @ np.diag(singular_values) @ item_vectors\n",
        "ids = np.argpartition(rel, -K)[-K:]"
      ],
      "id": "114e1a19"
    },
    {
      "cell_type": "code",
      "execution_count": 68,
      "metadata": {
        "id": "dbdb7f3f",
        "outputId": "86119c72-d600-4ea3-b1c3-be68e6aaf378",
        "colab": {
          "base_uri": "https://localhost:8080/"
        }
      },
      "outputs": [
        {
          "output_type": "execute_result",
          "data": {
            "text/plain": [
              "array([14144,  7988, 15546,  6883,  8119, 29464, 23622, 44316, 29426,\n",
              "       33160])"
            ]
          },
          "metadata": {},
          "execution_count": 68
        }
      ],
      "source": [
        "ids"
      ],
      "id": "dbdb7f3f"
    },
    {
      "cell_type": "code",
      "execution_count": 69,
      "metadata": {
        "colab": {
          "base_uri": "https://localhost:8080/",
          "height": 363
        },
        "id": "ada08d38",
        "outputId": "e11cc4c4-1ac2-4e79-de1c-2708283278b3"
      },
      "outputs": [
        {
          "output_type": "execute_result",
          "data": {
            "text/plain": [
              "   item_id  relevance                                    title  \\\n",
              "6    23622   0.076306                               Тень света   \n",
              "9    33160   0.067044        Разрушитель божественных замыслов   \n",
              "3     6883   0.063664                           Проклятый горн   \n",
              "7    44316   0.063137                Войны начинают неудачники   \n",
              "5    29464   0.062277                               Знаки ночи   \n",
              "8    29426   0.062091  Великие Спящие. Том 1. Тьма против Тьмы   \n",
              "2    15546   0.061710                     Пешка в большой игре   \n",
              "4     8119   0.061215                      Вторая жизнь майора   \n",
              "1     7988   0.060165                        Крадущийся в тени   \n",
              "0    14144   0.059509                           Командор войны   \n",
              "\n",
              "            authors       year  \\\n",
              "6   Андрей Васильев       2018   \n",
              "9  Владимир Сухинин       2017   \n",
              "3     Алексей Пехов       2014   \n",
              "7       Вадим Панов       2003   \n",
              "5   Андрей Васильев       2018   \n",
              "8     Виталий Зыков       2017   \n",
              "2  Владимир Сухинин       2017   \n",
              "4  Владимир Сухинин       2017   \n",
              "1     Алексей Пехов  2001-2002   \n",
              "0       Вадим Панов       2003   \n",
              "\n",
              "                                              genres  \n",
              "6            Городское фэнтези,Книги про волшебников  \n",
              "9       Героическое фэнтези,Попаданцы,Боевое фэнтези  \n",
              "3                 Героическое фэнтези,Боевое фэнтези  \n",
              "7  Героическое фэнтези,Боевое фэнтези,Городское ф...  \n",
              "5            Городское фэнтези,Книги про волшебников  \n",
              "8       Героическое фэнтези,Попаданцы,Боевое фэнтези  \n",
              "2       Героическое фэнтези,Попаданцы,Боевое фэнтези  \n",
              "4       Героическое фэнтези,Попаданцы,Боевое фэнтези  \n",
              "1                 Героическое фэнтези,Боевое фэнтези  \n",
              "0  Героическое фэнтези,Боевое фэнтези,Городское ф...  "
            ],
            "text/html": [
              "\n",
              "  <div id=\"df-aac8abf5-f4b2-464f-a7cf-65f75ba377f1\">\n",
              "    <div class=\"colab-df-container\">\n",
              "      <div>\n",
              "<style scoped>\n",
              "    .dataframe tbody tr th:only-of-type {\n",
              "        vertical-align: middle;\n",
              "    }\n",
              "\n",
              "    .dataframe tbody tr th {\n",
              "        vertical-align: top;\n",
              "    }\n",
              "\n",
              "    .dataframe thead th {\n",
              "        text-align: right;\n",
              "    }\n",
              "</style>\n",
              "<table border=\"1\" class=\"dataframe\">\n",
              "  <thead>\n",
              "    <tr style=\"text-align: right;\">\n",
              "      <th></th>\n",
              "      <th>item_id</th>\n",
              "      <th>relevance</th>\n",
              "      <th>title</th>\n",
              "      <th>authors</th>\n",
              "      <th>year</th>\n",
              "      <th>genres</th>\n",
              "    </tr>\n",
              "  </thead>\n",
              "  <tbody>\n",
              "    <tr>\n",
              "      <th>6</th>\n",
              "      <td>23622</td>\n",
              "      <td>0.076306</td>\n",
              "      <td>Тень света</td>\n",
              "      <td>Андрей Васильев</td>\n",
              "      <td>2018</td>\n",
              "      <td>Городское фэнтези,Книги про волшебников</td>\n",
              "    </tr>\n",
              "    <tr>\n",
              "      <th>9</th>\n",
              "      <td>33160</td>\n",
              "      <td>0.067044</td>\n",
              "      <td>Разрушитель божественных замыслов</td>\n",
              "      <td>Владимир Сухинин</td>\n",
              "      <td>2017</td>\n",
              "      <td>Героическое фэнтези,Попаданцы,Боевое фэнтези</td>\n",
              "    </tr>\n",
              "    <tr>\n",
              "      <th>3</th>\n",
              "      <td>6883</td>\n",
              "      <td>0.063664</td>\n",
              "      <td>Проклятый горн</td>\n",
              "      <td>Алексей Пехов</td>\n",
              "      <td>2014</td>\n",
              "      <td>Героическое фэнтези,Боевое фэнтези</td>\n",
              "    </tr>\n",
              "    <tr>\n",
              "      <th>7</th>\n",
              "      <td>44316</td>\n",
              "      <td>0.063137</td>\n",
              "      <td>Войны начинают неудачники</td>\n",
              "      <td>Вадим Панов</td>\n",
              "      <td>2003</td>\n",
              "      <td>Героическое фэнтези,Боевое фэнтези,Городское ф...</td>\n",
              "    </tr>\n",
              "    <tr>\n",
              "      <th>5</th>\n",
              "      <td>29464</td>\n",
              "      <td>0.062277</td>\n",
              "      <td>Знаки ночи</td>\n",
              "      <td>Андрей Васильев</td>\n",
              "      <td>2018</td>\n",
              "      <td>Городское фэнтези,Книги про волшебников</td>\n",
              "    </tr>\n",
              "    <tr>\n",
              "      <th>8</th>\n",
              "      <td>29426</td>\n",
              "      <td>0.062091</td>\n",
              "      <td>Великие Спящие. Том 1. Тьма против Тьмы</td>\n",
              "      <td>Виталий Зыков</td>\n",
              "      <td>2017</td>\n",
              "      <td>Героическое фэнтези,Попаданцы,Боевое фэнтези</td>\n",
              "    </tr>\n",
              "    <tr>\n",
              "      <th>2</th>\n",
              "      <td>15546</td>\n",
              "      <td>0.061710</td>\n",
              "      <td>Пешка в большой игре</td>\n",
              "      <td>Владимир Сухинин</td>\n",
              "      <td>2017</td>\n",
              "      <td>Героическое фэнтези,Попаданцы,Боевое фэнтези</td>\n",
              "    </tr>\n",
              "    <tr>\n",
              "      <th>4</th>\n",
              "      <td>8119</td>\n",
              "      <td>0.061215</td>\n",
              "      <td>Вторая жизнь майора</td>\n",
              "      <td>Владимир Сухинин</td>\n",
              "      <td>2017</td>\n",
              "      <td>Героическое фэнтези,Попаданцы,Боевое фэнтези</td>\n",
              "    </tr>\n",
              "    <tr>\n",
              "      <th>1</th>\n",
              "      <td>7988</td>\n",
              "      <td>0.060165</td>\n",
              "      <td>Крадущийся в тени</td>\n",
              "      <td>Алексей Пехов</td>\n",
              "      <td>2001-2002</td>\n",
              "      <td>Героическое фэнтези,Боевое фэнтези</td>\n",
              "    </tr>\n",
              "    <tr>\n",
              "      <th>0</th>\n",
              "      <td>14144</td>\n",
              "      <td>0.059509</td>\n",
              "      <td>Командор войны</td>\n",
              "      <td>Вадим Панов</td>\n",
              "      <td>2003</td>\n",
              "      <td>Героическое фэнтези,Боевое фэнтези,Городское ф...</td>\n",
              "    </tr>\n",
              "  </tbody>\n",
              "</table>\n",
              "</div>\n",
              "      <button class=\"colab-df-convert\" onclick=\"convertToInteractive('df-aac8abf5-f4b2-464f-a7cf-65f75ba377f1')\"\n",
              "              title=\"Convert this dataframe to an interactive table.\"\n",
              "              style=\"display:none;\">\n",
              "        \n",
              "  <svg xmlns=\"http://www.w3.org/2000/svg\" height=\"24px\"viewBox=\"0 0 24 24\"\n",
              "       width=\"24px\">\n",
              "    <path d=\"M0 0h24v24H0V0z\" fill=\"none\"/>\n",
              "    <path d=\"M18.56 5.44l.94 2.06.94-2.06 2.06-.94-2.06-.94-.94-2.06-.94 2.06-2.06.94zm-11 1L8.5 8.5l.94-2.06 2.06-.94-2.06-.94L8.5 2.5l-.94 2.06-2.06.94zm10 10l.94 2.06.94-2.06 2.06-.94-2.06-.94-.94-2.06-.94 2.06-2.06.94z\"/><path d=\"M17.41 7.96l-1.37-1.37c-.4-.4-.92-.59-1.43-.59-.52 0-1.04.2-1.43.59L10.3 9.45l-7.72 7.72c-.78.78-.78 2.05 0 2.83L4 21.41c.39.39.9.59 1.41.59.51 0 1.02-.2 1.41-.59l7.78-7.78 2.81-2.81c.8-.78.8-2.07 0-2.86zM5.41 20L4 18.59l7.72-7.72 1.47 1.35L5.41 20z\"/>\n",
              "  </svg>\n",
              "      </button>\n",
              "      \n",
              "  <style>\n",
              "    .colab-df-container {\n",
              "      display:flex;\n",
              "      flex-wrap:wrap;\n",
              "      gap: 12px;\n",
              "    }\n",
              "\n",
              "    .colab-df-convert {\n",
              "      background-color: #E8F0FE;\n",
              "      border: none;\n",
              "      border-radius: 50%;\n",
              "      cursor: pointer;\n",
              "      display: none;\n",
              "      fill: #1967D2;\n",
              "      height: 32px;\n",
              "      padding: 0 0 0 0;\n",
              "      width: 32px;\n",
              "    }\n",
              "\n",
              "    .colab-df-convert:hover {\n",
              "      background-color: #E2EBFA;\n",
              "      box-shadow: 0px 1px 2px rgba(60, 64, 67, 0.3), 0px 1px 3px 1px rgba(60, 64, 67, 0.15);\n",
              "      fill: #174EA6;\n",
              "    }\n",
              "\n",
              "    [theme=dark] .colab-df-convert {\n",
              "      background-color: #3B4455;\n",
              "      fill: #D2E3FC;\n",
              "    }\n",
              "\n",
              "    [theme=dark] .colab-df-convert:hover {\n",
              "      background-color: #434B5C;\n",
              "      box-shadow: 0px 1px 3px 1px rgba(0, 0, 0, 0.15);\n",
              "      filter: drop-shadow(0px 1px 2px rgba(0, 0, 0, 0.3));\n",
              "      fill: #FFFFFF;\n",
              "    }\n",
              "  </style>\n",
              "\n",
              "      <script>\n",
              "        const buttonEl =\n",
              "          document.querySelector('#df-aac8abf5-f4b2-464f-a7cf-65f75ba377f1 button.colab-df-convert');\n",
              "        buttonEl.style.display =\n",
              "          google.colab.kernel.accessAllowed ? 'block' : 'none';\n",
              "\n",
              "        async function convertToInteractive(key) {\n",
              "          const element = document.querySelector('#df-aac8abf5-f4b2-464f-a7cf-65f75ba377f1');\n",
              "          const dataTable =\n",
              "            await google.colab.kernel.invokeFunction('convertToInteractive',\n",
              "                                                     [key], {});\n",
              "          if (!dataTable) return;\n",
              "\n",
              "          const docLinkHtml = 'Like what you see? Visit the ' +\n",
              "            '<a target=\"_blank\" href=https://colab.research.google.com/notebooks/data_table.ipynb>data table notebook</a>'\n",
              "            + ' to learn more about interactive tables.';\n",
              "          element.innerHTML = '';\n",
              "          dataTable['output_type'] = 'display_data';\n",
              "          await google.colab.output.renderOutput(dataTable, element);\n",
              "          const docLink = document.createElement('div');\n",
              "          docLink.innerHTML = docLinkHtml;\n",
              "          element.appendChild(docLink);\n",
              "        }\n",
              "      </script>\n",
              "    </div>\n",
              "  </div>\n",
              "  "
            ]
          },
          "metadata": {},
          "execution_count": 69
        }
      ],
      "source": [
        "res_pd = pd.DataFrame(list(zip(ids, rel[ids])), columns=['item_id', 'relevance']).merge(i_features_filtered[['item_id', 'title', 'authors', 'year', 'genres']], on='item_id')\n",
        "res_pd.sort_values('relevance', ascending=False)"
      ],
      "id": "ada08d38"
    },
    {
      "cell_type": "markdown",
      "metadata": {
        "id": "83e9eab9"
      },
      "source": [
        "## Обернем SVD в класс и оценим качество"
      ],
      "id": "83e9eab9"
    },
    {
      "cell_type": "code",
      "execution_count": 70,
      "metadata": {
        "id": "4be4c10e"
      },
      "outputs": [],
      "source": [
        "class SVDModel(ParentModel):\n",
        "    user_vectors: np.array\n",
        "    singular_values: np.array\n",
        "    item_vectors:np.array\n",
        "        \n",
        "    def __init__(self, rank: int):\n",
        "        self.rank = rank\n",
        "        \n",
        "    def fit(self, \n",
        "            log: pd.DataFrame, \n",
        "            user_features: Optional[pd.DataFrame]=None, \n",
        "            item_features: Optional[pd.DataFrame]=None) -> 'SVDModel':\n",
        "        csr_train = csr_matrix((np.ones(log.shape[0]).astype(float), (log['user_id'], log['item_id'])))\n",
        "        self.user_vectors, self.singular_values, self.item_vectors = svds(A=csr_train, k=self.rank)\n",
        "        return self\n",
        "        \n",
        "    def _split_pair(self, \n",
        "                    pred):\n",
        "        \"\"\"\n",
        "        Split column of tuples <item_id, relevance>\n",
        "        \"\"\"\n",
        "        pred['item_id'] = pred['recs'].apply(lambda x: x[0])\n",
        "        pred['relevance'] = pred['recs'].apply(lambda x: x[1])\n",
        "        pred.drop(columns=['recs'], inplace=True)\n",
        "        \n",
        "    def _predict(self, \n",
        "                log: pd.DataFrame, \n",
        "                users: pd.Series, \n",
        "                k: int,\n",
        "                user_features: Optional[pd.DataFrame]=None, \n",
        "                item_features: Optional[pd.DataFrame]=None,\n",
        "                filter_seen:bool = True) -> pd.DataFrame:\n",
        "        \n",
        "        def als_pred_by_user(user_id):\n",
        "            \"\"\"\n",
        "            Get top-k recs for user as a list of tuples with <item_id, relevance>\n",
        "            \"\"\"\n",
        "            rel = self.user_vectors[user_id, :] @ np.diag(self.singular_values) @ self.item_vectors\n",
        "            ids = np.argpartition(rel, -k)[-k:]\n",
        "            return list(zip(ids, rel[ids]))\n",
        "        \n",
        "        pred = pd.DataFrame(users, columns=['user_id'])\n",
        "        pred['recs'] = pred['user_id'].apply(als_pred_by_user)\n",
        "        pred = pred.explode('recs')\n",
        "        self._split_pair(pred)\n",
        "        return pred"
      ],
      "id": "4be4c10e"
    },
    {
      "cell_type": "code",
      "execution_count": 71,
      "metadata": {
        "id": "df0aa975"
      },
      "outputs": [],
      "source": [
        "svd_rec = SVDModel(rank=64)"
      ],
      "id": "df0aa975"
    },
    {
      "cell_type": "code",
      "execution_count": 72,
      "metadata": {
        "colab": {
          "base_uri": "https://localhost:8080/"
        },
        "id": "fd8e9deb",
        "outputId": "6b2c2f71-a24c-40cc-c2d4-bdeb55ed8d71"
      },
      "outputs": [
        {
          "output_type": "stream",
          "name": "stdout",
          "text": [
            "CPU times: user 6.09 s, sys: 1.38 s, total: 7.47 s\n",
            "Wall time: 5.02 s\n"
          ]
        },
        {
          "output_type": "execute_result",
          "data": {
            "text/plain": [
              "<__main__.SVDModel at 0x7f9b44555af0>"
            ]
          },
          "metadata": {},
          "execution_count": 72
        }
      ],
      "source": [
        "%%time\n",
        "svd_rec.fit(train_by_date)"
      ],
      "id": "fd8e9deb"
    },
    {
      "cell_type": "code",
      "execution_count": 73,
      "metadata": {
        "colab": {
          "base_uri": "https://localhost:8080/"
        },
        "id": "19c90dc9",
        "outputId": "a1ce0705-093b-46bc-ed22-6213e94c368d"
      },
      "outputs": [
        {
          "output_type": "stream",
          "name": "stdout",
          "text": [
            "CPU times: user 18.2 s, sys: 4.25 s, total: 22.5 s\n",
            "Wall time: 22 s\n"
          ]
        }
      ],
      "source": [
        "%%time\n",
        "svd_pred = svd_rec.predict(log=train_by_date, users=test_by_date_users, k=K)"
      ],
      "id": "19c90dc9"
    },
    {
      "cell_type": "code",
      "execution_count": 74,
      "metadata": {
        "colab": {
          "base_uri": "https://localhost:8080/"
        },
        "id": "c1e74c2e",
        "outputId": "9f6e162f-ce60-42cb-aa1d-c403e3a98a2d"
      },
      "outputs": [
        {
          "output_type": "stream",
          "name": "stdout",
          "text": [
            "CPU times: user 528 ms, sys: 5.98 ms, total: 534 ms\n",
            "Wall time: 533 ms\n"
          ]
        }
      ],
      "source": [
        "%%time\n",
        "metrics = measure(svd_pred, test_by_date, 'svd_rec', metrics, cov_items=filtered_df['item_id'])"
      ],
      "id": "c1e74c2e"
    },
    {
      "cell_type": "code",
      "execution_count": 75,
      "metadata": {
        "colab": {
          "base_uri": "https://localhost:8080/",
          "height": 112
        },
        "id": "87zpGz5nMnDP",
        "outputId": "5eba23da-daf9-4d08-8f5f-78a5916168c3"
      },
      "outputs": [
        {
          "output_type": "execute_result",
          "data": {
            "text/plain": [
              "        hit_rate@1 hit_rate@K   coverage@K\n",
              "svd_rec  0.0226527    0.10998    0.0261136\n",
              "popular  0.0026264  0.0223244  0.000317169"
            ],
            "text/html": [
              "\n",
              "  <div id=\"df-a9126678-ed17-4d9a-8a22-ea657a3a49a2\">\n",
              "    <div class=\"colab-df-container\">\n",
              "      <div>\n",
              "<style scoped>\n",
              "    .dataframe tbody tr th:only-of-type {\n",
              "        vertical-align: middle;\n",
              "    }\n",
              "\n",
              "    .dataframe tbody tr th {\n",
              "        vertical-align: top;\n",
              "    }\n",
              "\n",
              "    .dataframe thead th {\n",
              "        text-align: right;\n",
              "    }\n",
              "</style>\n",
              "<table border=\"1\" class=\"dataframe\">\n",
              "  <thead>\n",
              "    <tr style=\"text-align: right;\">\n",
              "      <th></th>\n",
              "      <th>hit_rate@1</th>\n",
              "      <th>hit_rate@K</th>\n",
              "      <th>coverage@K</th>\n",
              "    </tr>\n",
              "  </thead>\n",
              "  <tbody>\n",
              "    <tr>\n",
              "      <th>svd_rec</th>\n",
              "      <td>0.0226527</td>\n",
              "      <td>0.10998</td>\n",
              "      <td>0.0261136</td>\n",
              "    </tr>\n",
              "    <tr>\n",
              "      <th>popular</th>\n",
              "      <td>0.0026264</td>\n",
              "      <td>0.0223244</td>\n",
              "      <td>0.000317169</td>\n",
              "    </tr>\n",
              "  </tbody>\n",
              "</table>\n",
              "</div>\n",
              "      <button class=\"colab-df-convert\" onclick=\"convertToInteractive('df-a9126678-ed17-4d9a-8a22-ea657a3a49a2')\"\n",
              "              title=\"Convert this dataframe to an interactive table.\"\n",
              "              style=\"display:none;\">\n",
              "        \n",
              "  <svg xmlns=\"http://www.w3.org/2000/svg\" height=\"24px\"viewBox=\"0 0 24 24\"\n",
              "       width=\"24px\">\n",
              "    <path d=\"M0 0h24v24H0V0z\" fill=\"none\"/>\n",
              "    <path d=\"M18.56 5.44l.94 2.06.94-2.06 2.06-.94-2.06-.94-.94-2.06-.94 2.06-2.06.94zm-11 1L8.5 8.5l.94-2.06 2.06-.94-2.06-.94L8.5 2.5l-.94 2.06-2.06.94zm10 10l.94 2.06.94-2.06 2.06-.94-2.06-.94-.94-2.06-.94 2.06-2.06.94z\"/><path d=\"M17.41 7.96l-1.37-1.37c-.4-.4-.92-.59-1.43-.59-.52 0-1.04.2-1.43.59L10.3 9.45l-7.72 7.72c-.78.78-.78 2.05 0 2.83L4 21.41c.39.39.9.59 1.41.59.51 0 1.02-.2 1.41-.59l7.78-7.78 2.81-2.81c.8-.78.8-2.07 0-2.86zM5.41 20L4 18.59l7.72-7.72 1.47 1.35L5.41 20z\"/>\n",
              "  </svg>\n",
              "      </button>\n",
              "      \n",
              "  <style>\n",
              "    .colab-df-container {\n",
              "      display:flex;\n",
              "      flex-wrap:wrap;\n",
              "      gap: 12px;\n",
              "    }\n",
              "\n",
              "    .colab-df-convert {\n",
              "      background-color: #E8F0FE;\n",
              "      border: none;\n",
              "      border-radius: 50%;\n",
              "      cursor: pointer;\n",
              "      display: none;\n",
              "      fill: #1967D2;\n",
              "      height: 32px;\n",
              "      padding: 0 0 0 0;\n",
              "      width: 32px;\n",
              "    }\n",
              "\n",
              "    .colab-df-convert:hover {\n",
              "      background-color: #E2EBFA;\n",
              "      box-shadow: 0px 1px 2px rgba(60, 64, 67, 0.3), 0px 1px 3px 1px rgba(60, 64, 67, 0.15);\n",
              "      fill: #174EA6;\n",
              "    }\n",
              "\n",
              "    [theme=dark] .colab-df-convert {\n",
              "      background-color: #3B4455;\n",
              "      fill: #D2E3FC;\n",
              "    }\n",
              "\n",
              "    [theme=dark] .colab-df-convert:hover {\n",
              "      background-color: #434B5C;\n",
              "      box-shadow: 0px 1px 3px 1px rgba(0, 0, 0, 0.15);\n",
              "      filter: drop-shadow(0px 1px 2px rgba(0, 0, 0, 0.3));\n",
              "      fill: #FFFFFF;\n",
              "    }\n",
              "  </style>\n",
              "\n",
              "      <script>\n",
              "        const buttonEl =\n",
              "          document.querySelector('#df-a9126678-ed17-4d9a-8a22-ea657a3a49a2 button.colab-df-convert');\n",
              "        buttonEl.style.display =\n",
              "          google.colab.kernel.accessAllowed ? 'block' : 'none';\n",
              "\n",
              "        async function convertToInteractive(key) {\n",
              "          const element = document.querySelector('#df-a9126678-ed17-4d9a-8a22-ea657a3a49a2');\n",
              "          const dataTable =\n",
              "            await google.colab.kernel.invokeFunction('convertToInteractive',\n",
              "                                                     [key], {});\n",
              "          if (!dataTable) return;\n",
              "\n",
              "          const docLinkHtml = 'Like what you see? Visit the ' +\n",
              "            '<a target=\"_blank\" href=https://colab.research.google.com/notebooks/data_table.ipynb>data table notebook</a>'\n",
              "            + ' to learn more about interactive tables.';\n",
              "          element.innerHTML = '';\n",
              "          dataTable['output_type'] = 'display_data';\n",
              "          await google.colab.output.renderOutput(dataTable, element);\n",
              "          const docLink = document.createElement('div');\n",
              "          docLink.innerHTML = docLinkHtml;\n",
              "          element.appendChild(docLink);\n",
              "        }\n",
              "      </script>\n",
              "    </div>\n",
              "  </div>\n",
              "  "
            ]
          },
          "metadata": {},
          "execution_count": 75
        }
      ],
      "source": [
        "metrics.sort_values('hit_rate@K', ascending=False)"
      ],
      "id": "87zpGz5nMnDP"
    },
    {
      "cell_type": "markdown",
      "metadata": {
        "id": "a9803860"
      },
      "source": [
        "Полезные результаты: теперь у нас есть вектора айтемов, и мы можем искать похожие. Вспомним про косинусное и Евклидово расстояние и скалярное произведение. \n",
        "\n",
        "Если захочется вспомнить про популярные способы оценки близости, можно почитать [тут](https://towardsdatascience.com/9-distance-measures-in-data-science-918109d069fa)"
      ],
      "id": "a9803860"
    },
    {
      "cell_type": "markdown",
      "metadata": {
        "id": "6e9666f2"
      },
      "source": [
        "## Поиск похожих айтемов"
      ],
      "id": "6e9666f2"
    },
    {
      "cell_type": "code",
      "source": [
        "i_features_filtered[i_features_filtered['item_id']==40778]"
      ],
      "metadata": {
        "colab": {
          "base_uri": "https://localhost:8080/",
          "height": 81
        },
        "id": "jguGSXEV2fHR",
        "outputId": "a0a6ecf8-d48f-4fb0-8504-acd42d6a36b4"
      },
      "id": "jguGSXEV2fHR",
      "execution_count": 76,
      "outputs": [
        {
          "output_type": "execute_result",
          "data": {
            "text/plain": [
              "       item_id                                title  \\\n",
              "43954    40778  Магический спецкурс. Первый семестр   \n",
              "\n",
              "                                                 genres      authors  year  \n",
              "43954  Попаданцы,Книги про волшебников,Любовное фэнтези  Лена Летняя  2017  "
            ],
            "text/html": [
              "\n",
              "  <div id=\"df-262e4db2-730b-4709-9c12-52d6b2461db0\">\n",
              "    <div class=\"colab-df-container\">\n",
              "      <div>\n",
              "<style scoped>\n",
              "    .dataframe tbody tr th:only-of-type {\n",
              "        vertical-align: middle;\n",
              "    }\n",
              "\n",
              "    .dataframe tbody tr th {\n",
              "        vertical-align: top;\n",
              "    }\n",
              "\n",
              "    .dataframe thead th {\n",
              "        text-align: right;\n",
              "    }\n",
              "</style>\n",
              "<table border=\"1\" class=\"dataframe\">\n",
              "  <thead>\n",
              "    <tr style=\"text-align: right;\">\n",
              "      <th></th>\n",
              "      <th>item_id</th>\n",
              "      <th>title</th>\n",
              "      <th>genres</th>\n",
              "      <th>authors</th>\n",
              "      <th>year</th>\n",
              "    </tr>\n",
              "  </thead>\n",
              "  <tbody>\n",
              "    <tr>\n",
              "      <th>43954</th>\n",
              "      <td>40778</td>\n",
              "      <td>Магический спецкурс. Первый семестр</td>\n",
              "      <td>Попаданцы,Книги про волшебников,Любовное фэнтези</td>\n",
              "      <td>Лена Летняя</td>\n",
              "      <td>2017</td>\n",
              "    </tr>\n",
              "  </tbody>\n",
              "</table>\n",
              "</div>\n",
              "      <button class=\"colab-df-convert\" onclick=\"convertToInteractive('df-262e4db2-730b-4709-9c12-52d6b2461db0')\"\n",
              "              title=\"Convert this dataframe to an interactive table.\"\n",
              "              style=\"display:none;\">\n",
              "        \n",
              "  <svg xmlns=\"http://www.w3.org/2000/svg\" height=\"24px\"viewBox=\"0 0 24 24\"\n",
              "       width=\"24px\">\n",
              "    <path d=\"M0 0h24v24H0V0z\" fill=\"none\"/>\n",
              "    <path d=\"M18.56 5.44l.94 2.06.94-2.06 2.06-.94-2.06-.94-.94-2.06-.94 2.06-2.06.94zm-11 1L8.5 8.5l.94-2.06 2.06-.94-2.06-.94L8.5 2.5l-.94 2.06-2.06.94zm10 10l.94 2.06.94-2.06 2.06-.94-2.06-.94-.94-2.06-.94 2.06-2.06.94z\"/><path d=\"M17.41 7.96l-1.37-1.37c-.4-.4-.92-.59-1.43-.59-.52 0-1.04.2-1.43.59L10.3 9.45l-7.72 7.72c-.78.78-.78 2.05 0 2.83L4 21.41c.39.39.9.59 1.41.59.51 0 1.02-.2 1.41-.59l7.78-7.78 2.81-2.81c.8-.78.8-2.07 0-2.86zM5.41 20L4 18.59l7.72-7.72 1.47 1.35L5.41 20z\"/>\n",
              "  </svg>\n",
              "      </button>\n",
              "      \n",
              "  <style>\n",
              "    .colab-df-container {\n",
              "      display:flex;\n",
              "      flex-wrap:wrap;\n",
              "      gap: 12px;\n",
              "    }\n",
              "\n",
              "    .colab-df-convert {\n",
              "      background-color: #E8F0FE;\n",
              "      border: none;\n",
              "      border-radius: 50%;\n",
              "      cursor: pointer;\n",
              "      display: none;\n",
              "      fill: #1967D2;\n",
              "      height: 32px;\n",
              "      padding: 0 0 0 0;\n",
              "      width: 32px;\n",
              "    }\n",
              "\n",
              "    .colab-df-convert:hover {\n",
              "      background-color: #E2EBFA;\n",
              "      box-shadow: 0px 1px 2px rgba(60, 64, 67, 0.3), 0px 1px 3px 1px rgba(60, 64, 67, 0.15);\n",
              "      fill: #174EA6;\n",
              "    }\n",
              "\n",
              "    [theme=dark] .colab-df-convert {\n",
              "      background-color: #3B4455;\n",
              "      fill: #D2E3FC;\n",
              "    }\n",
              "\n",
              "    [theme=dark] .colab-df-convert:hover {\n",
              "      background-color: #434B5C;\n",
              "      box-shadow: 0px 1px 3px 1px rgba(0, 0, 0, 0.15);\n",
              "      filter: drop-shadow(0px 1px 2px rgba(0, 0, 0, 0.3));\n",
              "      fill: #FFFFFF;\n",
              "    }\n",
              "  </style>\n",
              "\n",
              "      <script>\n",
              "        const buttonEl =\n",
              "          document.querySelector('#df-262e4db2-730b-4709-9c12-52d6b2461db0 button.colab-df-convert');\n",
              "        buttonEl.style.display =\n",
              "          google.colab.kernel.accessAllowed ? 'block' : 'none';\n",
              "\n",
              "        async function convertToInteractive(key) {\n",
              "          const element = document.querySelector('#df-262e4db2-730b-4709-9c12-52d6b2461db0');\n",
              "          const dataTable =\n",
              "            await google.colab.kernel.invokeFunction('convertToInteractive',\n",
              "                                                     [key], {});\n",
              "          if (!dataTable) return;\n",
              "\n",
              "          const docLinkHtml = 'Like what you see? Visit the ' +\n",
              "            '<a target=\"_blank\" href=https://colab.research.google.com/notebooks/data_table.ipynb>data table notebook</a>'\n",
              "            + ' to learn more about interactive tables.';\n",
              "          element.innerHTML = '';\n",
              "          dataTable['output_type'] = 'display_data';\n",
              "          await google.colab.output.renderOutput(dataTable, element);\n",
              "          const docLink = document.createElement('div');\n",
              "          docLink.innerHTML = docLinkHtml;\n",
              "          element.appendChild(docLink);\n",
              "        }\n",
              "      </script>\n",
              "    </div>\n",
              "  </div>\n",
              "  "
            ]
          },
          "metadata": {},
          "execution_count": 76
        }
      ]
    },
    {
      "cell_type": "code",
      "execution_count": 77,
      "metadata": {
        "id": "BH3m0OTfOK4u"
      },
      "outputs": [],
      "source": [
        "popularity = train_by_date.groupby('item_id')['user_id'].count().rename('popularity').sort_values(ascending=False)\n",
        "items_with_pop = i_features_filtered.merge(popularity, right_index=True, left_on=\"item_id\")"
      ],
      "id": "BH3m0OTfOK4u"
    },
    {
      "cell_type": "code",
      "execution_count": 78,
      "metadata": {
        "colab": {
          "base_uri": "https://localhost:8080/",
          "height": 81
        },
        "id": "46baf6ec",
        "outputId": "cc3d028e-bb5d-4c5a-dfd2-6f580e1fe24e"
      },
      "outputs": [
        {
          "output_type": "execute_result",
          "data": {
            "text/plain": [
              "       item_id                                title  \\\n",
              "43954    40778  Магический спецкурс. Первый семестр   \n",
              "\n",
              "                                                 genres      authors  year  \\\n",
              "43954  Попаданцы,Книги про волшебников,Любовное фэнтези  Лена Летняя  2017   \n",
              "\n",
              "       popularity  \n",
              "43954         239  "
            ],
            "text/html": [
              "\n",
              "  <div id=\"df-a5c14397-6c3c-42c6-ad68-3fe2f31a3b9c\">\n",
              "    <div class=\"colab-df-container\">\n",
              "      <div>\n",
              "<style scoped>\n",
              "    .dataframe tbody tr th:only-of-type {\n",
              "        vertical-align: middle;\n",
              "    }\n",
              "\n",
              "    .dataframe tbody tr th {\n",
              "        vertical-align: top;\n",
              "    }\n",
              "\n",
              "    .dataframe thead th {\n",
              "        text-align: right;\n",
              "    }\n",
              "</style>\n",
              "<table border=\"1\" class=\"dataframe\">\n",
              "  <thead>\n",
              "    <tr style=\"text-align: right;\">\n",
              "      <th></th>\n",
              "      <th>item_id</th>\n",
              "      <th>title</th>\n",
              "      <th>genres</th>\n",
              "      <th>authors</th>\n",
              "      <th>year</th>\n",
              "      <th>popularity</th>\n",
              "    </tr>\n",
              "  </thead>\n",
              "  <tbody>\n",
              "    <tr>\n",
              "      <th>43954</th>\n",
              "      <td>40778</td>\n",
              "      <td>Магический спецкурс. Первый семестр</td>\n",
              "      <td>Попаданцы,Книги про волшебников,Любовное фэнтези</td>\n",
              "      <td>Лена Летняя</td>\n",
              "      <td>2017</td>\n",
              "      <td>239</td>\n",
              "    </tr>\n",
              "  </tbody>\n",
              "</table>\n",
              "</div>\n",
              "      <button class=\"colab-df-convert\" onclick=\"convertToInteractive('df-a5c14397-6c3c-42c6-ad68-3fe2f31a3b9c')\"\n",
              "              title=\"Convert this dataframe to an interactive table.\"\n",
              "              style=\"display:none;\">\n",
              "        \n",
              "  <svg xmlns=\"http://www.w3.org/2000/svg\" height=\"24px\"viewBox=\"0 0 24 24\"\n",
              "       width=\"24px\">\n",
              "    <path d=\"M0 0h24v24H0V0z\" fill=\"none\"/>\n",
              "    <path d=\"M18.56 5.44l.94 2.06.94-2.06 2.06-.94-2.06-.94-.94-2.06-.94 2.06-2.06.94zm-11 1L8.5 8.5l.94-2.06 2.06-.94-2.06-.94L8.5 2.5l-.94 2.06-2.06.94zm10 10l.94 2.06.94-2.06 2.06-.94-2.06-.94-.94-2.06-.94 2.06-2.06.94z\"/><path d=\"M17.41 7.96l-1.37-1.37c-.4-.4-.92-.59-1.43-.59-.52 0-1.04.2-1.43.59L10.3 9.45l-7.72 7.72c-.78.78-.78 2.05 0 2.83L4 21.41c.39.39.9.59 1.41.59.51 0 1.02-.2 1.41-.59l7.78-7.78 2.81-2.81c.8-.78.8-2.07 0-2.86zM5.41 20L4 18.59l7.72-7.72 1.47 1.35L5.41 20z\"/>\n",
              "  </svg>\n",
              "      </button>\n",
              "      \n",
              "  <style>\n",
              "    .colab-df-container {\n",
              "      display:flex;\n",
              "      flex-wrap:wrap;\n",
              "      gap: 12px;\n",
              "    }\n",
              "\n",
              "    .colab-df-convert {\n",
              "      background-color: #E8F0FE;\n",
              "      border: none;\n",
              "      border-radius: 50%;\n",
              "      cursor: pointer;\n",
              "      display: none;\n",
              "      fill: #1967D2;\n",
              "      height: 32px;\n",
              "      padding: 0 0 0 0;\n",
              "      width: 32px;\n",
              "    }\n",
              "\n",
              "    .colab-df-convert:hover {\n",
              "      background-color: #E2EBFA;\n",
              "      box-shadow: 0px 1px 2px rgba(60, 64, 67, 0.3), 0px 1px 3px 1px rgba(60, 64, 67, 0.15);\n",
              "      fill: #174EA6;\n",
              "    }\n",
              "\n",
              "    [theme=dark] .colab-df-convert {\n",
              "      background-color: #3B4455;\n",
              "      fill: #D2E3FC;\n",
              "    }\n",
              "\n",
              "    [theme=dark] .colab-df-convert:hover {\n",
              "      background-color: #434B5C;\n",
              "      box-shadow: 0px 1px 3px 1px rgba(0, 0, 0, 0.15);\n",
              "      filter: drop-shadow(0px 1px 2px rgba(0, 0, 0, 0.3));\n",
              "      fill: #FFFFFF;\n",
              "    }\n",
              "  </style>\n",
              "\n",
              "      <script>\n",
              "        const buttonEl =\n",
              "          document.querySelector('#df-a5c14397-6c3c-42c6-ad68-3fe2f31a3b9c button.colab-df-convert');\n",
              "        buttonEl.style.display =\n",
              "          google.colab.kernel.accessAllowed ? 'block' : 'none';\n",
              "\n",
              "        async function convertToInteractive(key) {\n",
              "          const element = document.querySelector('#df-a5c14397-6c3c-42c6-ad68-3fe2f31a3b9c');\n",
              "          const dataTable =\n",
              "            await google.colab.kernel.invokeFunction('convertToInteractive',\n",
              "                                                     [key], {});\n",
              "          if (!dataTable) return;\n",
              "\n",
              "          const docLinkHtml = 'Like what you see? Visit the ' +\n",
              "            '<a target=\"_blank\" href=https://colab.research.google.com/notebooks/data_table.ipynb>data table notebook</a>'\n",
              "            + ' to learn more about interactive tables.';\n",
              "          element.innerHTML = '';\n",
              "          dataTable['output_type'] = 'display_data';\n",
              "          await google.colab.output.renderOutput(dataTable, element);\n",
              "          const docLink = document.createElement('div');\n",
              "          docLink.innerHTML = docLinkHtml;\n",
              "          element.appendChild(docLink);\n",
              "        }\n",
              "      </script>\n",
              "    </div>\n",
              "  </div>\n",
              "  "
            ]
          },
          "metadata": {},
          "execution_count": 78
        }
      ],
      "source": [
        "items_with_pop[items_with_pop['item_id'] == 40778]"
      ],
      "id": "46baf6ec"
    },
    {
      "cell_type": "markdown",
      "metadata": {
        "id": "CyAFxi6l3Bjd"
      },
      "source": [
        "### cosine similarity"
      ],
      "id": "CyAFxi6l3Bjd"
    },
    {
      "cell_type": "code",
      "execution_count": 79,
      "metadata": {
        "id": "d3c0e5b2"
      },
      "outputs": [],
      "source": [
        "from sklearn.metrics.pairwise import cosine_similarity"
      ],
      "id": "d3c0e5b2"
    },
    {
      "cell_type": "code",
      "execution_count": 80,
      "metadata": {
        "id": "9461ee78",
        "outputId": "3b98eaf8-a416-4a59-9525-e4283ddb4913",
        "colab": {
          "base_uri": "https://localhost:8080/",
          "height": 528
        }
      },
      "outputs": [
        {
          "output_type": "execute_result",
          "data": {
            "text/plain": [
              "   item_id  relevance                                              title  \\\n",
              "9    40778   1.000000                Магический спецкурс. Первый семестр   \n",
              "3    41204   0.989845                Магический спецкурс. Второй семестр   \n",
              "7     9773   0.960520        Сочинения Александра Пушкина. Статья третья   \n",
              "4     2424   0.959658                                           Пищеблок   \n",
              "5    34665   0.956267                                       Чёрная кошка   \n",
              "8    13512   0.956219                Психотерапия и магия коррекции веса   \n",
              "6    38291   0.956156                                  Проект «Изоляция»   \n",
              "2    10147   0.955206  Врата Победы: Ленинград-43. Сумерки богов. Вра...   \n",
              "1    21025   0.954161                         Ты самая любимая (сборник)   \n",
              "0    12155   0.950431                                 Вeрните моего сына   \n",
              "\n",
              "                                              genres              authors  \\\n",
              "9   Попаданцы,Книги про волшебников,Любовное фэнтези          Лена Летняя   \n",
              "3  Любовно-фантастические романы,Попаданцы,Любовн...          Лена Летняя   \n",
              "7                         Литература 19 века,Критика  Виссарион Белинский   \n",
              "4             Мистика,Современная русская литература       Алексей Иванов   \n",
              "5        Книги для подростков,Книги для дошкольников   Александр Кувшинов   \n",
              "8  Похудение и диеты,Практическая психология,Псих...         Борис Акимов   \n",
              "6                                  Боевая фантастика       Кирилл Шарапов   \n",
              "2                  Историческая фантастика,Попаданцы      Владислав Савин   \n",
              "1                     Современная русская литература        Эдуард Тополь   \n",
              "0  Современные детективы,Остросюжетные любовные р...        Анна Исламова   \n",
              "\n",
              "   year  popularity  \n",
              "9  2017         239  \n",
              "3  2018         219  \n",
              "7  1843           4  \n",
              "4  2018           1  \n",
              "5  2018           2  \n",
              "8  2017           3  \n",
              "6  2013           1  \n",
              "2  2019           2  \n",
              "1  2011           3  \n",
              "0  2019           3  "
            ],
            "text/html": [
              "\n",
              "  <div id=\"df-d034a15c-711a-4609-bce4-7688daf198af\">\n",
              "    <div class=\"colab-df-container\">\n",
              "      <div>\n",
              "<style scoped>\n",
              "    .dataframe tbody tr th:only-of-type {\n",
              "        vertical-align: middle;\n",
              "    }\n",
              "\n",
              "    .dataframe tbody tr th {\n",
              "        vertical-align: top;\n",
              "    }\n",
              "\n",
              "    .dataframe thead th {\n",
              "        text-align: right;\n",
              "    }\n",
              "</style>\n",
              "<table border=\"1\" class=\"dataframe\">\n",
              "  <thead>\n",
              "    <tr style=\"text-align: right;\">\n",
              "      <th></th>\n",
              "      <th>item_id</th>\n",
              "      <th>relevance</th>\n",
              "      <th>title</th>\n",
              "      <th>genres</th>\n",
              "      <th>authors</th>\n",
              "      <th>year</th>\n",
              "      <th>popularity</th>\n",
              "    </tr>\n",
              "  </thead>\n",
              "  <tbody>\n",
              "    <tr>\n",
              "      <th>9</th>\n",
              "      <td>40778</td>\n",
              "      <td>1.000000</td>\n",
              "      <td>Магический спецкурс. Первый семестр</td>\n",
              "      <td>Попаданцы,Книги про волшебников,Любовное фэнтези</td>\n",
              "      <td>Лена Летняя</td>\n",
              "      <td>2017</td>\n",
              "      <td>239</td>\n",
              "    </tr>\n",
              "    <tr>\n",
              "      <th>3</th>\n",
              "      <td>41204</td>\n",
              "      <td>0.989845</td>\n",
              "      <td>Магический спецкурс. Второй семестр</td>\n",
              "      <td>Любовно-фантастические романы,Попаданцы,Любовн...</td>\n",
              "      <td>Лена Летняя</td>\n",
              "      <td>2018</td>\n",
              "      <td>219</td>\n",
              "    </tr>\n",
              "    <tr>\n",
              "      <th>7</th>\n",
              "      <td>9773</td>\n",
              "      <td>0.960520</td>\n",
              "      <td>Сочинения Александра Пушкина. Статья третья</td>\n",
              "      <td>Литература 19 века,Критика</td>\n",
              "      <td>Виссарион Белинский</td>\n",
              "      <td>1843</td>\n",
              "      <td>4</td>\n",
              "    </tr>\n",
              "    <tr>\n",
              "      <th>4</th>\n",
              "      <td>2424</td>\n",
              "      <td>0.959658</td>\n",
              "      <td>Пищеблок</td>\n",
              "      <td>Мистика,Современная русская литература</td>\n",
              "      <td>Алексей Иванов</td>\n",
              "      <td>2018</td>\n",
              "      <td>1</td>\n",
              "    </tr>\n",
              "    <tr>\n",
              "      <th>5</th>\n",
              "      <td>34665</td>\n",
              "      <td>0.956267</td>\n",
              "      <td>Чёрная кошка</td>\n",
              "      <td>Книги для подростков,Книги для дошкольников</td>\n",
              "      <td>Александр Кувшинов</td>\n",
              "      <td>2018</td>\n",
              "      <td>2</td>\n",
              "    </tr>\n",
              "    <tr>\n",
              "      <th>8</th>\n",
              "      <td>13512</td>\n",
              "      <td>0.956219</td>\n",
              "      <td>Психотерапия и магия коррекции веса</td>\n",
              "      <td>Похудение и диеты,Практическая психология,Псих...</td>\n",
              "      <td>Борис Акимов</td>\n",
              "      <td>2017</td>\n",
              "      <td>3</td>\n",
              "    </tr>\n",
              "    <tr>\n",
              "      <th>6</th>\n",
              "      <td>38291</td>\n",
              "      <td>0.956156</td>\n",
              "      <td>Проект «Изоляция»</td>\n",
              "      <td>Боевая фантастика</td>\n",
              "      <td>Кирилл Шарапов</td>\n",
              "      <td>2013</td>\n",
              "      <td>1</td>\n",
              "    </tr>\n",
              "    <tr>\n",
              "      <th>2</th>\n",
              "      <td>10147</td>\n",
              "      <td>0.955206</td>\n",
              "      <td>Врата Победы: Ленинград-43. Сумерки богов. Вра...</td>\n",
              "      <td>Историческая фантастика,Попаданцы</td>\n",
              "      <td>Владислав Савин</td>\n",
              "      <td>2019</td>\n",
              "      <td>2</td>\n",
              "    </tr>\n",
              "    <tr>\n",
              "      <th>1</th>\n",
              "      <td>21025</td>\n",
              "      <td>0.954161</td>\n",
              "      <td>Ты самая любимая (сборник)</td>\n",
              "      <td>Современная русская литература</td>\n",
              "      <td>Эдуард Тополь</td>\n",
              "      <td>2011</td>\n",
              "      <td>3</td>\n",
              "    </tr>\n",
              "    <tr>\n",
              "      <th>0</th>\n",
              "      <td>12155</td>\n",
              "      <td>0.950431</td>\n",
              "      <td>Вeрните моего сына</td>\n",
              "      <td>Современные детективы,Остросюжетные любовные р...</td>\n",
              "      <td>Анна Исламова</td>\n",
              "      <td>2019</td>\n",
              "      <td>3</td>\n",
              "    </tr>\n",
              "  </tbody>\n",
              "</table>\n",
              "</div>\n",
              "      <button class=\"colab-df-convert\" onclick=\"convertToInteractive('df-d034a15c-711a-4609-bce4-7688daf198af')\"\n",
              "              title=\"Convert this dataframe to an interactive table.\"\n",
              "              style=\"display:none;\">\n",
              "        \n",
              "  <svg xmlns=\"http://www.w3.org/2000/svg\" height=\"24px\"viewBox=\"0 0 24 24\"\n",
              "       width=\"24px\">\n",
              "    <path d=\"M0 0h24v24H0V0z\" fill=\"none\"/>\n",
              "    <path d=\"M18.56 5.44l.94 2.06.94-2.06 2.06-.94-2.06-.94-.94-2.06-.94 2.06-2.06.94zm-11 1L8.5 8.5l.94-2.06 2.06-.94-2.06-.94L8.5 2.5l-.94 2.06-2.06.94zm10 10l.94 2.06.94-2.06 2.06-.94-2.06-.94-.94-2.06-.94 2.06-2.06.94z\"/><path d=\"M17.41 7.96l-1.37-1.37c-.4-.4-.92-.59-1.43-.59-.52 0-1.04.2-1.43.59L10.3 9.45l-7.72 7.72c-.78.78-.78 2.05 0 2.83L4 21.41c.39.39.9.59 1.41.59.51 0 1.02-.2 1.41-.59l7.78-7.78 2.81-2.81c.8-.78.8-2.07 0-2.86zM5.41 20L4 18.59l7.72-7.72 1.47 1.35L5.41 20z\"/>\n",
              "  </svg>\n",
              "      </button>\n",
              "      \n",
              "  <style>\n",
              "    .colab-df-container {\n",
              "      display:flex;\n",
              "      flex-wrap:wrap;\n",
              "      gap: 12px;\n",
              "    }\n",
              "\n",
              "    .colab-df-convert {\n",
              "      background-color: #E8F0FE;\n",
              "      border: none;\n",
              "      border-radius: 50%;\n",
              "      cursor: pointer;\n",
              "      display: none;\n",
              "      fill: #1967D2;\n",
              "      height: 32px;\n",
              "      padding: 0 0 0 0;\n",
              "      width: 32px;\n",
              "    }\n",
              "\n",
              "    .colab-df-convert:hover {\n",
              "      background-color: #E2EBFA;\n",
              "      box-shadow: 0px 1px 2px rgba(60, 64, 67, 0.3), 0px 1px 3px 1px rgba(60, 64, 67, 0.15);\n",
              "      fill: #174EA6;\n",
              "    }\n",
              "\n",
              "    [theme=dark] .colab-df-convert {\n",
              "      background-color: #3B4455;\n",
              "      fill: #D2E3FC;\n",
              "    }\n",
              "\n",
              "    [theme=dark] .colab-df-convert:hover {\n",
              "      background-color: #434B5C;\n",
              "      box-shadow: 0px 1px 3px 1px rgba(0, 0, 0, 0.15);\n",
              "      filter: drop-shadow(0px 1px 2px rgba(0, 0, 0, 0.3));\n",
              "      fill: #FFFFFF;\n",
              "    }\n",
              "  </style>\n",
              "\n",
              "      <script>\n",
              "        const buttonEl =\n",
              "          document.querySelector('#df-d034a15c-711a-4609-bce4-7688daf198af button.colab-df-convert');\n",
              "        buttonEl.style.display =\n",
              "          google.colab.kernel.accessAllowed ? 'block' : 'none';\n",
              "\n",
              "        async function convertToInteractive(key) {\n",
              "          const element = document.querySelector('#df-d034a15c-711a-4609-bce4-7688daf198af');\n",
              "          const dataTable =\n",
              "            await google.colab.kernel.invokeFunction('convertToInteractive',\n",
              "                                                     [key], {});\n",
              "          if (!dataTable) return;\n",
              "\n",
              "          const docLinkHtml = 'Like what you see? Visit the ' +\n",
              "            '<a target=\"_blank\" href=https://colab.research.google.com/notebooks/data_table.ipynb>data table notebook</a>'\n",
              "            + ' to learn more about interactive tables.';\n",
              "          element.innerHTML = '';\n",
              "          dataTable['output_type'] = 'display_data';\n",
              "          await google.colab.output.renderOutput(dataTable, element);\n",
              "          const docLink = document.createElement('div');\n",
              "          docLink.innerHTML = docLinkHtml;\n",
              "          element.appendChild(docLink);\n",
              "        }\n",
              "      </script>\n",
              "    </div>\n",
              "  </div>\n",
              "  "
            ]
          },
          "metadata": {},
          "execution_count": 80
        }
      ],
      "source": [
        "rel = cosine_similarity(svd_rec.item_vectors.T[[40778], :], svd_rec.item_vectors.T).ravel()\n",
        "ids = np.argpartition(rel, -K)[-K:]\n",
        "pd.DataFrame(list(zip(ids, rel[ids])), columns=['item_id', 'relevance']).merge(items_with_pop, on='item_id').sort_values('relevance', ascending=False)"
      ],
      "id": "9461ee78"
    },
    {
      "cell_type": "code",
      "source": [
        "# вектор книги с низкой популярностью (34665, \"Чёрная кошка\") имеет маленькую норму\n",
        "np.linalg.norm(svd_rec.item_vectors.T[40778]), np.linalg.norm(svd_rec.item_vectors.T[34665]), "
      ],
      "metadata": {
        "colab": {
          "base_uri": "https://localhost:8080/"
        },
        "id": "Hz_GKwDQ4Sbo",
        "outputId": "5be01171-07f8-4153-c38b-18c833da522c"
      },
      "id": "Hz_GKwDQ4Sbo",
      "execution_count": 81,
      "outputs": [
        {
          "output_type": "execute_result",
          "data": {
            "text/plain": [
              "(0.48042536134992914, 0.0024788481265258476)"
            ]
          },
          "metadata": {},
          "execution_count": 81
        }
      ]
    },
    {
      "cell_type": "code",
      "source": [
        "# у одного из двух пользователей, читавших \"Чёрную кошку\" в истории есть \"Магический спецкурс. Первый семестр\"\n",
        "train_by_date[train_by_date['user_id'].isin(train_by_date[train_by_date['item_id'] == 34665]['user_id'])].sort_values(\"user_id\")"
      ],
      "metadata": {
        "colab": {
          "base_uri": "https://localhost:8080/",
          "height": 426
        },
        "id": "RDh_jUIg3ktt",
        "outputId": "d539674e-bf29-47ac-ba62-7807d9011256"
      },
      "id": "RDh_jUIg3ktt",
      "execution_count": 82,
      "outputs": [
        {
          "output_type": "execute_result",
          "data": {
            "text/plain": [
              "         user_id  item_id  progress  rating start_date\n",
              "43486       1784    46697        80     4.0 2018-01-22\n",
              "113144      1784    16379        80     NaN 2018-02-23\n",
              "210588      1784    34665        74     NaN 2018-04-12\n",
              "401808      1784     1181        73     NaN 2018-07-13\n",
              "29911       4759    40723        69     NaN 2018-01-15\n",
              "298700      4759    10147        63     NaN 2018-05-25\n",
              "848074      4759    38291        72     NaN 2019-02-10\n",
              "930736      4759    53082        89     NaN 2019-03-21\n",
              "943232      4759    40778       100     NaN 2019-03-27\n",
              "961497      4759    41204       100     NaN 2019-04-05\n",
              "963974      4759     9262       100     5.0 2019-04-06\n",
              "1117592     4759    34665        58     NaN 2019-06-17"
            ],
            "text/html": [
              "\n",
              "  <div id=\"df-f070d62e-a1f3-4735-b2da-e5e8794e682c\">\n",
              "    <div class=\"colab-df-container\">\n",
              "      <div>\n",
              "<style scoped>\n",
              "    .dataframe tbody tr th:only-of-type {\n",
              "        vertical-align: middle;\n",
              "    }\n",
              "\n",
              "    .dataframe tbody tr th {\n",
              "        vertical-align: top;\n",
              "    }\n",
              "\n",
              "    .dataframe thead th {\n",
              "        text-align: right;\n",
              "    }\n",
              "</style>\n",
              "<table border=\"1\" class=\"dataframe\">\n",
              "  <thead>\n",
              "    <tr style=\"text-align: right;\">\n",
              "      <th></th>\n",
              "      <th>user_id</th>\n",
              "      <th>item_id</th>\n",
              "      <th>progress</th>\n",
              "      <th>rating</th>\n",
              "      <th>start_date</th>\n",
              "    </tr>\n",
              "  </thead>\n",
              "  <tbody>\n",
              "    <tr>\n",
              "      <th>43486</th>\n",
              "      <td>1784</td>\n",
              "      <td>46697</td>\n",
              "      <td>80</td>\n",
              "      <td>4.0</td>\n",
              "      <td>2018-01-22</td>\n",
              "    </tr>\n",
              "    <tr>\n",
              "      <th>113144</th>\n",
              "      <td>1784</td>\n",
              "      <td>16379</td>\n",
              "      <td>80</td>\n",
              "      <td>NaN</td>\n",
              "      <td>2018-02-23</td>\n",
              "    </tr>\n",
              "    <tr>\n",
              "      <th>210588</th>\n",
              "      <td>1784</td>\n",
              "      <td>34665</td>\n",
              "      <td>74</td>\n",
              "      <td>NaN</td>\n",
              "      <td>2018-04-12</td>\n",
              "    </tr>\n",
              "    <tr>\n",
              "      <th>401808</th>\n",
              "      <td>1784</td>\n",
              "      <td>1181</td>\n",
              "      <td>73</td>\n",
              "      <td>NaN</td>\n",
              "      <td>2018-07-13</td>\n",
              "    </tr>\n",
              "    <tr>\n",
              "      <th>29911</th>\n",
              "      <td>4759</td>\n",
              "      <td>40723</td>\n",
              "      <td>69</td>\n",
              "      <td>NaN</td>\n",
              "      <td>2018-01-15</td>\n",
              "    </tr>\n",
              "    <tr>\n",
              "      <th>298700</th>\n",
              "      <td>4759</td>\n",
              "      <td>10147</td>\n",
              "      <td>63</td>\n",
              "      <td>NaN</td>\n",
              "      <td>2018-05-25</td>\n",
              "    </tr>\n",
              "    <tr>\n",
              "      <th>848074</th>\n",
              "      <td>4759</td>\n",
              "      <td>38291</td>\n",
              "      <td>72</td>\n",
              "      <td>NaN</td>\n",
              "      <td>2019-02-10</td>\n",
              "    </tr>\n",
              "    <tr>\n",
              "      <th>930736</th>\n",
              "      <td>4759</td>\n",
              "      <td>53082</td>\n",
              "      <td>89</td>\n",
              "      <td>NaN</td>\n",
              "      <td>2019-03-21</td>\n",
              "    </tr>\n",
              "    <tr>\n",
              "      <th>943232</th>\n",
              "      <td>4759</td>\n",
              "      <td>40778</td>\n",
              "      <td>100</td>\n",
              "      <td>NaN</td>\n",
              "      <td>2019-03-27</td>\n",
              "    </tr>\n",
              "    <tr>\n",
              "      <th>961497</th>\n",
              "      <td>4759</td>\n",
              "      <td>41204</td>\n",
              "      <td>100</td>\n",
              "      <td>NaN</td>\n",
              "      <td>2019-04-05</td>\n",
              "    </tr>\n",
              "    <tr>\n",
              "      <th>963974</th>\n",
              "      <td>4759</td>\n",
              "      <td>9262</td>\n",
              "      <td>100</td>\n",
              "      <td>5.0</td>\n",
              "      <td>2019-04-06</td>\n",
              "    </tr>\n",
              "    <tr>\n",
              "      <th>1117592</th>\n",
              "      <td>4759</td>\n",
              "      <td>34665</td>\n",
              "      <td>58</td>\n",
              "      <td>NaN</td>\n",
              "      <td>2019-06-17</td>\n",
              "    </tr>\n",
              "  </tbody>\n",
              "</table>\n",
              "</div>\n",
              "      <button class=\"colab-df-convert\" onclick=\"convertToInteractive('df-f070d62e-a1f3-4735-b2da-e5e8794e682c')\"\n",
              "              title=\"Convert this dataframe to an interactive table.\"\n",
              "              style=\"display:none;\">\n",
              "        \n",
              "  <svg xmlns=\"http://www.w3.org/2000/svg\" height=\"24px\"viewBox=\"0 0 24 24\"\n",
              "       width=\"24px\">\n",
              "    <path d=\"M0 0h24v24H0V0z\" fill=\"none\"/>\n",
              "    <path d=\"M18.56 5.44l.94 2.06.94-2.06 2.06-.94-2.06-.94-.94-2.06-.94 2.06-2.06.94zm-11 1L8.5 8.5l.94-2.06 2.06-.94-2.06-.94L8.5 2.5l-.94 2.06-2.06.94zm10 10l.94 2.06.94-2.06 2.06-.94-2.06-.94-.94-2.06-.94 2.06-2.06.94z\"/><path d=\"M17.41 7.96l-1.37-1.37c-.4-.4-.92-.59-1.43-.59-.52 0-1.04.2-1.43.59L10.3 9.45l-7.72 7.72c-.78.78-.78 2.05 0 2.83L4 21.41c.39.39.9.59 1.41.59.51 0 1.02-.2 1.41-.59l7.78-7.78 2.81-2.81c.8-.78.8-2.07 0-2.86zM5.41 20L4 18.59l7.72-7.72 1.47 1.35L5.41 20z\"/>\n",
              "  </svg>\n",
              "      </button>\n",
              "      \n",
              "  <style>\n",
              "    .colab-df-container {\n",
              "      display:flex;\n",
              "      flex-wrap:wrap;\n",
              "      gap: 12px;\n",
              "    }\n",
              "\n",
              "    .colab-df-convert {\n",
              "      background-color: #E8F0FE;\n",
              "      border: none;\n",
              "      border-radius: 50%;\n",
              "      cursor: pointer;\n",
              "      display: none;\n",
              "      fill: #1967D2;\n",
              "      height: 32px;\n",
              "      padding: 0 0 0 0;\n",
              "      width: 32px;\n",
              "    }\n",
              "\n",
              "    .colab-df-convert:hover {\n",
              "      background-color: #E2EBFA;\n",
              "      box-shadow: 0px 1px 2px rgba(60, 64, 67, 0.3), 0px 1px 3px 1px rgba(60, 64, 67, 0.15);\n",
              "      fill: #174EA6;\n",
              "    }\n",
              "\n",
              "    [theme=dark] .colab-df-convert {\n",
              "      background-color: #3B4455;\n",
              "      fill: #D2E3FC;\n",
              "    }\n",
              "\n",
              "    [theme=dark] .colab-df-convert:hover {\n",
              "      background-color: #434B5C;\n",
              "      box-shadow: 0px 1px 3px 1px rgba(0, 0, 0, 0.15);\n",
              "      filter: drop-shadow(0px 1px 2px rgba(0, 0, 0, 0.3));\n",
              "      fill: #FFFFFF;\n",
              "    }\n",
              "  </style>\n",
              "\n",
              "      <script>\n",
              "        const buttonEl =\n",
              "          document.querySelector('#df-f070d62e-a1f3-4735-b2da-e5e8794e682c button.colab-df-convert');\n",
              "        buttonEl.style.display =\n",
              "          google.colab.kernel.accessAllowed ? 'block' : 'none';\n",
              "\n",
              "        async function convertToInteractive(key) {\n",
              "          const element = document.querySelector('#df-f070d62e-a1f3-4735-b2da-e5e8794e682c');\n",
              "          const dataTable =\n",
              "            await google.colab.kernel.invokeFunction('convertToInteractive',\n",
              "                                                     [key], {});\n",
              "          if (!dataTable) return;\n",
              "\n",
              "          const docLinkHtml = 'Like what you see? Visit the ' +\n",
              "            '<a target=\"_blank\" href=https://colab.research.google.com/notebooks/data_table.ipynb>data table notebook</a>'\n",
              "            + ' to learn more about interactive tables.';\n",
              "          element.innerHTML = '';\n",
              "          dataTable['output_type'] = 'display_data';\n",
              "          await google.colab.output.renderOutput(dataTable, element);\n",
              "          const docLink = document.createElement('div');\n",
              "          docLink.innerHTML = docLinkHtml;\n",
              "          element.appendChild(docLink);\n",
              "        }\n",
              "      </script>\n",
              "    </div>\n",
              "  </div>\n",
              "  "
            ]
          },
          "metadata": {},
          "execution_count": 82
        }
      ]
    },
    {
      "cell_type": "markdown",
      "metadata": {
        "id": "Ox8k6Go63hop"
      },
      "source": [
        "### cosine similarity for popular"
      ],
      "id": "Ox8k6Go63hop"
    },
    {
      "cell_type": "code",
      "execution_count": 83,
      "metadata": {
        "colab": {
          "base_uri": "https://localhost:8080/"
        },
        "id": "ppba9wdXoc5W",
        "outputId": "4e52022f-ee2c-4ca8-9616-f74185810a0c"
      },
      "outputs": [
        {
          "output_type": "execute_result",
          "data": {
            "text/plain": [
              "(1995,)"
            ]
          },
          "metadata": {},
          "execution_count": 83
        }
      ],
      "source": [
        "popular = items_with_pop[items_with_pop['popularity'] > 30].item_id.values\n",
        "popular.shape"
      ],
      "id": "ppba9wdXoc5W"
    },
    {
      "cell_type": "code",
      "execution_count": 84,
      "metadata": {
        "id": "6cc5dc66",
        "outputId": "71c760e8-ae08-477b-b8a7-fe62e5f6658e",
        "colab": {
          "base_uri": "https://localhost:8080/",
          "height": 546
        }
      },
      "outputs": [
        {
          "output_type": "execute_result",
          "data": {
            "text/plain": [
              "   item_id  relevance                                            title  \\\n",
              "9    40778   1.000000              Магический спецкурс. Первый семестр   \n",
              "6    41204   0.989845              Магический спецкурс. Второй семестр   \n",
              "1     3927   0.930669                                 Проклятый ректор   \n",
              "5     9262   0.902006                                 Академия Легиона   \n",
              "7    13870   0.785906                                   Невеста Смерти   \n",
              "4    22736   0.470535                                           Монстр   \n",
              "3    46077   0.287447                               Попаданка и король   \n",
              "8    40403   0.263601                                        Только ты   \n",
              "2    44360   0.259466  Награда для генерала. Книга первая: шепот ветра   \n",
              "0    38124   0.236474                     Хранительница времени. Выбор   \n",
              "\n",
              "                                              genres  \\\n",
              "9   Попаданцы,Книги про волшебников,Любовное фэнтези   \n",
              "6  Любовно-фантастические романы,Попаданцы,Любовн...   \n",
              "1  Детективное фэнтези,Книги про волшебников,Любо...   \n",
              "5  Детективное фэнтези,Книги о приключениях,Любов...   \n",
              "7               Детективное фэнтези,Любовное фэнтези   \n",
              "4               Детективное фэнтези,Любовное фэнтези   \n",
              "3  Любовно-фантастические романы,Остросюжетные лю...   \n",
              "8                        Современные любовные романы   \n",
              "2                                   Любовное фэнтези   \n",
              "0  Любовно-фантастические романы,Попаданцы,Любовн...   \n",
              "\n",
              "                     authors  year  popularity  \n",
              "9                Лена Летняя  2017         239  \n",
              "6                Лена Летняя  2018         219  \n",
              "1                Лена Летняя  2017         192  \n",
              "5                Лена Летняя  2018         127  \n",
              "7                Лена Летняя  2018         304  \n",
              "4  Елена Обухова,Лена Летняя  2018          42  \n",
              "3             Матильда Старр  2018          51  \n",
              "8               Янина Логвин  2018          91  \n",
              "2                Лена Летняя  2019          32  \n",
              "0          Алена Федотовская  2015          55  "
            ],
            "text/html": [
              "\n",
              "  <div id=\"df-1f4a9882-38ff-4307-a1e8-fb51772aef9e\">\n",
              "    <div class=\"colab-df-container\">\n",
              "      <div>\n",
              "<style scoped>\n",
              "    .dataframe tbody tr th:only-of-type {\n",
              "        vertical-align: middle;\n",
              "    }\n",
              "\n",
              "    .dataframe tbody tr th {\n",
              "        vertical-align: top;\n",
              "    }\n",
              "\n",
              "    .dataframe thead th {\n",
              "        text-align: right;\n",
              "    }\n",
              "</style>\n",
              "<table border=\"1\" class=\"dataframe\">\n",
              "  <thead>\n",
              "    <tr style=\"text-align: right;\">\n",
              "      <th></th>\n",
              "      <th>item_id</th>\n",
              "      <th>relevance</th>\n",
              "      <th>title</th>\n",
              "      <th>genres</th>\n",
              "      <th>authors</th>\n",
              "      <th>year</th>\n",
              "      <th>popularity</th>\n",
              "    </tr>\n",
              "  </thead>\n",
              "  <tbody>\n",
              "    <tr>\n",
              "      <th>9</th>\n",
              "      <td>40778</td>\n",
              "      <td>1.000000</td>\n",
              "      <td>Магический спецкурс. Первый семестр</td>\n",
              "      <td>Попаданцы,Книги про волшебников,Любовное фэнтези</td>\n",
              "      <td>Лена Летняя</td>\n",
              "      <td>2017</td>\n",
              "      <td>239</td>\n",
              "    </tr>\n",
              "    <tr>\n",
              "      <th>6</th>\n",
              "      <td>41204</td>\n",
              "      <td>0.989845</td>\n",
              "      <td>Магический спецкурс. Второй семестр</td>\n",
              "      <td>Любовно-фантастические романы,Попаданцы,Любовн...</td>\n",
              "      <td>Лена Летняя</td>\n",
              "      <td>2018</td>\n",
              "      <td>219</td>\n",
              "    </tr>\n",
              "    <tr>\n",
              "      <th>1</th>\n",
              "      <td>3927</td>\n",
              "      <td>0.930669</td>\n",
              "      <td>Проклятый ректор</td>\n",
              "      <td>Детективное фэнтези,Книги про волшебников,Любо...</td>\n",
              "      <td>Лена Летняя</td>\n",
              "      <td>2017</td>\n",
              "      <td>192</td>\n",
              "    </tr>\n",
              "    <tr>\n",
              "      <th>5</th>\n",
              "      <td>9262</td>\n",
              "      <td>0.902006</td>\n",
              "      <td>Академия Легиона</td>\n",
              "      <td>Детективное фэнтези,Книги о приключениях,Любов...</td>\n",
              "      <td>Лена Летняя</td>\n",
              "      <td>2018</td>\n",
              "      <td>127</td>\n",
              "    </tr>\n",
              "    <tr>\n",
              "      <th>7</th>\n",
              "      <td>13870</td>\n",
              "      <td>0.785906</td>\n",
              "      <td>Невеста Смерти</td>\n",
              "      <td>Детективное фэнтези,Любовное фэнтези</td>\n",
              "      <td>Лена Летняя</td>\n",
              "      <td>2018</td>\n",
              "      <td>304</td>\n",
              "    </tr>\n",
              "    <tr>\n",
              "      <th>4</th>\n",
              "      <td>22736</td>\n",
              "      <td>0.470535</td>\n",
              "      <td>Монстр</td>\n",
              "      <td>Детективное фэнтези,Любовное фэнтези</td>\n",
              "      <td>Елена Обухова,Лена Летняя</td>\n",
              "      <td>2018</td>\n",
              "      <td>42</td>\n",
              "    </tr>\n",
              "    <tr>\n",
              "      <th>3</th>\n",
              "      <td>46077</td>\n",
              "      <td>0.287447</td>\n",
              "      <td>Попаданка и король</td>\n",
              "      <td>Любовно-фантастические романы,Остросюжетные лю...</td>\n",
              "      <td>Матильда Старр</td>\n",
              "      <td>2018</td>\n",
              "      <td>51</td>\n",
              "    </tr>\n",
              "    <tr>\n",
              "      <th>8</th>\n",
              "      <td>40403</td>\n",
              "      <td>0.263601</td>\n",
              "      <td>Только ты</td>\n",
              "      <td>Современные любовные романы</td>\n",
              "      <td>Янина Логвин</td>\n",
              "      <td>2018</td>\n",
              "      <td>91</td>\n",
              "    </tr>\n",
              "    <tr>\n",
              "      <th>2</th>\n",
              "      <td>44360</td>\n",
              "      <td>0.259466</td>\n",
              "      <td>Награда для генерала. Книга первая: шепот ветра</td>\n",
              "      <td>Любовное фэнтези</td>\n",
              "      <td>Лена Летняя</td>\n",
              "      <td>2019</td>\n",
              "      <td>32</td>\n",
              "    </tr>\n",
              "    <tr>\n",
              "      <th>0</th>\n",
              "      <td>38124</td>\n",
              "      <td>0.236474</td>\n",
              "      <td>Хранительница времени. Выбор</td>\n",
              "      <td>Любовно-фантастические романы,Попаданцы,Любовн...</td>\n",
              "      <td>Алена Федотовская</td>\n",
              "      <td>2015</td>\n",
              "      <td>55</td>\n",
              "    </tr>\n",
              "  </tbody>\n",
              "</table>\n",
              "</div>\n",
              "      <button class=\"colab-df-convert\" onclick=\"convertToInteractive('df-1f4a9882-38ff-4307-a1e8-fb51772aef9e')\"\n",
              "              title=\"Convert this dataframe to an interactive table.\"\n",
              "              style=\"display:none;\">\n",
              "        \n",
              "  <svg xmlns=\"http://www.w3.org/2000/svg\" height=\"24px\"viewBox=\"0 0 24 24\"\n",
              "       width=\"24px\">\n",
              "    <path d=\"M0 0h24v24H0V0z\" fill=\"none\"/>\n",
              "    <path d=\"M18.56 5.44l.94 2.06.94-2.06 2.06-.94-2.06-.94-.94-2.06-.94 2.06-2.06.94zm-11 1L8.5 8.5l.94-2.06 2.06-.94-2.06-.94L8.5 2.5l-.94 2.06-2.06.94zm10 10l.94 2.06.94-2.06 2.06-.94-2.06-.94-.94-2.06-.94 2.06-2.06.94z\"/><path d=\"M17.41 7.96l-1.37-1.37c-.4-.4-.92-.59-1.43-.59-.52 0-1.04.2-1.43.59L10.3 9.45l-7.72 7.72c-.78.78-.78 2.05 0 2.83L4 21.41c.39.39.9.59 1.41.59.51 0 1.02-.2 1.41-.59l7.78-7.78 2.81-2.81c.8-.78.8-2.07 0-2.86zM5.41 20L4 18.59l7.72-7.72 1.47 1.35L5.41 20z\"/>\n",
              "  </svg>\n",
              "      </button>\n",
              "      \n",
              "  <style>\n",
              "    .colab-df-container {\n",
              "      display:flex;\n",
              "      flex-wrap:wrap;\n",
              "      gap: 12px;\n",
              "    }\n",
              "\n",
              "    .colab-df-convert {\n",
              "      background-color: #E8F0FE;\n",
              "      border: none;\n",
              "      border-radius: 50%;\n",
              "      cursor: pointer;\n",
              "      display: none;\n",
              "      fill: #1967D2;\n",
              "      height: 32px;\n",
              "      padding: 0 0 0 0;\n",
              "      width: 32px;\n",
              "    }\n",
              "\n",
              "    .colab-df-convert:hover {\n",
              "      background-color: #E2EBFA;\n",
              "      box-shadow: 0px 1px 2px rgba(60, 64, 67, 0.3), 0px 1px 3px 1px rgba(60, 64, 67, 0.15);\n",
              "      fill: #174EA6;\n",
              "    }\n",
              "\n",
              "    [theme=dark] .colab-df-convert {\n",
              "      background-color: #3B4455;\n",
              "      fill: #D2E3FC;\n",
              "    }\n",
              "\n",
              "    [theme=dark] .colab-df-convert:hover {\n",
              "      background-color: #434B5C;\n",
              "      box-shadow: 0px 1px 3px 1px rgba(0, 0, 0, 0.15);\n",
              "      filter: drop-shadow(0px 1px 2px rgba(0, 0, 0, 0.3));\n",
              "      fill: #FFFFFF;\n",
              "    }\n",
              "  </style>\n",
              "\n",
              "      <script>\n",
              "        const buttonEl =\n",
              "          document.querySelector('#df-1f4a9882-38ff-4307-a1e8-fb51772aef9e button.colab-df-convert');\n",
              "        buttonEl.style.display =\n",
              "          google.colab.kernel.accessAllowed ? 'block' : 'none';\n",
              "\n",
              "        async function convertToInteractive(key) {\n",
              "          const element = document.querySelector('#df-1f4a9882-38ff-4307-a1e8-fb51772aef9e');\n",
              "          const dataTable =\n",
              "            await google.colab.kernel.invokeFunction('convertToInteractive',\n",
              "                                                     [key], {});\n",
              "          if (!dataTable) return;\n",
              "\n",
              "          const docLinkHtml = 'Like what you see? Visit the ' +\n",
              "            '<a target=\"_blank\" href=https://colab.research.google.com/notebooks/data_table.ipynb>data table notebook</a>'\n",
              "            + ' to learn more about interactive tables.';\n",
              "          element.innerHTML = '';\n",
              "          dataTable['output_type'] = 'display_data';\n",
              "          await google.colab.output.renderOutput(dataTable, element);\n",
              "          const docLink = document.createElement('div');\n",
              "          docLink.innerHTML = docLinkHtml;\n",
              "          element.appendChild(docLink);\n",
              "        }\n",
              "      </script>\n",
              "    </div>\n",
              "  </div>\n",
              "  "
            ]
          },
          "metadata": {},
          "execution_count": 84
        }
      ],
      "source": [
        "rel = cosine_similarity(svd_rec.item_vectors.T[[40778], :], svd_rec.item_vectors.T[popular]).ravel()\n",
        "ids = np.argpartition(rel, -K)[-K:]\n",
        "pd.DataFrame(list(zip(popular[ids], rel[ids])), columns=['item_id', 'relevance']).merge(items_with_pop, on='item_id').sort_values('relevance', ascending=False)"
      ],
      "id": "6cc5dc66"
    },
    {
      "cell_type": "markdown",
      "metadata": {
        "id": "a1_HJ7Bl3nN1"
      },
      "source": [
        "### dot product"
      ],
      "id": "a1_HJ7Bl3nN1"
    },
    {
      "cell_type": "code",
      "execution_count": 85,
      "metadata": {
        "id": "3138bb3f",
        "outputId": "726a489a-bd7f-42d9-edf3-6e0d0b67d910",
        "colab": {
          "base_uri": "https://localhost:8080/",
          "height": 563
        }
      },
      "outputs": [
        {
          "output_type": "execute_result",
          "data": {
            "text/plain": [
              "   item_id  relevance                                              title  \\\n",
              "8    40778   0.230809                Магический спецкурс. Первый семестр   \n",
              "5    41204   0.227826                Магический спецкурс. Второй семестр   \n",
              "6     3927   0.172387                                   Проклятый ректор   \n",
              "9    13870   0.147590                                     Невеста Смерти   \n",
              "4     9262   0.137660                                   Академия Легиона   \n",
              "7    37792   0.030206                              Опасно быть студентом   \n",
              "3    47992   0.024666  Струны волшебства. Книга первая. Страшные сказ...   \n",
              "2    32891   0.021872                             Забавно быть студентом   \n",
              "1    22736   0.021797                                             Монстр   \n",
              "0     2027   0.020958                   Алая печать. Академия Сиятельных   \n",
              "\n",
              "                                              genres  \\\n",
              "8   Попаданцы,Книги про волшебников,Любовное фэнтези   \n",
              "5  Любовно-фантастические романы,Попаданцы,Любовн...   \n",
              "6  Детективное фэнтези,Книги про волшебников,Любо...   \n",
              "9               Детективное фэнтези,Любовное фэнтези   \n",
              "4  Детективное фэнтези,Книги о приключениях,Любов...   \n",
              "7  Детективное фэнтези,Любовное фэнтези,Юмористич...   \n",
              "3          Героическое фэнтези,Книги про волшебников   \n",
              "2  Героическое фэнтези,Книги про волшебников,Маги...   \n",
              "1               Детективное фэнтези,Любовное фэнтези   \n",
              "0  Героическое фэнтези,Книги про волшебников,Любо...   \n",
              "\n",
              "                     authors  year  popularity  \n",
              "8                Лена Летняя  2017         239  \n",
              "5                Лена Летняя  2018         219  \n",
              "6                Лена Летняя  2017         192  \n",
              "9                Лена Летняя  2018         304  \n",
              "4                Лена Летняя  2018         127  \n",
              "7          Маргарита Блинова  2015         156  \n",
              "3        Милена Завойчинская  2018         307  \n",
              "2          Маргарита Блинова  2016         119  \n",
              "1  Елена Обухова,Лена Летняя  2018          42  \n",
              "0              Настя Любимка  2016         180  "
            ],
            "text/html": [
              "\n",
              "  <div id=\"df-7060386e-b169-41d7-94fb-b0a3761fde2e\">\n",
              "    <div class=\"colab-df-container\">\n",
              "      <div>\n",
              "<style scoped>\n",
              "    .dataframe tbody tr th:only-of-type {\n",
              "        vertical-align: middle;\n",
              "    }\n",
              "\n",
              "    .dataframe tbody tr th {\n",
              "        vertical-align: top;\n",
              "    }\n",
              "\n",
              "    .dataframe thead th {\n",
              "        text-align: right;\n",
              "    }\n",
              "</style>\n",
              "<table border=\"1\" class=\"dataframe\">\n",
              "  <thead>\n",
              "    <tr style=\"text-align: right;\">\n",
              "      <th></th>\n",
              "      <th>item_id</th>\n",
              "      <th>relevance</th>\n",
              "      <th>title</th>\n",
              "      <th>genres</th>\n",
              "      <th>authors</th>\n",
              "      <th>year</th>\n",
              "      <th>popularity</th>\n",
              "    </tr>\n",
              "  </thead>\n",
              "  <tbody>\n",
              "    <tr>\n",
              "      <th>8</th>\n",
              "      <td>40778</td>\n",
              "      <td>0.230809</td>\n",
              "      <td>Магический спецкурс. Первый семестр</td>\n",
              "      <td>Попаданцы,Книги про волшебников,Любовное фэнтези</td>\n",
              "      <td>Лена Летняя</td>\n",
              "      <td>2017</td>\n",
              "      <td>239</td>\n",
              "    </tr>\n",
              "    <tr>\n",
              "      <th>5</th>\n",
              "      <td>41204</td>\n",
              "      <td>0.227826</td>\n",
              "      <td>Магический спецкурс. Второй семестр</td>\n",
              "      <td>Любовно-фантастические романы,Попаданцы,Любовн...</td>\n",
              "      <td>Лена Летняя</td>\n",
              "      <td>2018</td>\n",
              "      <td>219</td>\n",
              "    </tr>\n",
              "    <tr>\n",
              "      <th>6</th>\n",
              "      <td>3927</td>\n",
              "      <td>0.172387</td>\n",
              "      <td>Проклятый ректор</td>\n",
              "      <td>Детективное фэнтези,Книги про волшебников,Любо...</td>\n",
              "      <td>Лена Летняя</td>\n",
              "      <td>2017</td>\n",
              "      <td>192</td>\n",
              "    </tr>\n",
              "    <tr>\n",
              "      <th>9</th>\n",
              "      <td>13870</td>\n",
              "      <td>0.147590</td>\n",
              "      <td>Невеста Смерти</td>\n",
              "      <td>Детективное фэнтези,Любовное фэнтези</td>\n",
              "      <td>Лена Летняя</td>\n",
              "      <td>2018</td>\n",
              "      <td>304</td>\n",
              "    </tr>\n",
              "    <tr>\n",
              "      <th>4</th>\n",
              "      <td>9262</td>\n",
              "      <td>0.137660</td>\n",
              "      <td>Академия Легиона</td>\n",
              "      <td>Детективное фэнтези,Книги о приключениях,Любов...</td>\n",
              "      <td>Лена Летняя</td>\n",
              "      <td>2018</td>\n",
              "      <td>127</td>\n",
              "    </tr>\n",
              "    <tr>\n",
              "      <th>7</th>\n",
              "      <td>37792</td>\n",
              "      <td>0.030206</td>\n",
              "      <td>Опасно быть студентом</td>\n",
              "      <td>Детективное фэнтези,Любовное фэнтези,Юмористич...</td>\n",
              "      <td>Маргарита Блинова</td>\n",
              "      <td>2015</td>\n",
              "      <td>156</td>\n",
              "    </tr>\n",
              "    <tr>\n",
              "      <th>3</th>\n",
              "      <td>47992</td>\n",
              "      <td>0.024666</td>\n",
              "      <td>Струны волшебства. Книга первая. Страшные сказ...</td>\n",
              "      <td>Героическое фэнтези,Книги про волшебников</td>\n",
              "      <td>Милена Завойчинская</td>\n",
              "      <td>2018</td>\n",
              "      <td>307</td>\n",
              "    </tr>\n",
              "    <tr>\n",
              "      <th>2</th>\n",
              "      <td>32891</td>\n",
              "      <td>0.021872</td>\n",
              "      <td>Забавно быть студентом</td>\n",
              "      <td>Героическое фэнтези,Книги про волшебников,Маги...</td>\n",
              "      <td>Маргарита Блинова</td>\n",
              "      <td>2016</td>\n",
              "      <td>119</td>\n",
              "    </tr>\n",
              "    <tr>\n",
              "      <th>1</th>\n",
              "      <td>22736</td>\n",
              "      <td>0.021797</td>\n",
              "      <td>Монстр</td>\n",
              "      <td>Детективное фэнтези,Любовное фэнтези</td>\n",
              "      <td>Елена Обухова,Лена Летняя</td>\n",
              "      <td>2018</td>\n",
              "      <td>42</td>\n",
              "    </tr>\n",
              "    <tr>\n",
              "      <th>0</th>\n",
              "      <td>2027</td>\n",
              "      <td>0.020958</td>\n",
              "      <td>Алая печать. Академия Сиятельных</td>\n",
              "      <td>Героическое фэнтези,Книги про волшебников,Любо...</td>\n",
              "      <td>Настя Любимка</td>\n",
              "      <td>2016</td>\n",
              "      <td>180</td>\n",
              "    </tr>\n",
              "  </tbody>\n",
              "</table>\n",
              "</div>\n",
              "      <button class=\"colab-df-convert\" onclick=\"convertToInteractive('df-7060386e-b169-41d7-94fb-b0a3761fde2e')\"\n",
              "              title=\"Convert this dataframe to an interactive table.\"\n",
              "              style=\"display:none;\">\n",
              "        \n",
              "  <svg xmlns=\"http://www.w3.org/2000/svg\" height=\"24px\"viewBox=\"0 0 24 24\"\n",
              "       width=\"24px\">\n",
              "    <path d=\"M0 0h24v24H0V0z\" fill=\"none\"/>\n",
              "    <path d=\"M18.56 5.44l.94 2.06.94-2.06 2.06-.94-2.06-.94-.94-2.06-.94 2.06-2.06.94zm-11 1L8.5 8.5l.94-2.06 2.06-.94-2.06-.94L8.5 2.5l-.94 2.06-2.06.94zm10 10l.94 2.06.94-2.06 2.06-.94-2.06-.94-.94-2.06-.94 2.06-2.06.94z\"/><path d=\"M17.41 7.96l-1.37-1.37c-.4-.4-.92-.59-1.43-.59-.52 0-1.04.2-1.43.59L10.3 9.45l-7.72 7.72c-.78.78-.78 2.05 0 2.83L4 21.41c.39.39.9.59 1.41.59.51 0 1.02-.2 1.41-.59l7.78-7.78 2.81-2.81c.8-.78.8-2.07 0-2.86zM5.41 20L4 18.59l7.72-7.72 1.47 1.35L5.41 20z\"/>\n",
              "  </svg>\n",
              "      </button>\n",
              "      \n",
              "  <style>\n",
              "    .colab-df-container {\n",
              "      display:flex;\n",
              "      flex-wrap:wrap;\n",
              "      gap: 12px;\n",
              "    }\n",
              "\n",
              "    .colab-df-convert {\n",
              "      background-color: #E8F0FE;\n",
              "      border: none;\n",
              "      border-radius: 50%;\n",
              "      cursor: pointer;\n",
              "      display: none;\n",
              "      fill: #1967D2;\n",
              "      height: 32px;\n",
              "      padding: 0 0 0 0;\n",
              "      width: 32px;\n",
              "    }\n",
              "\n",
              "    .colab-df-convert:hover {\n",
              "      background-color: #E2EBFA;\n",
              "      box-shadow: 0px 1px 2px rgba(60, 64, 67, 0.3), 0px 1px 3px 1px rgba(60, 64, 67, 0.15);\n",
              "      fill: #174EA6;\n",
              "    }\n",
              "\n",
              "    [theme=dark] .colab-df-convert {\n",
              "      background-color: #3B4455;\n",
              "      fill: #D2E3FC;\n",
              "    }\n",
              "\n",
              "    [theme=dark] .colab-df-convert:hover {\n",
              "      background-color: #434B5C;\n",
              "      box-shadow: 0px 1px 3px 1px rgba(0, 0, 0, 0.15);\n",
              "      filter: drop-shadow(0px 1px 2px rgba(0, 0, 0, 0.3));\n",
              "      fill: #FFFFFF;\n",
              "    }\n",
              "  </style>\n",
              "\n",
              "      <script>\n",
              "        const buttonEl =\n",
              "          document.querySelector('#df-7060386e-b169-41d7-94fb-b0a3761fde2e button.colab-df-convert');\n",
              "        buttonEl.style.display =\n",
              "          google.colab.kernel.accessAllowed ? 'block' : 'none';\n",
              "\n",
              "        async function convertToInteractive(key) {\n",
              "          const element = document.querySelector('#df-7060386e-b169-41d7-94fb-b0a3761fde2e');\n",
              "          const dataTable =\n",
              "            await google.colab.kernel.invokeFunction('convertToInteractive',\n",
              "                                                     [key], {});\n",
              "          if (!dataTable) return;\n",
              "\n",
              "          const docLinkHtml = 'Like what you see? Visit the ' +\n",
              "            '<a target=\"_blank\" href=https://colab.research.google.com/notebooks/data_table.ipynb>data table notebook</a>'\n",
              "            + ' to learn more about interactive tables.';\n",
              "          element.innerHTML = '';\n",
              "          dataTable['output_type'] = 'display_data';\n",
              "          await google.colab.output.renderOutput(dataTable, element);\n",
              "          const docLink = document.createElement('div');\n",
              "          docLink.innerHTML = docLinkHtml;\n",
              "          element.appendChild(docLink);\n",
              "        }\n",
              "      </script>\n",
              "    </div>\n",
              "  </div>\n",
              "  "
            ]
          },
          "metadata": {},
          "execution_count": 85
        }
      ],
      "source": [
        "rel = (svd_rec.item_vectors.T[[40778], :] @ svd_rec.item_vectors).ravel()\n",
        "ids = np.argpartition(rel, -K)[-K:]\n",
        "pd.DataFrame(list(zip(ids, rel[ids])), columns=['item_id', 'relevance']).merge(items_with_pop, on='item_id').sort_values('relevance', ascending=False)\n"
      ],
      "id": "3138bb3f"
    },
    {
      "cell_type": "markdown",
      "metadata": {
        "id": "956c8ff5"
      },
      "source": [
        "# LightFM"
      ],
      "id": "956c8ff5"
    },
    {
      "cell_type": "code",
      "execution_count": 86,
      "metadata": {
        "id": "3780bc5b"
      },
      "outputs": [],
      "source": [
        "# !pip install lightfm\n",
        "from lightfm import LightFM\n",
        "from lightfm.data import Dataset as LFMDataset"
      ],
      "id": "3780bc5b"
    },
    {
      "cell_type": "markdown",
      "metadata": {
        "id": "85f91dc9"
      },
      "source": [
        "## Формулы\n",
        "$$r_{ui} = <q_u , p_i> + b_u + b_i$$\n",
        "\n",
        "$$q_u = \\sum_{j \\in f_u} e^U_j$$\n",
        "$$ e^U_j = w^U_j  e_j$$ \n",
        "$$b_u = \\sum_{j \\in f_u} b^U_j$$\n",
        "$$ b^U_j = w^U_j  b_j$$ \n",
        "где $q_u, p_i$ - вектора пользователя и объекта, являющиеся суммой векторов их признаков\n",
        "\n",
        "$b_u, b_i$ - смещения для признаков пользователя и объекта\n"
      ],
      "id": "85f91dc9"
    },
    {
      "cell_type": "markdown",
      "metadata": {
        "id": "f9ca6774"
      },
      "source": [
        "## Преобразуем данные в формат библиотеки"
      ],
      "id": "f9ca6774"
    },
    {
      "cell_type": "markdown",
      "metadata": {
        "id": "6e1ca0bd"
      },
      "source": [
        "В LightFM есть класс Dataset, который преобразует данные в нужный формат.\n",
        "\n",
        "Подготовим признаки в виде series \"id пользователя/объекта - list категориальных признаков, которые ему соответствуют\"."
      ],
      "id": "6e1ca0bd"
    },
    {
      "cell_type": "markdown",
      "metadata": {
        "id": "3450aa9d"
      },
      "source": [
        "#### user features"
      ],
      "id": "3450aa9d"
    },
    {
      "cell_type": "code",
      "execution_count": 87,
      "metadata": {
        "colab": {
          "base_uri": "https://localhost:8080/"
        },
        "id": "7916931a",
        "outputId": "496b28ab-be60-4d33-cbed-d18576a6d21e"
      },
      "outputs": [
        {
          "output_type": "stream",
          "name": "stdout",
          "text": [
            "CPU times: user 791 ms, sys: 31.7 ms, total: 823 ms\n",
            "Wall time: 819 ms\n"
          ]
        }
      ],
      "source": [
        "%%time\n",
        "u_features_filtered.set_index('user_id', inplace=True)\n",
        "u_features_list = u_features_filtered.apply(lambda x: ['{}_{}'.format(value,x[value]) for value in x.index if not pd.isna(x[value])], axis=1)\n",
        "u_features_list = u_features_list.rename('features')"
      ],
      "id": "7916931a"
    },
    {
      "cell_type": "code",
      "execution_count": 88,
      "metadata": {
        "colab": {
          "base_uri": "https://localhost:8080/"
        },
        "id": "4f7b4060",
        "outputId": "9776d624-73ca-479c-a3f2-51fe2414854c"
      },
      "outputs": [
        {
          "output_type": "execute_result",
          "data": {
            "text/plain": [
              "['age_18_24', 'sex_0.0']"
            ]
          },
          "metadata": {},
          "execution_count": 88
        }
      ],
      "source": [
        "u_features_list[4]"
      ],
      "id": "4f7b4060"
    },
    {
      "cell_type": "code",
      "execution_count": 89,
      "metadata": {
        "colab": {
          "base_uri": "https://localhost:8080/"
        },
        "id": "8ceec334",
        "outputId": "19871d37-568c-4240-b633-b9eedbabff76"
      },
      "outputs": [
        {
          "output_type": "execute_result",
          "data": {
            "text/plain": [
              "{'age_18_24',\n",
              " 'age_25_34',\n",
              " 'age_35_44',\n",
              " 'age_45_54',\n",
              " 'age_55_64',\n",
              " 'age_65_inf',\n",
              " 'sex_0.0',\n",
              " 'sex_1.0'}"
            ]
          },
          "metadata": {},
          "execution_count": 89
        }
      ],
      "source": [
        "unique_user_tags = set(u_features_list.explode().dropna().values)\n",
        "unique_user_tags"
      ],
      "id": "8ceec334"
    },
    {
      "cell_type": "markdown",
      "metadata": {
        "id": "42873743"
      },
      "source": [
        "#### item features"
      ],
      "id": "42873743"
    },
    {
      "cell_type": "markdown",
      "metadata": {
        "id": "b31c30be"
      },
      "source": [
        "Предположим, что жанр книги — важный признак. Возьмем жанры из топ-50 в качестве признаков книг."
      ],
      "id": "b31c30be"
    },
    {
      "cell_type": "code",
      "execution_count": 90,
      "metadata": {
        "id": "fb7f60bd"
      },
      "outputs": [],
      "source": [
        "i_features_lfm = i_features_filtered.copy()\n",
        "i_features_lfm.set_index('item_id', inplace=True)\n",
        "i_features_lfm['reads'] = filtered_df.groupby('item_id')['user_id'].count()\n",
        "i_features_lfm.loc[:, 'reads'].fillna(0, inplace=True)\n",
        "i_features_lfm.loc[:, 'genres'] = i_features_lfm['genres'].str.lower().str.split(',').apply(lambda x: x if isinstance(x, list) else [])\n",
        "i_features_lfm.loc[:, 'genres'] = i_features_lfm.loc[:, 'genres'].apply(lambda g_list: [genre.strip() for genre in g_list])"
      ],
      "id": "fb7f60bd"
    },
    {
      "cell_type": "code",
      "source": [
        "i_features_lfm.loc[40778]"
      ],
      "metadata": {
        "colab": {
          "base_uri": "https://localhost:8080/"
        },
        "id": "Fj_L7itDRpij",
        "outputId": "f0731711-6eb1-40e7-840a-c8282efa0b3d"
      },
      "id": "Fj_L7itDRpij",
      "execution_count": 91,
      "outputs": [
        {
          "output_type": "execute_result",
          "data": {
            "text/plain": [
              "title                    Магический спецкурс. Первый семестр\n",
              "genres     [попаданцы, книги про волшебников, любовное фэ...\n",
              "authors                                          Лена Летняя\n",
              "year                                                    2017\n",
              "reads                                                    265\n",
              "Name: 40778, dtype: object"
            ]
          },
          "metadata": {},
          "execution_count": 91
        }
      ]
    },
    {
      "cell_type": "code",
      "execution_count": 92,
      "metadata": {
        "id": "a3edc7d8"
      },
      "outputs": [],
      "source": [
        "genres_count = i_features_lfm[['genres', 'reads']].explode('genres').groupby('genres')['reads'].sum()"
      ],
      "id": "a3edc7d8"
    },
    {
      "cell_type": "code",
      "source": [
        "genres_count.sort_values(ascending=False)"
      ],
      "metadata": {
        "colab": {
          "base_uri": "https://localhost:8080/"
        },
        "id": "70aPiUOzKeDZ",
        "outputId": "5bb48b17-c6a2-40d6-f6b7-1c9a79e47300"
      },
      "id": "70aPiUOzKeDZ",
      "execution_count": 93,
      "outputs": [
        {
          "output_type": "execute_result",
          "data": {
            "text/plain": [
              "genres\n",
              "любовное фэнтези               63297\n",
              "попаданцы                      43934\n",
              "современные любовные романы    38187\n",
              "современные детективы          35689\n",
              "героическое фэнтези            33862\n",
              "                               ...  \n",
              "выход из бизнеса                   1\n",
              "гиа по истории (огэ                1\n",
              "математика 3 класс                 1\n",
              "реаниматология                     1\n",
              "литература 8 класс                 1\n",
              "Name: reads, Length: 634, dtype: int64"
            ]
          },
          "metadata": {},
          "execution_count": 93
        }
      ]
    },
    {
      "cell_type": "code",
      "execution_count": 94,
      "metadata": {
        "colab": {
          "base_uri": "https://localhost:8080/",
          "height": 265
        },
        "id": "sbO-5630A-rZ",
        "outputId": "853c88b3-a6ca-42f3-dff1-baf96b653693"
      },
      "outputs": [
        {
          "output_type": "display_data",
          "data": {
            "text/plain": [
              "<Figure size 432x288 with 1 Axes>"
            ],
            "image/png": "[encoded data removed]"
          },
          "metadata": {
            "needs_background": "light"
          }
        }
      ],
      "source": [
        "genres_count.sort_values(ascending=False).reset_index(drop=True).plot();"
      ],
      "id": "sbO-5630A-rZ"
    },
    {
      "cell_type": "code",
      "execution_count": 95,
      "metadata": {
        "colab": {
          "base_uri": "https://localhost:8080/"
        },
        "id": "fuGx9S-XBr1L",
        "outputId": "15a7db9b-606d-41ae-9e6c-413b2cecc54e"
      },
      "outputs": [
        {
          "output_type": "execute_result",
          "data": {
            "text/plain": [
              "Index(['любовное фэнтези', 'попаданцы', 'современные любовные романы',\n",
              "       'современные детективы', 'героическое фэнтези', 'боевая фантастика',\n",
              "       'зарубежные любовные романы', 'боевое фэнтези',\n",
              "       'современная русская литература', 'книги про волшебников'],\n",
              "      dtype='object', name='genres')"
            ]
          },
          "metadata": {},
          "execution_count": 95
        }
      ],
      "source": [
        "unique_item_tags = genres_count.sort_values(ascending=False)[:50].index\n",
        "unique_item_tags[:10]"
      ],
      "id": "fuGx9S-XBr1L"
    },
    {
      "cell_type": "code",
      "execution_count": 96,
      "metadata": {
        "id": "61c6d62c"
      },
      "outputs": [],
      "source": [
        "def filter_genres(genres_list, valid_genres=None):\n",
        "    if not genres_list:\n",
        "        return []\n",
        "    return [genre for genre in genres_list if genre in valid_genres]"
      ],
      "id": "61c6d62c"
    },
    {
      "cell_type": "code",
      "execution_count": 97,
      "metadata": {
        "colab": {
          "base_uri": "https://localhost:8080/"
        },
        "id": "5466b20b",
        "outputId": "c2e01eff-180c-4ee3-94f8-d2408dfd4878"
      },
      "outputs": [
        {
          "output_type": "stream",
          "name": "stdout",
          "text": [
            "CPU times: user 79.3 ms, sys: 1.05 ms, total: 80.4 ms\n",
            "Wall time: 86.3 ms\n"
          ]
        }
      ],
      "source": [
        "%%time\n",
        "i_features_lfm['features'] = i_features_lfm['genres'].apply(filter_genres, valid_genres=set(unique_item_tags))"
      ],
      "id": "5466b20b"
    },
    {
      "cell_type": "code",
      "execution_count": 98,
      "metadata": {
        "colab": {
          "base_uri": "https://localhost:8080/"
        },
        "id": "9f7c8d09",
        "outputId": "f4840446-f604-43b1-e1ed-72cc6a06a073"
      },
      "outputs": [
        {
          "output_type": "execute_result",
          "data": {
            "text/plain": [
              "['попаданцы', 'книги про волшебников', 'любовное фэнтези']"
            ]
          },
          "metadata": {},
          "execution_count": 98
        }
      ],
      "source": [
        "i_features_list = i_features_lfm['features']\n",
        "i_features_list.loc[40778]"
      ],
      "id": "9f7c8d09"
    },
    {
      "cell_type": "markdown",
      "metadata": {
        "id": "1857fe33"
      },
      "source": [
        "#### LightFM Dataset\n",
        "Посмотрим на то, как в каком формате принимает данные lightfm и как использовать Dataset для конвертации.\n",
        "\n",
        "LightFM работает со sparse-матрицами, dataset конвертирует данные в coo-формат.\n",
        "Матрица взаимодействий — это просто матрица размером количество пользователей $\\times$ количество объектов.\n",
        "Матрицы признаков выглядят интереснее."
      ],
      "id": "1857fe33"
    },
    {
      "cell_type": "code",
      "execution_count": 99,
      "metadata": {
        "id": "847e6e0e"
      },
      "outputs": [],
      "source": [
        "lfm_dataset = LFMDataset()"
      ],
      "id": "847e6e0e"
    },
    {
      "cell_type": "code",
      "execution_count": 100,
      "metadata": {
        "id": "55edd5cc"
      },
      "outputs": [],
      "source": [
        "lfm_dataset.fit_partial(users=filtered_df['user_id'].unique(), items=filtered_df['item_id'].unique())\n",
        "lfm_dataset.fit_partial(user_features=unique_user_tags, item_features=unique_item_tags)"
      ],
      "id": "55edd5cc"
    },
    {
      "cell_type": "code",
      "execution_count": 101,
      "metadata": {
        "id": "d1acbe29"
      },
      "outputs": [],
      "source": [
        "user_mapping, item_mapping = lfm_dataset.mapping()[0], lfm_dataset.mapping()[2]"
      ],
      "id": "d1acbe29"
    },
    {
      "cell_type": "code",
      "source": [
        "lfm_dataset.mapping()[3]['книги про волшебников']"
      ],
      "metadata": {
        "colab": {
          "base_uri": "https://localhost:8080/"
        },
        "id": "K9xIddZBN5HR",
        "outputId": "b998d153-613d-4cfd-9dfe-b2c53ab09bd7"
      },
      "id": "K9xIddZBN5HR",
      "execution_count": 102,
      "outputs": [
        {
          "output_type": "execute_result",
          "data": {
            "text/plain": [
              "56761"
            ]
          },
          "metadata": {},
          "execution_count": 102
        }
      ]
    },
    {
      "cell_type": "code",
      "execution_count": 103,
      "metadata": {
        "id": "0d69d3d7"
      },
      "outputs": [],
      "source": [
        "inv_user_mapping = {value: key for key, value in user_mapping.items()}\n",
        "inv_item_mapping = {value: key for key, value in item_mapping.items()}"
      ],
      "id": "0d69d3d7"
    },
    {
      "cell_type": "code",
      "source": [
        "item_mapping[40778]"
      ],
      "metadata": {
        "colab": {
          "base_uri": "https://localhost:8080/"
        },
        "id": "vVO2otEBLNdW",
        "outputId": "965b3c75-d080-49c2-b721-25b5ed023d69"
      },
      "id": "vVO2otEBLNdW",
      "execution_count": 104,
      "outputs": [
        {
          "output_type": "execute_result",
          "data": {
            "text/plain": [
              "40786"
            ]
          },
          "metadata": {},
          "execution_count": 104
        }
      ]
    },
    {
      "cell_type": "markdown",
      "metadata": {
        "id": "75c54eaa"
      },
      "source": [
        "#### transform features"
      ],
      "id": "75c54eaa"
    },
    {
      "cell_type": "code",
      "source": [
        "lfm_dataset.interactions_shape()"
      ],
      "metadata": {
        "colab": {
          "base_uri": "https://localhost:8080/"
        },
        "id": "QDWNte0XNZUV",
        "outputId": "016cbece-77f5-4c4c-bc80-b740c98d8132"
      },
      "id": "QDWNte0XNZUV",
      "execution_count": 105,
      "outputs": [
        {
          "output_type": "execute_result",
          "data": {
            "text/plain": [
              "(37004, 56752)"
            ]
          },
          "metadata": {},
          "execution_count": 105
        }
      ]
    },
    {
      "cell_type": "code",
      "execution_count": 106,
      "metadata": {
        "id": "865c62bd"
      },
      "outputs": [],
      "source": [
        "sparse_i_features = lfm_dataset.build_item_features([[row.item_id, row.features] for row in i_features_list.reset_index().itertuples()])\n",
        "sparse_u_features = lfm_dataset.build_user_features([[row.user_id, row.features] for row in u_features_list.reset_index().itertuples()])"
      ],
      "id": "865c62bd"
    },
    {
      "cell_type": "code",
      "execution_count": 107,
      "metadata": {
        "colab": {
          "base_uri": "https://localhost:8080/"
        },
        "id": "adba7ea8",
        "outputId": "64f89160-c52c-4ef5-ea07-144b20c9457a"
      },
      "outputs": [
        {
          "output_type": "execute_result",
          "data": {
            "text/plain": [
              "(56752, 56802)"
            ]
          },
          "metadata": {},
          "execution_count": 107
        }
      ],
      "source": [
        "sparse_i_features.shape"
      ],
      "id": "adba7ea8"
    },
    {
      "cell_type": "code",
      "source": [
        "i_features_list[40778]"
      ],
      "metadata": {
        "colab": {
          "base_uri": "https://localhost:8080/"
        },
        "id": "mX_4dHyaQoY9",
        "outputId": "973a4498-f520-41d1-9542-9acd0136c6f1"
      },
      "id": "mX_4dHyaQoY9",
      "execution_count": 108,
      "outputs": [
        {
          "output_type": "execute_result",
          "data": {
            "text/plain": [
              "['попаданцы', 'книги про волшебников', 'любовное фэнтези']"
            ]
          },
          "metadata": {},
          "execution_count": 108
        }
      ]
    },
    {
      "cell_type": "code",
      "execution_count": 109,
      "metadata": {
        "colab": {
          "base_uri": "https://localhost:8080/"
        },
        "id": "50cb020a",
        "outputId": "d2e8ecae-033f-4987-b40b-a60b9e2237ad"
      },
      "outputs": [
        {
          "output_type": "execute_result",
          "data": {
            "text/plain": [
              "((array([0, 0, 0, 0], dtype=int32),\n",
              "  array([40786, 56752, 56753, 56761], dtype=int32)),\n",
              " array([0.25, 0.25, 0.25, 0.25], dtype=float32))"
            ]
          },
          "metadata": {},
          "execution_count": 109
        }
      ],
      "source": [
        "sparse_i_features[40786, :].nonzero(), sparse_i_features[40786, :].data"
      ],
      "id": "50cb020a"
    },
    {
      "cell_type": "markdown",
      "metadata": {
        "id": "01ad9141"
      },
      "source": [
        "#### transform log"
      ],
      "id": "01ad9141"
    },
    {
      "cell_type": "code",
      "execution_count": 110,
      "metadata": {
        "colab": {
          "base_uri": "https://localhost:8080/"
        },
        "id": "d451ae54",
        "outputId": "d80e6407-67d2-4df9-c00a-bf2e18798575"
      },
      "outputs": [
        {
          "output_type": "stream",
          "name": "stdout",
          "text": [
            "CPU times: user 3.49 s, sys: 66.2 ms, total: 3.56 s\n",
            "Wall time: 3.76 s\n"
          ]
        }
      ],
      "source": [
        "%%time\n",
        "(interactions, weights) = lfm_dataset.build_interactions([(row.user_id, row.item_id, row.progress) for row in train_by_date.itertuples()])"
      ],
      "id": "d451ae54"
    },
    {
      "cell_type": "markdown",
      "metadata": {
        "id": "df0e23ba"
      },
      "source": [
        "Посмотрим на содержание матриц interactions и weights: использую матрицу interactions можно легко перейти от explicit feedback к implicit. Будем использовать weights, можете поэкспериментировать с interactions самостоятельно."
      ],
      "id": "df0e23ba"
    },
    {
      "cell_type": "code",
      "execution_count": 111,
      "metadata": {
        "id": "65df169d",
        "outputId": "5bb92b91-b7dc-4047-c924-1909cf45c378",
        "colab": {
          "base_uri": "https://localhost:8080/"
        }
      },
      "outputs": [
        {
          "output_type": "execute_result",
          "data": {
            "text/plain": [
              "((37004, 56752), array([1, 1, 1, ..., 1, 1, 1], dtype=int32))"
            ]
          },
          "metadata": {},
          "execution_count": 111
        }
      ],
      "source": [
        "interactions.shape, interactions.data"
      ],
      "id": "65df169d"
    },
    {
      "cell_type": "markdown",
      "metadata": {
        "id": "b3873d2b"
      },
      "source": [
        "Посмотрим на применение модели и воспроизведем подсчет релевантности."
      ],
      "id": "b3873d2b"
    },
    {
      "cell_type": "markdown",
      "metadata": {
        "id": "5-9hishLNOAh"
      },
      "source": [
        "### model training"
      ],
      "id": "5-9hishLNOAh"
    },
    {
      "cell_type": "code",
      "execution_count": 112,
      "metadata": {
        "colab": {
          "base_uri": "https://localhost:8080/"
        },
        "id": "vI0esKv2NOAh",
        "outputId": "3f41cdcd-7f75-4b6c-9d1f-cc176cef0bf1"
      },
      "outputs": [
        {
          "output_type": "stream",
          "name": "stdout",
          "text": [
            "CPU times: user 2min 33s, sys: 69.7 ms, total: 2min 33s\n",
            "Wall time: 2min 6s\n"
          ]
        },
        {
          "output_type": "execute_result",
          "data": {
            "text/plain": [
              "<lightfm.lightfm.LightFM at 0x7f9b4436ab20>"
            ]
          },
          "metadata": {},
          "execution_count": 112
        }
      ],
      "source": [
        "%%time\n",
        "lightfm = LightFM(no_components=64, loss='warp', random_state=SEED)\n",
        "lightfm.fit(interactions, user_features=sparse_u_features, item_features=sparse_i_features, epochs=40, num_threads=8)"
      ],
      "id": "vI0esKv2NOAh"
    },
    {
      "cell_type": "markdown",
      "metadata": {
        "id": "4jxqRNqXNOAi"
      },
      "source": [
        "### predict для одного пользователя"
      ],
      "id": "4jxqRNqXNOAi"
    },
    {
      "cell_type": "markdown",
      "metadata": {
        "id": "GG4o1Zn6NOAi"
      },
      "source": [
        "Посмотрим рекомендации для любителя боевой фантастики"
      ],
      "id": "GG4o1Zn6NOAi"
    },
    {
      "cell_type": "code",
      "execution_count": 113,
      "metadata": {
        "id": "4xH-uk4iNOAi"
      },
      "outputs": [],
      "source": [
        "pred = lightfm.predict(user_ids=user_mapping[4], item_ids=sorted(item_mapping.values()), user_features=sparse_u_features, item_features=sparse_i_features)"
      ],
      "id": "4xH-uk4iNOAi"
    },
    {
      "cell_type": "code",
      "execution_count": 114,
      "metadata": {
        "id": "j36hVI4sNOAi"
      },
      "outputs": [],
      "source": [
        "ids = np.argpartition(pred, -K)[-K:]\n",
        "rel = pred[ids]\n",
        "res = pd.DataFrame(zip(ids, rel), columns=['item_id', 'relevance'])\n",
        "res['item_id'] = res['item_id'].map(inv_item_mapping)"
      ],
      "id": "j36hVI4sNOAi"
    },
    {
      "cell_type": "code",
      "execution_count": 115,
      "metadata": {
        "colab": {
          "base_uri": "https://localhost:8080/",
          "height": 494
        },
        "id": "UEYFXcrSNOAi",
        "outputId": "0f85fd10-ddf5-48d9-8628-a3714fa91951"
      },
      "outputs": [
        {
          "output_type": "execute_result",
          "data": {
            "text/plain": [
              "   item_id   relevance                                              title  \\\n",
              "8    47992 -115.347832  Струны волшебства. Книга первая. Страшные сказ...   \n",
              "7    56330 -115.862312                                           Черновик   \n",
              "9    32904 -115.958328                                       Ночной Дозор   \n",
              "6    48489 -116.033791                                           Чистовик   \n",
              "5    15877 -116.045227                            Зулейха открывает глаза   \n",
              "2    42407 -116.118935                               Ведьма-хранительница   \n",
              "3    37466 -116.138527                                           Аутодафе   \n",
              "4    21124 -116.183472                                   Верховная Ведьма   \n",
              "1    40302 -116.201653                               Проклятие некроманта   \n",
              "0    53678 -116.322792                                        Новый Дозор   \n",
              "\n",
              "                                              genres              authors  \\\n",
              "8          Героическое фэнтези,Книги про волшебников  Милена Завойчинская   \n",
              "7                                 Научная фантастика    Сергей Лукьяненко   \n",
              "9                   Боевое фэнтези,Городское фэнтези    Сергей Лукьяненко   \n",
              "6                                 Научная фантастика    Сергей Лукьяненко   \n",
              "5                     Современная русская литература         Гузель Яхина   \n",
              "2  Героическое фэнтези,Книги про волшебников,Юмор...        Ольга Громыко   \n",
              "3                 Героическое фэнтези,Боевое фэнтези        Алексей Пехов   \n",
              "4  Героическое фэнтези,Книги про волшебников,Юмор...        Ольга Громыко   \n",
              "1  Героическое фэнтези,Книги про вампиров,Книги п...     Наталья Жильцова   \n",
              "0                   Боевое фэнтези,Городское фэнтези    Сергей Лукьяненко   \n",
              "\n",
              "      year  popularity  \n",
              "8     2018         307  \n",
              "7  2004-05         502  \n",
              "9     1998          51  \n",
              "6     2007         390  \n",
              "5     2015         591  \n",
              "2     2003          85  \n",
              "3     2011          43  \n",
              "4     2004          81  \n",
              "1     2009          94  \n",
              "0     2012         114  "
            ],
            "text/html": [
              "\n",
              "  <div id=\"df-f5d0977b-94d8-426b-8d8b-bba70120212d\">\n",
              "    <div class=\"colab-df-container\">\n",
              "      <div>\n",
              "<style scoped>\n",
              "    .dataframe tbody tr th:only-of-type {\n",
              "        vertical-align: middle;\n",
              "    }\n",
              "\n",
              "    .dataframe tbody tr th {\n",
              "        vertical-align: top;\n",
              "    }\n",
              "\n",
              "    .dataframe thead th {\n",
              "        text-align: right;\n",
              "    }\n",
              "</style>\n",
              "<table border=\"1\" class=\"dataframe\">\n",
              "  <thead>\n",
              "    <tr style=\"text-align: right;\">\n",
              "      <th></th>\n",
              "      <th>item_id</th>\n",
              "      <th>relevance</th>\n",
              "      <th>title</th>\n",
              "      <th>genres</th>\n",
              "      <th>authors</th>\n",
              "      <th>year</th>\n",
              "      <th>popularity</th>\n",
              "    </tr>\n",
              "  </thead>\n",
              "  <tbody>\n",
              "    <tr>\n",
              "      <th>8</th>\n",
              "      <td>47992</td>\n",
              "      <td>-115.347832</td>\n",
              "      <td>Струны волшебства. Книга первая. Страшные сказ...</td>\n",
              "      <td>Героическое фэнтези,Книги про волшебников</td>\n",
              "      <td>Милена Завойчинская</td>\n",
              "      <td>2018</td>\n",
              "      <td>307</td>\n",
              "    </tr>\n",
              "    <tr>\n",
              "      <th>7</th>\n",
              "      <td>56330</td>\n",
              "      <td>-115.862312</td>\n",
              "      <td>Черновик</td>\n",
              "      <td>Научная фантастика</td>\n",
              "      <td>Сергей Лукьяненко</td>\n",
              "      <td>2004-05</td>\n",
              "      <td>502</td>\n",
              "    </tr>\n",
              "    <tr>\n",
              "      <th>9</th>\n",
              "      <td>32904</td>\n",
              "      <td>-115.958328</td>\n",
              "      <td>Ночной Дозор</td>\n",
              "      <td>Боевое фэнтези,Городское фэнтези</td>\n",
              "      <td>Сергей Лукьяненко</td>\n",
              "      <td>1998</td>\n",
              "      <td>51</td>\n",
              "    </tr>\n",
              "    <tr>\n",
              "      <th>6</th>\n",
              "      <td>48489</td>\n",
              "      <td>-116.033791</td>\n",
              "      <td>Чистовик</td>\n",
              "      <td>Научная фантастика</td>\n",
              "      <td>Сергей Лукьяненко</td>\n",
              "      <td>2007</td>\n",
              "      <td>390</td>\n",
              "    </tr>\n",
              "    <tr>\n",
              "      <th>5</th>\n",
              "      <td>15877</td>\n",
              "      <td>-116.045227</td>\n",
              "      <td>Зулейха открывает глаза</td>\n",
              "      <td>Современная русская литература</td>\n",
              "      <td>Гузель Яхина</td>\n",
              "      <td>2015</td>\n",
              "      <td>591</td>\n",
              "    </tr>\n",
              "    <tr>\n",
              "      <th>2</th>\n",
              "      <td>42407</td>\n",
              "      <td>-116.118935</td>\n",
              "      <td>Ведьма-хранительница</td>\n",
              "      <td>Героическое фэнтези,Книги про волшебников,Юмор...</td>\n",
              "      <td>Ольга Громыко</td>\n",
              "      <td>2003</td>\n",
              "      <td>85</td>\n",
              "    </tr>\n",
              "    <tr>\n",
              "      <th>3</th>\n",
              "      <td>37466</td>\n",
              "      <td>-116.138527</td>\n",
              "      <td>Аутодафе</td>\n",
              "      <td>Героическое фэнтези,Боевое фэнтези</td>\n",
              "      <td>Алексей Пехов</td>\n",
              "      <td>2011</td>\n",
              "      <td>43</td>\n",
              "    </tr>\n",
              "    <tr>\n",
              "      <th>4</th>\n",
              "      <td>21124</td>\n",
              "      <td>-116.183472</td>\n",
              "      <td>Верховная Ведьма</td>\n",
              "      <td>Героическое фэнтези,Книги про волшебников,Юмор...</td>\n",
              "      <td>Ольга Громыко</td>\n",
              "      <td>2004</td>\n",
              "      <td>81</td>\n",
              "    </tr>\n",
              "    <tr>\n",
              "      <th>1</th>\n",
              "      <td>40302</td>\n",
              "      <td>-116.201653</td>\n",
              "      <td>Проклятие некроманта</td>\n",
              "      <td>Героическое фэнтези,Книги про вампиров,Книги п...</td>\n",
              "      <td>Наталья Жильцова</td>\n",
              "      <td>2009</td>\n",
              "      <td>94</td>\n",
              "    </tr>\n",
              "    <tr>\n",
              "      <th>0</th>\n",
              "      <td>53678</td>\n",
              "      <td>-116.322792</td>\n",
              "      <td>Новый Дозор</td>\n",
              "      <td>Боевое фэнтези,Городское фэнтези</td>\n",
              "      <td>Сергей Лукьяненко</td>\n",
              "      <td>2012</td>\n",
              "      <td>114</td>\n",
              "    </tr>\n",
              "  </tbody>\n",
              "</table>\n",
              "</div>\n",
              "      <button class=\"colab-df-convert\" onclick=\"convertToInteractive('df-f5d0977b-94d8-426b-8d8b-bba70120212d')\"\n",
              "              title=\"Convert this dataframe to an interactive table.\"\n",
              "              style=\"display:none;\">\n",
              "        \n",
              "  <svg xmlns=\"http://www.w3.org/2000/svg\" height=\"24px\"viewBox=\"0 0 24 24\"\n",
              "       width=\"24px\">\n",
              "    <path d=\"M0 0h24v24H0V0z\" fill=\"none\"/>\n",
              "    <path d=\"M18.56 5.44l.94 2.06.94-2.06 2.06-.94-2.06-.94-.94-2.06-.94 2.06-2.06.94zm-11 1L8.5 8.5l.94-2.06 2.06-.94-2.06-.94L8.5 2.5l-.94 2.06-2.06.94zm10 10l.94 2.06.94-2.06 2.06-.94-2.06-.94-.94-2.06-.94 2.06-2.06.94z\"/><path d=\"M17.41 7.96l-1.37-1.37c-.4-.4-.92-.59-1.43-.59-.52 0-1.04.2-1.43.59L10.3 9.45l-7.72 7.72c-.78.78-.78 2.05 0 2.83L4 21.41c.39.39.9.59 1.41.59.51 0 1.02-.2 1.41-.59l7.78-7.78 2.81-2.81c.8-.78.8-2.07 0-2.86zM5.41 20L4 18.59l7.72-7.72 1.47 1.35L5.41 20z\"/>\n",
              "  </svg>\n",
              "      </button>\n",
              "      \n",
              "  <style>\n",
              "    .colab-df-container {\n",
              "      display:flex;\n",
              "      flex-wrap:wrap;\n",
              "      gap: 12px;\n",
              "    }\n",
              "\n",
              "    .colab-df-convert {\n",
              "      background-color: #E8F0FE;\n",
              "      border: none;\n",
              "      border-radius: 50%;\n",
              "      cursor: pointer;\n",
              "      display: none;\n",
              "      fill: #1967D2;\n",
              "      height: 32px;\n",
              "      padding: 0 0 0 0;\n",
              "      width: 32px;\n",
              "    }\n",
              "\n",
              "    .colab-df-convert:hover {\n",
              "      background-color: #E2EBFA;\n",
              "      box-shadow: 0px 1px 2px rgba(60, 64, 67, 0.3), 0px 1px 3px 1px rgba(60, 64, 67, 0.15);\n",
              "      fill: #174EA6;\n",
              "    }\n",
              "\n",
              "    [theme=dark] .colab-df-convert {\n",
              "      background-color: #3B4455;\n",
              "      fill: #D2E3FC;\n",
              "    }\n",
              "\n",
              "    [theme=dark] .colab-df-convert:hover {\n",
              "      background-color: #434B5C;\n",
              "      box-shadow: 0px 1px 3px 1px rgba(0, 0, 0, 0.15);\n",
              "      filter: drop-shadow(0px 1px 2px rgba(0, 0, 0, 0.3));\n",
              "      fill: #FFFFFF;\n",
              "    }\n",
              "  </style>\n",
              "\n",
              "      <script>\n",
              "        const buttonEl =\n",
              "          document.querySelector('#df-f5d0977b-94d8-426b-8d8b-bba70120212d button.colab-df-convert');\n",
              "        buttonEl.style.display =\n",
              "          google.colab.kernel.accessAllowed ? 'block' : 'none';\n",
              "\n",
              "        async function convertToInteractive(key) {\n",
              "          const element = document.querySelector('#df-f5d0977b-94d8-426b-8d8b-bba70120212d');\n",
              "          const dataTable =\n",
              "            await google.colab.kernel.invokeFunction('convertToInteractive',\n",
              "                                                     [key], {});\n",
              "          if (!dataTable) return;\n",
              "\n",
              "          const docLinkHtml = 'Like what you see? Visit the ' +\n",
              "            '<a target=\"_blank\" href=https://colab.research.google.com/notebooks/data_table.ipynb>data table notebook</a>'\n",
              "            + ' to learn more about interactive tables.';\n",
              "          element.innerHTML = '';\n",
              "          dataTable['output_type'] = 'display_data';\n",
              "          await google.colab.output.renderOutput(dataTable, element);\n",
              "          const docLink = document.createElement('div');\n",
              "          docLink.innerHTML = docLinkHtml;\n",
              "          element.appendChild(docLink);\n",
              "        }\n",
              "      </script>\n",
              "    </div>\n",
              "  </div>\n",
              "  "
            ]
          },
          "metadata": {},
          "execution_count": 115
        }
      ],
      "source": [
        "res.merge(items_with_pop, on='item_id').sort_values('relevance', ascending=False)"
      ],
      "id": "UEYFXcrSNOAi"
    },
    {
      "cell_type": "markdown",
      "metadata": {
        "id": "99089994"
      },
      "source": [
        "Посчитаем релевантность книги \"Магический спецкурс. Первый семестр\" (40778) для пользователя 4, который предпочитает Героическое фентези.\n",
        "Используем методы get_item_representations(), get_user_representations(), которые есть у модели LightFM."
      ],
      "id": "99089994"
    },
    {
      "cell_type": "code",
      "execution_count": 116,
      "metadata": {
        "id": "f660f163"
      },
      "outputs": [],
      "source": [
        "item_id_lfm = item_mapping[40778]\n",
        "user_id_lfm = user_mapping[4]"
      ],
      "id": "f660f163"
    },
    {
      "cell_type": "code",
      "execution_count": 117,
      "metadata": {
        "colab": {
          "base_uri": "https://localhost:8080/"
        },
        "id": "d0d77ed0",
        "outputId": "26e2e444-f717-453b-9329-a1cca4d5e891"
      },
      "outputs": [
        {
          "output_type": "execute_result",
          "data": {
            "text/plain": [
              "-117.315094"
            ]
          },
          "metadata": {},
          "execution_count": 117
        }
      ],
      "source": [
        "rel = lightfm.predict(user_ids=user_id_lfm, \n",
        "                      item_ids=[item_id_lfm], \n",
        "                      user_features=sparse_u_features, \n",
        "                      item_features=sparse_i_features)[0]\n",
        "rel"
      ],
      "id": "d0d77ed0"
    },
    {
      "cell_type": "markdown",
      "metadata": {
        "id": "931e3952"
      },
      "source": [
        "Получили релевантность моделью, проверим, что поняли, как оно работает"
      ],
      "id": "931e3952"
    },
    {
      "cell_type": "markdown",
      "metadata": {
        "id": "10da4560"
      },
      "source": [
        "Отлично, разобрались с тем, как использовать модели LightFM, давайте попробуем воспроизвести подсчет релевантности. Для этого вернемся к формуле:\n",
        "\n",
        "$$r_{ui} = <q_u , p_i> + b_u + b_i$$\n",
        "\n",
        "$$q_u = \\sum_{j \\in f_u} e^U_j$$\n",
        "$$ e^U_j = w^U_j  e_j$$ \n",
        "$$b_u = \\sum_{j \\in f_u} b^U_j$$\n",
        "$$ b^U_j = w^U_j  b_j$$ \n",
        "где $q_u, p_i$ - вектора пользователя и объекта, являющиеся суммой векторов их признаков\n",
        "$b_u, b_i$ - смещения для признаков пользователя и объекта\n"
      ],
      "id": "10da4560"
    },
    {
      "cell_type": "code",
      "execution_count": 118,
      "metadata": {
        "colab": {
          "base_uri": "https://localhost:8080/"
        },
        "id": "8ddd6974",
        "outputId": "5bbeb4ed-cfc9-4afc-a02a-53bb64db59ab"
      },
      "outputs": [
        {
          "output_type": "execute_result",
          "data": {
            "text/plain": [
              "((37012, 64), (37012,))"
            ]
          },
          "metadata": {},
          "execution_count": 118
        }
      ],
      "source": [
        "u_biases, u_vectors = lightfm.get_user_representations()\n",
        "u_vectors.shape, u_biases.shape"
      ],
      "id": "8ddd6974"
    },
    {
      "cell_type": "code",
      "execution_count": 119,
      "metadata": {
        "colab": {
          "base_uri": "https://localhost:8080/"
        },
        "id": "4f03b7b2",
        "outputId": "74fb5919-bda6-4914-e35d-8a776fdb32fe"
      },
      "outputs": [
        {
          "output_type": "execute_result",
          "data": {
            "text/plain": [
              "((56802, 64), (56802,))"
            ]
          },
          "metadata": {},
          "execution_count": 119
        }
      ],
      "source": [
        "i_biases, i_vectors =lightfm.get_item_representations()\n",
        "i_vectors.shape, i_biases.shape"
      ],
      "id": "4f03b7b2"
    },
    {
      "cell_type": "code",
      "execution_count": 120,
      "metadata": {
        "id": "5f8713ee"
      },
      "outputs": [],
      "source": [
        "user_vector = sparse_u_features[user_id_lfm]@u_vectors\n",
        "item_vector = sparse_i_features[item_id_lfm]@i_vectors\n",
        "rel_ours = (user_vector@item_vector.T + sparse_u_features[user_id_lfm]@u_biases + sparse_i_features[item_id_lfm]@i_biases).ravel()[0]"
      ],
      "id": "5f8713ee"
    },
    {
      "cell_type": "code",
      "execution_count": 121,
      "metadata": {
        "id": "eb89e741"
      },
      "outputs": [],
      "source": [
        "assert math.isclose(rel, rel_ours, rel_tol=1e-5)"
      ],
      "id": "eb89e741"
    },
    {
      "cell_type": "markdown",
      "metadata": {
        "id": "6d2c26ee"
      },
      "source": [
        "Все совпало, мы молодцы! Имея вектора пользователей и объектов, мы можем искать похожих, как делали это в ALS."
      ],
      "id": "6d2c26ee"
    },
    {
      "cell_type": "markdown",
      "metadata": {
        "id": "08aa543c"
      },
      "source": [
        "Обернем в класс, чтобы получить predict и посчитать метрики"
      ],
      "id": "08aa543c"
    },
    {
      "cell_type": "code",
      "execution_count": 122,
      "metadata": {
        "id": "a4295479"
      },
      "outputs": [],
      "source": [
        "from typing import Dict, Iterable\n",
        "class UserFriendlyLightFM(SVDModel):\n",
        "    user_mapping: Dict\n",
        "    item_mapping: Dict\n",
        "    inv_user_mapping: Dict\n",
        "    inv_item_mapping: Dict\n",
        "    lightfm_dataset: LFMDataset\n",
        "        \n",
        "    def __init__(self, \n",
        "                 user_ids: np.ndarray, \n",
        "                 item_ids: np.ndarray,\n",
        "                 user_tags: Optional[Iterable],\n",
        "                 item_tags: Optional[Iterable],\n",
        "                 epochs: int,\n",
        "                 model: LightFM\n",
        "                ):\n",
        "        self.lightfm_dataset = LFMDataset()\n",
        "        self.lightfm_dataset.fit(users=user_ids, \n",
        "                                         items=item_ids,\n",
        "                                         user_features=user_tags,\n",
        "                                         item_features=item_tags,\n",
        "                                        )\n",
        "        self.user_mapping = self.lightfm_dataset.mapping()[0]\n",
        "        self.item_mapping = self.lightfm_dataset.mapping()[2]\n",
        "        self.inv_user_mapping = {value: key for key, value in self.user_mapping.items()}\n",
        "        self.inv_item_mapping = {value: key for key, value in self.item_mapping.items()}\n",
        "        self.epochs = epochs\n",
        "        self.model = model\n",
        "\n",
        "        \n",
        "    def _transform_dataset(self, \n",
        "                           log: Optional[pd.DataFrame],\n",
        "            user_features: Optional[pd.DataFrame]=None, \n",
        "            item_features: Optional[pd.DataFrame]=None):\n",
        "        \n",
        "        (interactions, weights) = self.lightfm_dataset.build_interactions([(row.user_id, row.item_id, row.progress) for row in log.itertuples()]) if log is not None else (None, None)\n",
        "        user_features_sparse = self.lightfm_dataset.build_user_features([[row.user_id, row.features] for row in user_features.reset_index().itertuples()]) if user_features is not None else None\n",
        "        item_features_sparse = self.lightfm_dataset.build_item_features([[row.item_id, row.features] for row in item_features.reset_index().itertuples()]) if item_features is not None else None\n",
        "        return interactions, weights, user_features_sparse, item_features_sparse\n",
        "    \n",
        "    def fit(self, \n",
        "            log: pd.DataFrame, \n",
        "            user_features: Optional[pd.DataFrame]=None, \n",
        "            item_features: Optional[pd.DataFrame]=None) -> 'UserFriendlyLightFM':\n",
        "        \n",
        "        interactions, weights, user_features_sparse, item_features_sparse = self._transform_dataset(log, user_features, item_features)\n",
        "        self.model.fit(interactions, user_features=user_features_sparse, item_features=item_features_sparse, epochs=self.epochs, num_threads=8)\n",
        "        return self\n",
        "\n",
        "    def _predict(self, \n",
        "                log: pd.DataFrame, \n",
        "                users: pd.Series, \n",
        "                k: int,\n",
        "                user_features: Optional[pd.DataFrame]=None, \n",
        "                item_features: Optional[pd.DataFrame]=None,\n",
        "                filter_seen:bool = True) -> pd.DataFrame:\n",
        "        \n",
        "        pred = pd.DataFrame(users.map(self.user_mapping).unique(), columns=['user_id'])\n",
        "        pred.dropna(inplace=True)\n",
        "        interactions, weights, user_features_sparse, item_features_sparse = self._transform_dataset(None, user_features, item_features)\n",
        "        \n",
        "        \n",
        "        def _get_lfm_pred_all_items(user_id):\n",
        "            pred_for_all = self.model.predict(user_ids=user_id, item_ids=sorted(self.item_mapping.values()), user_features=user_features_sparse, item_features=item_features_sparse)\n",
        "            ids = np.argpartition(pred_for_all, -k)[-k:]\n",
        "            rel = pred_for_all[ids]\n",
        "            return list(zip(ids, rel))\n",
        "    \n",
        "        pred['recs'] = pred['user_id'].apply(_get_lfm_pred_all_items)\n",
        "        pred = pred.explode('recs')\n",
        "        self._split_pair(pred)\n",
        "        pred['item_id'] = pred['item_id'].map(self.inv_item_mapping)\n",
        "        pred['user_id'] = pred['user_id'].map(self.inv_user_mapping)\n",
        "        return pred"
      ],
      "id": "a4295479"
    },
    {
      "cell_type": "markdown",
      "metadata": {
        "id": "97134787"
      },
      "source": [
        "## LightFM без признаков"
      ],
      "id": "97134787"
    },
    {
      "cell_type": "code",
      "execution_count": 123,
      "metadata": {
        "id": "de80db1f"
      },
      "outputs": [],
      "source": [
        "lfm = UserFriendlyLightFM(user_ids=filtered_df['user_id'].unique(), \n",
        "                             item_ids=filtered_df['item_id'].unique(),\n",
        "                             user_tags=unique_user_tags,\n",
        "                             item_tags=unique_item_tags,\n",
        "                             epochs=40,\n",
        "                             model=LightFM(no_components=64, loss='warp'))"
      ],
      "id": "de80db1f"
    },
    {
      "cell_type": "code",
      "execution_count": 124,
      "metadata": {
        "colab": {
          "base_uri": "https://localhost:8080/"
        },
        "id": "59ef1994",
        "outputId": "d8ef324d-8e28-4623-e244-9bbf3515d4d8"
      },
      "outputs": [
        {
          "output_type": "stream",
          "name": "stdout",
          "text": [
            "CPU times: user 1min 37s, sys: 400 ms, total: 1min 37s\n",
            "Wall time: 1min 16s\n"
          ]
        },
        {
          "output_type": "execute_result",
          "data": {
            "text/plain": [
              "<__main__.UserFriendlyLightFM at 0x7f9b4461cfa0>"
            ]
          },
          "metadata": {},
          "execution_count": 124
        }
      ],
      "source": [
        "%%time\n",
        "lfm.fit(log=train_by_date, user_features=None, item_features=None)"
      ],
      "id": "59ef1994"
    },
    {
      "cell_type": "code",
      "execution_count": 125,
      "metadata": {
        "colab": {
          "base_uri": "https://localhost:8080/"
        },
        "id": "04091c20",
        "outputId": "25a6fa9f-df44-408e-ceb2-766ae08f52c2"
      },
      "outputs": [
        {
          "output_type": "stream",
          "name": "stdout",
          "text": [
            "CPU times: user 1min 38s, sys: 1.79 s, total: 1min 39s\n",
            "Wall time: 1min 51s\n"
          ]
        }
      ],
      "source": [
        "%%time\n",
        "lfm_pred = lfm.predict(log=train_by_date, users=test_by_date_users, k=K, user_features=None, item_features=None)"
      ],
      "id": "04091c20"
    },
    {
      "cell_type": "code",
      "execution_count": 126,
      "metadata": {
        "colab": {
          "base_uri": "https://localhost:8080/",
          "height": 179
        },
        "id": "ff8e78e4",
        "outputId": "74c6bb42-fea2-491e-c979-7a90e9271670"
      },
      "outputs": [
        {
          "output_type": "stream",
          "name": "stdout",
          "text": [
            "CPU times: user 865 ms, sys: 4.24 ms, total: 870 ms\n",
            "Wall time: 1.1 s\n"
          ]
        },
        {
          "output_type": "execute_result",
          "data": {
            "text/plain": [
              "                     hit_rate@1 hit_rate@K   coverage@K\n",
              "svd_rec               0.0226527    0.10998    0.0261136\n",
              "LightFM_rec_64_40_ep  0.0141169  0.0958634    0.0986221\n",
              "popular               0.0026264  0.0223244  0.000317169"
            ],
            "text/html": [
              "\n",
              "  <div id=\"df-d66874e8-8682-4efe-aee7-901e98a71bba\">\n",
              "    <div class=\"colab-df-container\">\n",
              "      <div>\n",
              "<style scoped>\n",
              "    .dataframe tbody tr th:only-of-type {\n",
              "        vertical-align: middle;\n",
              "    }\n",
              "\n",
              "    .dataframe tbody tr th {\n",
              "        vertical-align: top;\n",
              "    }\n",
              "\n",
              "    .dataframe thead th {\n",
              "        text-align: right;\n",
              "    }\n",
              "</style>\n",
              "<table border=\"1\" class=\"dataframe\">\n",
              "  <thead>\n",
              "    <tr style=\"text-align: right;\">\n",
              "      <th></th>\n",
              "      <th>hit_rate@1</th>\n",
              "      <th>hit_rate@K</th>\n",
              "      <th>coverage@K</th>\n",
              "    </tr>\n",
              "  </thead>\n",
              "  <tbody>\n",
              "    <tr>\n",
              "      <th>svd_rec</th>\n",
              "      <td>0.0226527</td>\n",
              "      <td>0.10998</td>\n",
              "      <td>0.0261136</td>\n",
              "    </tr>\n",
              "    <tr>\n",
              "      <th>LightFM_rec_64_40_ep</th>\n",
              "      <td>0.0141169</td>\n",
              "      <td>0.0958634</td>\n",
              "      <td>0.0986221</td>\n",
              "    </tr>\n",
              "    <tr>\n",
              "      <th>popular</th>\n",
              "      <td>0.0026264</td>\n",
              "      <td>0.0223244</td>\n",
              "      <td>0.000317169</td>\n",
              "    </tr>\n",
              "  </tbody>\n",
              "</table>\n",
              "</div>\n",
              "      <button class=\"colab-df-convert\" onclick=\"convertToInteractive('df-d66874e8-8682-4efe-aee7-901e98a71bba')\"\n",
              "              title=\"Convert this dataframe to an interactive table.\"\n",
              "              style=\"display:none;\">\n",
              "        \n",
              "  <svg xmlns=\"http://www.w3.org/2000/svg\" height=\"24px\"viewBox=\"0 0 24 24\"\n",
              "       width=\"24px\">\n",
              "    <path d=\"M0 0h24v24H0V0z\" fill=\"none\"/>\n",
              "    <path d=\"M18.56 5.44l.94 2.06.94-2.06 2.06-.94-2.06-.94-.94-2.06-.94 2.06-2.06.94zm-11 1L8.5 8.5l.94-2.06 2.06-.94-2.06-.94L8.5 2.5l-.94 2.06-2.06.94zm10 10l.94 2.06.94-2.06 2.06-.94-2.06-.94-.94-2.06-.94 2.06-2.06.94z\"/><path d=\"M17.41 7.96l-1.37-1.37c-.4-.4-.92-.59-1.43-.59-.52 0-1.04.2-1.43.59L10.3 9.45l-7.72 7.72c-.78.78-.78 2.05 0 2.83L4 21.41c.39.39.9.59 1.41.59.51 0 1.02-.2 1.41-.59l7.78-7.78 2.81-2.81c.8-.78.8-2.07 0-2.86zM5.41 20L4 18.59l7.72-7.72 1.47 1.35L5.41 20z\"/>\n",
              "  </svg>\n",
              "      </button>\n",
              "      \n",
              "  <style>\n",
              "    .colab-df-container {\n",
              "      display:flex;\n",
              "      flex-wrap:wrap;\n",
              "      gap: 12px;\n",
              "    }\n",
              "\n",
              "    .colab-df-convert {\n",
              "      background-color: #E8F0FE;\n",
              "      border: none;\n",
              "      border-radius: 50%;\n",
              "      cursor: pointer;\n",
              "      display: none;\n",
              "      fill: #1967D2;\n",
              "      height: 32px;\n",
              "      padding: 0 0 0 0;\n",
              "      width: 32px;\n",
              "    }\n",
              "\n",
              "    .colab-df-convert:hover {\n",
              "      background-color: #E2EBFA;\n",
              "      box-shadow: 0px 1px 2px rgba(60, 64, 67, 0.3), 0px 1px 3px 1px rgba(60, 64, 67, 0.15);\n",
              "      fill: #174EA6;\n",
              "    }\n",
              "\n",
              "    [theme=dark] .colab-df-convert {\n",
              "      background-color: #3B4455;\n",
              "      fill: #D2E3FC;\n",
              "    }\n",
              "\n",
              "    [theme=dark] .colab-df-convert:hover {\n",
              "      background-color: #434B5C;\n",
              "      box-shadow: 0px 1px 3px 1px rgba(0, 0, 0, 0.15);\n",
              "      filter: drop-shadow(0px 1px 2px rgba(0, 0, 0, 0.3));\n",
              "      fill: #FFFFFF;\n",
              "    }\n",
              "  </style>\n",
              "\n",
              "      <script>\n",
              "        const buttonEl =\n",
              "          document.querySelector('#df-d66874e8-8682-4efe-aee7-901e98a71bba button.colab-df-convert');\n",
              "        buttonEl.style.display =\n",
              "          google.colab.kernel.accessAllowed ? 'block' : 'none';\n",
              "\n",
              "        async function convertToInteractive(key) {\n",
              "          const element = document.querySelector('#df-d66874e8-8682-4efe-aee7-901e98a71bba');\n",
              "          const dataTable =\n",
              "            await google.colab.kernel.invokeFunction('convertToInteractive',\n",
              "                                                     [key], {});\n",
              "          if (!dataTable) return;\n",
              "\n",
              "          const docLinkHtml = 'Like what you see? Visit the ' +\n",
              "            '<a target=\"_blank\" href=https://colab.research.google.com/notebooks/data_table.ipynb>data table notebook</a>'\n",
              "            + ' to learn more about interactive tables.';\n",
              "          element.innerHTML = '';\n",
              "          dataTable['output_type'] = 'display_data';\n",
              "          await google.colab.output.renderOutput(dataTable, element);\n",
              "          const docLink = document.createElement('div');\n",
              "          docLink.innerHTML = docLinkHtml;\n",
              "          element.appendChild(docLink);\n",
              "        }\n",
              "      </script>\n",
              "    </div>\n",
              "  </div>\n",
              "  "
            ]
          },
          "metadata": {},
          "execution_count": 126
        }
      ],
      "source": [
        "%%time\n",
        "measure(lfm_pred, test_by_date, 'LightFM_rec_64_40_ep', metrics, cov_items=filtered_df['item_id']).sort_values('hit_rate@K', ascending=False)"
      ],
      "id": "ff8e78e4"
    },
    {
      "cell_type": "markdown",
      "metadata": {
        "id": "5ff733a5"
      },
      "source": [
        "## LightFM  c признаками"
      ],
      "id": "5ff733a5"
    },
    {
      "cell_type": "code",
      "execution_count": 127,
      "metadata": {
        "id": "45a27f97"
      },
      "outputs": [],
      "source": [
        "lfm_uf = UserFriendlyLightFM(user_ids=filtered_df['user_id'].unique(), \n",
        "                             item_ids=filtered_df['item_id'].unique(),\n",
        "                             user_tags=unique_user_tags,\n",
        "                             item_tags=unique_item_tags,\n",
        "                             epochs=40,\n",
        "                             model=LightFM(no_components=128, loss='warp')\n",
        "                            )"
      ],
      "id": "45a27f97"
    },
    {
      "cell_type": "code",
      "execution_count": 128,
      "metadata": {
        "colab": {
          "base_uri": "https://localhost:8080/"
        },
        "id": "faa43a15",
        "outputId": "4c6cc134-164c-4c02-a1b9-54afc29c6847"
      },
      "outputs": [
        {
          "output_type": "stream",
          "name": "stdout",
          "text": [
            "CPU times: user 4min 55s, sys: 806 ms, total: 4min 56s\n",
            "Wall time: 3min 50s\n"
          ]
        },
        {
          "output_type": "execute_result",
          "data": {
            "text/plain": [
              "<__main__.UserFriendlyLightFM at 0x7f9b162609a0>"
            ]
          },
          "metadata": {},
          "execution_count": 128
        }
      ],
      "source": [
        "%%time\n",
        "lfm_uf.fit(log=train_by_date, item_features=i_features_list, user_features=u_features_list)"
      ],
      "id": "faa43a15"
    },
    {
      "cell_type": "code",
      "execution_count": 129,
      "metadata": {
        "colab": {
          "base_uri": "https://localhost:8080/"
        },
        "id": "c7b1f781",
        "outputId": "58ecf441-eca2-48f9-f485-abd7ee463350"
      },
      "outputs": [
        {
          "output_type": "stream",
          "name": "stdout",
          "text": [
            "CPU times: user 3min 43s, sys: 1.23 s, total: 3min 44s\n",
            "Wall time: 3min 49s\n"
          ]
        }
      ],
      "source": [
        "%%time\n",
        "pred_feat = lfm_uf.predict(log=train_by_date, users=test_by_date_users, k=K, user_features=u_features_list, item_features=i_features_list)"
      ],
      "id": "c7b1f781"
    },
    {
      "cell_type": "code",
      "execution_count": 134,
      "metadata": {
        "colab": {
          "base_uri": "https://localhost:8080/",
          "height": 211
        },
        "id": "93b9a99a",
        "outputId": "b24a8ca3-3ef1-42a6-b3c7-0f06708d9810"
      },
      "outputs": [
        {
          "output_type": "stream",
          "name": "stdout",
          "text": [
            "CPU times: user 2.91 ms, sys: 0 ns, total: 2.91 ms\n",
            "Wall time: 2.78 ms\n"
          ]
        },
        {
          "output_type": "execute_result",
          "data": {
            "text/plain": [
              "                             hit_rate@1 hit_rate@K   coverage@K\n",
              "svd_rec                       0.0226527    0.10998    0.0261136\n",
              "LightFM_rec_64_40_ep          0.0141169  0.0958634    0.0986221\n",
              "LightFM_rec_features_128_40  0.00787919  0.0551543    0.0870101\n",
              "popular                       0.0026264  0.0223244  0.000317169"
            ],
            "text/html": [
              "\n",
              "  <div id=\"df-2e8a7a92-4791-4f74-a05d-26b6cf3e90b2\">\n",
              "    <div class=\"colab-df-container\">\n",
              "      <div>\n",
              "<style scoped>\n",
              "    .dataframe tbody tr th:only-of-type {\n",
              "        vertical-align: middle;\n",
              "    }\n",
              "\n",
              "    .dataframe tbody tr th {\n",
              "        vertical-align: top;\n",
              "    }\n",
              "\n",
              "    .dataframe thead th {\n",
              "        text-align: right;\n",
              "    }\n",
              "</style>\n",
              "<table border=\"1\" class=\"dataframe\">\n",
              "  <thead>\n",
              "    <tr style=\"text-align: right;\">\n",
              "      <th></th>\n",
              "      <th>hit_rate@1</th>\n",
              "      <th>hit_rate@K</th>\n",
              "      <th>coverage@K</th>\n",
              "    </tr>\n",
              "  </thead>\n",
              "  <tbody>\n",
              "    <tr>\n",
              "      <th>svd_rec</th>\n",
              "      <td>0.0226527</td>\n",
              "      <td>0.10998</td>\n",
              "      <td>0.0261136</td>\n",
              "    </tr>\n",
              "    <tr>\n",
              "      <th>LightFM_rec_64_40_ep</th>\n",
              "      <td>0.0141169</td>\n",
              "      <td>0.0958634</td>\n",
              "      <td>0.0986221</td>\n",
              "    </tr>\n",
              "    <tr>\n",
              "      <th>LightFM_rec_features_128_40</th>\n",
              "      <td>0.00787919</td>\n",
              "      <td>0.0551543</td>\n",
              "      <td>0.0870101</td>\n",
              "    </tr>\n",
              "    <tr>\n",
              "      <th>popular</th>\n",
              "      <td>0.0026264</td>\n",
              "      <td>0.0223244</td>\n",
              "      <td>0.000317169</td>\n",
              "    </tr>\n",
              "  </tbody>\n",
              "</table>\n",
              "</div>\n",
              "      <button class=\"colab-df-convert\" onclick=\"convertToInteractive('df-2e8a7a92-4791-4f74-a05d-26b6cf3e90b2')\"\n",
              "              title=\"Convert this dataframe to an interactive table.\"\n",
              "              style=\"display:none;\">\n",
              "        \n",
              "  <svg xmlns=\"http://www.w3.org/2000/svg\" height=\"24px\"viewBox=\"0 0 24 24\"\n",
              "       width=\"24px\">\n",
              "    <path d=\"M0 0h24v24H0V0z\" fill=\"none\"/>\n",
              "    <path d=\"M18.56 5.44l.94 2.06.94-2.06 2.06-.94-2.06-.94-.94-2.06-.94 2.06-2.06.94zm-11 1L8.5 8.5l.94-2.06 2.06-.94-2.06-.94L8.5 2.5l-.94 2.06-2.06.94zm10 10l.94 2.06.94-2.06 2.06-.94-2.06-.94-.94-2.06-.94 2.06-2.06.94z\"/><path d=\"M17.41 7.96l-1.37-1.37c-.4-.4-.92-.59-1.43-.59-.52 0-1.04.2-1.43.59L10.3 9.45l-7.72 7.72c-.78.78-.78 2.05 0 2.83L4 21.41c.39.39.9.59 1.41.59.51 0 1.02-.2 1.41-.59l7.78-7.78 2.81-2.81c.8-.78.8-2.07 0-2.86zM5.41 20L4 18.59l7.72-7.72 1.47 1.35L5.41 20z\"/>\n",
              "  </svg>\n",
              "      </button>\n",
              "      \n",
              "  <style>\n",
              "    .colab-df-container {\n",
              "      display:flex;\n",
              "      flex-wrap:wrap;\n",
              "      gap: 12px;\n",
              "    }\n",
              "\n",
              "    .colab-df-convert {\n",
              "      background-color: #E8F0FE;\n",
              "      border: none;\n",
              "      border-radius: 50%;\n",
              "      cursor: pointer;\n",
              "      display: none;\n",
              "      fill: #1967D2;\n",
              "      height: 32px;\n",
              "      padding: 0 0 0 0;\n",
              "      width: 32px;\n",
              "    }\n",
              "\n",
              "    .colab-df-convert:hover {\n",
              "      background-color: #E2EBFA;\n",
              "      box-shadow: 0px 1px 2px rgba(60, 64, 67, 0.3), 0px 1px 3px 1px rgba(60, 64, 67, 0.15);\n",
              "      fill: #174EA6;\n",
              "    }\n",
              "\n",
              "    [theme=dark] .colab-df-convert {\n",
              "      background-color: #3B4455;\n",
              "      fill: #D2E3FC;\n",
              "    }\n",
              "\n",
              "    [theme=dark] .colab-df-convert:hover {\n",
              "      background-color: #434B5C;\n",
              "      box-shadow: 0px 1px 3px 1px rgba(0, 0, 0, 0.15);\n",
              "      filter: drop-shadow(0px 1px 2px rgba(0, 0, 0, 0.3));\n",
              "      fill: #FFFFFF;\n",
              "    }\n",
              "  </style>\n",
              "\n",
              "      <script>\n",
              "        const buttonEl =\n",
              "          document.querySelector('#df-2e8a7a92-4791-4f74-a05d-26b6cf3e90b2 button.colab-df-convert');\n",
              "        buttonEl.style.display =\n",
              "          google.colab.kernel.accessAllowed ? 'block' : 'none';\n",
              "\n",
              "        async function convertToInteractive(key) {\n",
              "          const element = document.querySelector('#df-2e8a7a92-4791-4f74-a05d-26b6cf3e90b2');\n",
              "          const dataTable =\n",
              "            await google.colab.kernel.invokeFunction('convertToInteractive',\n",
              "                                                     [key], {});\n",
              "          if (!dataTable) return;\n",
              "\n",
              "          const docLinkHtml = 'Like what you see? Visit the ' +\n",
              "            '<a target=\"_blank\" href=https://colab.research.google.com/notebooks/data_table.ipynb>data table notebook</a>'\n",
              "            + ' to learn more about interactive tables.';\n",
              "          element.innerHTML = '';\n",
              "          dataTable['output_type'] = 'display_data';\n",
              "          await google.colab.output.renderOutput(dataTable, element);\n",
              "          const docLink = document.createElement('div');\n",
              "          docLink.innerHTML = docLinkHtml;\n",
              "          element.appendChild(docLink);\n",
              "        }\n",
              "      </script>\n",
              "    </div>\n",
              "  </div>\n",
              "  "
            ]
          },
          "metadata": {},
          "execution_count": 134
        }
      ],
      "source": [
        "%%time\n",
        "measure(pred_feat, test_by_date, 'LightFM_rec_features_128_40', metrics, cov_items=filtered_df['item_id']).sort_values('hit_rate@K', ascending=False)"
      ],
      "id": "93b9a99a"
    },
    {
      "cell_type": "code",
      "source": [],
      "metadata": {
        "id": "cfSGYY1tfc0w"
      },
      "id": "cfSGYY1tfc0w",
      "execution_count": null,
      "outputs": []
    }
  ],
  "metadata": {
    "colab": {
      "collapsed_sections": [
        "95ff2f12",
        "5e9b14ae",
        "ef6ddc1f"
      ],
      "provenance": []
    },
    "kernelspec": {
      "display_name": "Python 3 (ipykernel)",
      "language": "python",
      "name": "python3"
    },
    "language_info": {
      "codemirror_mode": {
        "name": "ipython",
        "version": 3
      },
      "file_extension": ".py",
      "mimetype": "text/x-python",
      "name": "python",
      "nbconvert_exporter": "python",
      "pygments_lexer": "ipython3",
      "version": "3.9.7"
    }
  },
  "nbformat": 4,
  "nbformat_minor": 5
}